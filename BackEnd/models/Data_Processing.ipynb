{
  "cells": [
    {
      "cell_type": "markdown",
      "metadata": {
        "id": "Nf91k-e0yCen"
      },
      "source": [
        "# data preprocessing (data cleaning dan rename)"
      ]
    },
    {
      "cell_type": "code",
      "execution_count": 5,
      "metadata": {
        "id": "NkwhaPrdh9aH"
      },
      "outputs": [],
      "source": [
        "import pandas as pd"
      ]
    },
    {
      "cell_type": "code",
      "execution_count": 6,
      "metadata": {
        "id": "kUtkLKS_yI8p"
      },
      "outputs": [],
      "source": [
        "# Load dataset\n",
        "data = pd.read_csv('../data/Sleep_health_and_lifestyle_dataset.csv')"
      ]
    },
    {
      "cell_type": "code",
      "execution_count": 7,
      "metadata": {
        "colab": {
          "base_uri": "https://localhost:8080/",
          "height": 467
        },
        "id": "9mQhWM4ZydFw",
        "outputId": "566dbd31-8d60-4972-ecbe-76c19fe36cef"
      },
      "outputs": [
        {
          "data": {
            "text/html": [
              "<div>\n",
              "<style scoped>\n",
              "    .dataframe tbody tr th:only-of-type {\n",
              "        vertical-align: middle;\n",
              "    }\n",
              "\n",
              "    .dataframe tbody tr th {\n",
              "        vertical-align: top;\n",
              "    }\n",
              "\n",
              "    .dataframe thead th {\n",
              "        text-align: right;\n",
              "    }\n",
              "</style>\n",
              "<table border=\"1\" class=\"dataframe\">\n",
              "  <thead>\n",
              "    <tr style=\"text-align: right;\">\n",
              "      <th></th>\n",
              "      <th>Person ID</th>\n",
              "      <th>Gender</th>\n",
              "      <th>Age</th>\n",
              "      <th>Occupation</th>\n",
              "      <th>Sleep Duration</th>\n",
              "      <th>Quality of Sleep</th>\n",
              "      <th>Physical Activity Level</th>\n",
              "      <th>Stress Level</th>\n",
              "      <th>BMI Category</th>\n",
              "      <th>Blood Pressure</th>\n",
              "      <th>Heart Rate</th>\n",
              "      <th>Daily Steps</th>\n",
              "      <th>Sleep Disorder</th>\n",
              "    </tr>\n",
              "  </thead>\n",
              "  <tbody>\n",
              "    <tr>\n",
              "      <th>0</th>\n",
              "      <td>1</td>\n",
              "      <td>Male</td>\n",
              "      <td>27</td>\n",
              "      <td>Software Engineer</td>\n",
              "      <td>6.1</td>\n",
              "      <td>6</td>\n",
              "      <td>42</td>\n",
              "      <td>6</td>\n",
              "      <td>Overweight</td>\n",
              "      <td>126/83</td>\n",
              "      <td>77</td>\n",
              "      <td>4200</td>\n",
              "      <td>NaN</td>\n",
              "    </tr>\n",
              "    <tr>\n",
              "      <th>1</th>\n",
              "      <td>2</td>\n",
              "      <td>Male</td>\n",
              "      <td>28</td>\n",
              "      <td>Doctor</td>\n",
              "      <td>6.2</td>\n",
              "      <td>6</td>\n",
              "      <td>60</td>\n",
              "      <td>8</td>\n",
              "      <td>Normal</td>\n",
              "      <td>125/80</td>\n",
              "      <td>75</td>\n",
              "      <td>10000</td>\n",
              "      <td>NaN</td>\n",
              "    </tr>\n",
              "    <tr>\n",
              "      <th>2</th>\n",
              "      <td>3</td>\n",
              "      <td>Male</td>\n",
              "      <td>28</td>\n",
              "      <td>Doctor</td>\n",
              "      <td>6.2</td>\n",
              "      <td>6</td>\n",
              "      <td>60</td>\n",
              "      <td>8</td>\n",
              "      <td>Normal</td>\n",
              "      <td>125/80</td>\n",
              "      <td>75</td>\n",
              "      <td>10000</td>\n",
              "      <td>NaN</td>\n",
              "    </tr>\n",
              "    <tr>\n",
              "      <th>3</th>\n",
              "      <td>4</td>\n",
              "      <td>Male</td>\n",
              "      <td>28</td>\n",
              "      <td>Sales Representative</td>\n",
              "      <td>5.9</td>\n",
              "      <td>4</td>\n",
              "      <td>30</td>\n",
              "      <td>8</td>\n",
              "      <td>Obese</td>\n",
              "      <td>140/90</td>\n",
              "      <td>85</td>\n",
              "      <td>3000</td>\n",
              "      <td>Sleep Apnea</td>\n",
              "    </tr>\n",
              "    <tr>\n",
              "      <th>4</th>\n",
              "      <td>5</td>\n",
              "      <td>Male</td>\n",
              "      <td>28</td>\n",
              "      <td>Sales Representative</td>\n",
              "      <td>5.9</td>\n",
              "      <td>4</td>\n",
              "      <td>30</td>\n",
              "      <td>8</td>\n",
              "      <td>Obese</td>\n",
              "      <td>140/90</td>\n",
              "      <td>85</td>\n",
              "      <td>3000</td>\n",
              "      <td>Sleep Apnea</td>\n",
              "    </tr>\n",
              "    <tr>\n",
              "      <th>5</th>\n",
              "      <td>6</td>\n",
              "      <td>Male</td>\n",
              "      <td>28</td>\n",
              "      <td>Software Engineer</td>\n",
              "      <td>5.9</td>\n",
              "      <td>4</td>\n",
              "      <td>30</td>\n",
              "      <td>8</td>\n",
              "      <td>Obese</td>\n",
              "      <td>140/90</td>\n",
              "      <td>85</td>\n",
              "      <td>3000</td>\n",
              "      <td>Insomnia</td>\n",
              "    </tr>\n",
              "    <tr>\n",
              "      <th>6</th>\n",
              "      <td>7</td>\n",
              "      <td>Male</td>\n",
              "      <td>29</td>\n",
              "      <td>Teacher</td>\n",
              "      <td>6.3</td>\n",
              "      <td>6</td>\n",
              "      <td>40</td>\n",
              "      <td>7</td>\n",
              "      <td>Obese</td>\n",
              "      <td>140/90</td>\n",
              "      <td>82</td>\n",
              "      <td>3500</td>\n",
              "      <td>Insomnia</td>\n",
              "    </tr>\n",
              "    <tr>\n",
              "      <th>7</th>\n",
              "      <td>8</td>\n",
              "      <td>Male</td>\n",
              "      <td>29</td>\n",
              "      <td>Doctor</td>\n",
              "      <td>7.8</td>\n",
              "      <td>7</td>\n",
              "      <td>75</td>\n",
              "      <td>6</td>\n",
              "      <td>Normal</td>\n",
              "      <td>120/80</td>\n",
              "      <td>70</td>\n",
              "      <td>8000</td>\n",
              "      <td>NaN</td>\n",
              "    </tr>\n",
              "    <tr>\n",
              "      <th>8</th>\n",
              "      <td>9</td>\n",
              "      <td>Male</td>\n",
              "      <td>29</td>\n",
              "      <td>Doctor</td>\n",
              "      <td>7.8</td>\n",
              "      <td>7</td>\n",
              "      <td>75</td>\n",
              "      <td>6</td>\n",
              "      <td>Normal</td>\n",
              "      <td>120/80</td>\n",
              "      <td>70</td>\n",
              "      <td>8000</td>\n",
              "      <td>NaN</td>\n",
              "    </tr>\n",
              "    <tr>\n",
              "      <th>9</th>\n",
              "      <td>10</td>\n",
              "      <td>Male</td>\n",
              "      <td>29</td>\n",
              "      <td>Doctor</td>\n",
              "      <td>7.8</td>\n",
              "      <td>7</td>\n",
              "      <td>75</td>\n",
              "      <td>6</td>\n",
              "      <td>Normal</td>\n",
              "      <td>120/80</td>\n",
              "      <td>70</td>\n",
              "      <td>8000</td>\n",
              "      <td>NaN</td>\n",
              "    </tr>\n",
              "  </tbody>\n",
              "</table>\n",
              "</div>"
            ],
            "text/plain": [
              "   Person ID Gender  Age            Occupation  Sleep Duration  \\\n",
              "0          1   Male   27     Software Engineer             6.1   \n",
              "1          2   Male   28                Doctor             6.2   \n",
              "2          3   Male   28                Doctor             6.2   \n",
              "3          4   Male   28  Sales Representative             5.9   \n",
              "4          5   Male   28  Sales Representative             5.9   \n",
              "5          6   Male   28     Software Engineer             5.9   \n",
              "6          7   Male   29               Teacher             6.3   \n",
              "7          8   Male   29                Doctor             7.8   \n",
              "8          9   Male   29                Doctor             7.8   \n",
              "9         10   Male   29                Doctor             7.8   \n",
              "\n",
              "   Quality of Sleep  Physical Activity Level  Stress Level BMI Category  \\\n",
              "0                 6                       42             6   Overweight   \n",
              "1                 6                       60             8       Normal   \n",
              "2                 6                       60             8       Normal   \n",
              "3                 4                       30             8        Obese   \n",
              "4                 4                       30             8        Obese   \n",
              "5                 4                       30             8        Obese   \n",
              "6                 6                       40             7        Obese   \n",
              "7                 7                       75             6       Normal   \n",
              "8                 7                       75             6       Normal   \n",
              "9                 7                       75             6       Normal   \n",
              "\n",
              "  Blood Pressure  Heart Rate  Daily Steps Sleep Disorder  \n",
              "0         126/83          77         4200            NaN  \n",
              "1         125/80          75        10000            NaN  \n",
              "2         125/80          75        10000            NaN  \n",
              "3         140/90          85         3000    Sleep Apnea  \n",
              "4         140/90          85         3000    Sleep Apnea  \n",
              "5         140/90          85         3000       Insomnia  \n",
              "6         140/90          82         3500       Insomnia  \n",
              "7         120/80          70         8000            NaN  \n",
              "8         120/80          70         8000            NaN  \n",
              "9         120/80          70         8000            NaN  "
            ]
          },
          "execution_count": 7,
          "metadata": {},
          "output_type": "execute_result"
        }
      ],
      "source": [
        "data.head(10)"
      ]
    },
    {
      "cell_type": "code",
      "execution_count": 8,
      "metadata": {},
      "outputs": [
        {
          "data": {
            "text/plain": [
              "Person ID                    int64\n",
              "Gender                      object\n",
              "Age                          int64\n",
              "Occupation                  object\n",
              "Sleep Duration             float64\n",
              "Quality of Sleep             int64\n",
              "Physical Activity Level      int64\n",
              "Stress Level                 int64\n",
              "BMI Category                object\n",
              "Blood Pressure              object\n",
              "Heart Rate                   int64\n",
              "Daily Steps                  int64\n",
              "Sleep Disorder              object\n",
              "dtype: object"
            ]
          },
          "execution_count": 8,
          "metadata": {},
          "output_type": "execute_result"
        }
      ],
      "source": [
        "# melihat tipa data setiap kolom\n",
        "data.dtypes"
      ]
    },
    {
      "cell_type": "markdown",
      "metadata": {
        "id": "WKxhmPyvykjc"
      },
      "source": [
        "untuk menghindari bias dalam analisis dan menhindari performa data turun"
      ]
    },
    {
      "cell_type": "code",
      "execution_count": 42,
      "metadata": {
        "colab": {
          "base_uri": "https://localhost:8080/"
        },
        "id": "66O-9BQ7ydRh",
        "outputId": "ef38bb01-8cb0-4306-fc42-950153513063"
      },
      "outputs": [
        {
          "name": "stdout",
          "output_type": "stream",
          "text": [
            "Gender                     0\n",
            "Age                        0\n",
            "Sleep Duration             0\n",
            "Quality of Sleep           0\n",
            "Physical Activity Level    0\n",
            "Stress Level               0\n",
            "BMI Category               0\n",
            "Heart Rate                 0\n",
            "Daily Steps                0\n",
            "Sleep Disorder             0\n",
            "Systolic                   0\n",
            "Diastolic                  0\n",
            "dtype: int64\n"
          ]
        }
      ],
      "source": [
        "# Memeriksa nilai kosong\n",
        "missing_values = data.isnull().sum()\n",
        "print(missing_values)"
      ]
    },
    {
      "cell_type": "markdown",
      "metadata": {
        "id": "FMsjMBkYyt2D"
      },
      "source": [
        "memastikan datanya tetap lengkap untuk digunakan dalam analisis selanjutnya"
      ]
    },
    {
      "cell_type": "code",
      "execution_count": 10,
      "metadata": {
        "colab": {
          "base_uri": "https://localhost:8080/"
        },
        "id": "_nfHt6-hydeF",
        "outputId": "87a2530b-13b6-4ec8-ab84-fdbd0f683979"
      },
      "outputs": [
        {
          "data": {
            "text/plain": [
              "Sleep Disorder\n",
              "Healthy Sleep    219\n",
              "Sleep Apnea       78\n",
              "Insomnia          77\n",
              "Name: count, dtype: int64"
            ]
          },
          "execution_count": 10,
          "metadata": {},
          "output_type": "execute_result"
        }
      ],
      "source": [
        "# Mengisi baris yang mengandung nilai kosong\n",
        "data['Sleep Disorder'] = data['Sleep Disorder'].fillna('Healthy Sleep')\n",
        "data['Sleep Disorder'].value_counts()"
      ]
    },
    {
      "cell_type": "markdown",
      "metadata": {
        "id": "9nS749Xiy0_B"
      },
      "source": [
        "untuk menghindari overfitting (model bekerja dengan baik pada data pelatihan tetapi gagal generalisasi pada data baru)"
      ]
    },
    {
      "cell_type": "code",
      "execution_count": 11,
      "metadata": {
        "colab": {
          "base_uri": "https://localhost:8080/"
        },
        "id": "344fL501yx67",
        "outputId": "197597aa-b93f-426b-b975-34e89b4ba2a5"
      },
      "outputs": [
        {
          "name": "stdout",
          "output_type": "stream",
          "text": [
            "Data Duplikat :  0\n"
          ]
        }
      ],
      "source": [
        "# Memeriksa data yang duplikat\n",
        "print('Data Duplikat : ', data.duplicated().sum())"
      ]
    },
    {
      "cell_type": "markdown",
      "metadata": {
        "id": "l70EvN8MzCv9"
      },
      "source": [
        "untuk dapat menganalisis yang lebih terperinci terhadap data tekanan darah."
      ]
    },
    {
      "cell_type": "code",
      "execution_count": 12,
      "metadata": {
        "colab": {
          "base_uri": "https://localhost:8080/",
          "height": 327
        },
        "id": "BFWNq5Ejy-81",
        "outputId": "99c0226f-f82e-45a1-814e-3e7ab79d8ceb"
      },
      "outputs": [
        {
          "data": {
            "text/html": [
              "<div>\n",
              "<style scoped>\n",
              "    .dataframe tbody tr th:only-of-type {\n",
              "        vertical-align: middle;\n",
              "    }\n",
              "\n",
              "    .dataframe tbody tr th {\n",
              "        vertical-align: top;\n",
              "    }\n",
              "\n",
              "    .dataframe thead th {\n",
              "        text-align: right;\n",
              "    }\n",
              "</style>\n",
              "<table border=\"1\" class=\"dataframe\">\n",
              "  <thead>\n",
              "    <tr style=\"text-align: right;\">\n",
              "      <th></th>\n",
              "      <th>Person ID</th>\n",
              "      <th>Gender</th>\n",
              "      <th>Age</th>\n",
              "      <th>Occupation</th>\n",
              "      <th>Sleep Duration</th>\n",
              "      <th>Quality of Sleep</th>\n",
              "      <th>Physical Activity Level</th>\n",
              "      <th>Stress Level</th>\n",
              "      <th>BMI Category</th>\n",
              "      <th>Blood Pressure</th>\n",
              "      <th>Heart Rate</th>\n",
              "      <th>Daily Steps</th>\n",
              "      <th>Sleep Disorder</th>\n",
              "      <th>Systolic</th>\n",
              "      <th>Diastolic</th>\n",
              "    </tr>\n",
              "  </thead>\n",
              "  <tbody>\n",
              "    <tr>\n",
              "      <th>0</th>\n",
              "      <td>1</td>\n",
              "      <td>Male</td>\n",
              "      <td>27</td>\n",
              "      <td>Software Engineer</td>\n",
              "      <td>6.1</td>\n",
              "      <td>6</td>\n",
              "      <td>42</td>\n",
              "      <td>6</td>\n",
              "      <td>Overweight</td>\n",
              "      <td>126/83</td>\n",
              "      <td>77</td>\n",
              "      <td>4200</td>\n",
              "      <td>Healthy Sleep</td>\n",
              "      <td>126.0</td>\n",
              "      <td>83.0</td>\n",
              "    </tr>\n",
              "    <tr>\n",
              "      <th>1</th>\n",
              "      <td>2</td>\n",
              "      <td>Male</td>\n",
              "      <td>28</td>\n",
              "      <td>Doctor</td>\n",
              "      <td>6.2</td>\n",
              "      <td>6</td>\n",
              "      <td>60</td>\n",
              "      <td>8</td>\n",
              "      <td>Normal</td>\n",
              "      <td>125/80</td>\n",
              "      <td>75</td>\n",
              "      <td>10000</td>\n",
              "      <td>Healthy Sleep</td>\n",
              "      <td>125.0</td>\n",
              "      <td>80.0</td>\n",
              "    </tr>\n",
              "    <tr>\n",
              "      <th>2</th>\n",
              "      <td>3</td>\n",
              "      <td>Male</td>\n",
              "      <td>28</td>\n",
              "      <td>Doctor</td>\n",
              "      <td>6.2</td>\n",
              "      <td>6</td>\n",
              "      <td>60</td>\n",
              "      <td>8</td>\n",
              "      <td>Normal</td>\n",
              "      <td>125/80</td>\n",
              "      <td>75</td>\n",
              "      <td>10000</td>\n",
              "      <td>Healthy Sleep</td>\n",
              "      <td>125.0</td>\n",
              "      <td>80.0</td>\n",
              "    </tr>\n",
              "    <tr>\n",
              "      <th>3</th>\n",
              "      <td>4</td>\n",
              "      <td>Male</td>\n",
              "      <td>28</td>\n",
              "      <td>Sales Representative</td>\n",
              "      <td>5.9</td>\n",
              "      <td>4</td>\n",
              "      <td>30</td>\n",
              "      <td>8</td>\n",
              "      <td>Obese</td>\n",
              "      <td>140/90</td>\n",
              "      <td>85</td>\n",
              "      <td>3000</td>\n",
              "      <td>Sleep Apnea</td>\n",
              "      <td>140.0</td>\n",
              "      <td>90.0</td>\n",
              "    </tr>\n",
              "    <tr>\n",
              "      <th>4</th>\n",
              "      <td>5</td>\n",
              "      <td>Male</td>\n",
              "      <td>28</td>\n",
              "      <td>Sales Representative</td>\n",
              "      <td>5.9</td>\n",
              "      <td>4</td>\n",
              "      <td>30</td>\n",
              "      <td>8</td>\n",
              "      <td>Obese</td>\n",
              "      <td>140/90</td>\n",
              "      <td>85</td>\n",
              "      <td>3000</td>\n",
              "      <td>Sleep Apnea</td>\n",
              "      <td>140.0</td>\n",
              "      <td>90.0</td>\n",
              "    </tr>\n",
              "  </tbody>\n",
              "</table>\n",
              "</div>"
            ],
            "text/plain": [
              "   Person ID Gender  Age            Occupation  Sleep Duration  \\\n",
              "0          1   Male   27     Software Engineer             6.1   \n",
              "1          2   Male   28                Doctor             6.2   \n",
              "2          3   Male   28                Doctor             6.2   \n",
              "3          4   Male   28  Sales Representative             5.9   \n",
              "4          5   Male   28  Sales Representative             5.9   \n",
              "\n",
              "   Quality of Sleep  Physical Activity Level  Stress Level BMI Category  \\\n",
              "0                 6                       42             6   Overweight   \n",
              "1                 6                       60             8       Normal   \n",
              "2                 6                       60             8       Normal   \n",
              "3                 4                       30             8        Obese   \n",
              "4                 4                       30             8        Obese   \n",
              "\n",
              "  Blood Pressure  Heart Rate  Daily Steps Sleep Disorder  Systolic  Diastolic  \n",
              "0         126/83          77         4200  Healthy Sleep     126.0       83.0  \n",
              "1         125/80          75        10000  Healthy Sleep     125.0       80.0  \n",
              "2         125/80          75        10000  Healthy Sleep     125.0       80.0  \n",
              "3         140/90          85         3000    Sleep Apnea     140.0       90.0  \n",
              "4         140/90          85         3000    Sleep Apnea     140.0       90.0  "
            ]
          },
          "execution_count": 12,
          "metadata": {},
          "output_type": "execute_result"
        }
      ],
      "source": [
        "# Memisahkan kolom 'Blood Pressure' menjadi dua kolom 'Systolic' dan 'Diastolic'\n",
        "data[['Systolic', 'Diastolic']] = data['Blood Pressure'].str.split('/', expand=True)\n",
        "data['Systolic'] = data['Systolic'].astype(float)\n",
        "data['Diastolic'] = data['Diastolic'].astype(float)\n",
        "\n",
        "data.head()"
      ]
    },
    {
      "cell_type": "code",
      "execution_count": 13,
      "metadata": {},
      "outputs": [
        {
          "data": {
            "text/html": [
              "<div>\n",
              "<style scoped>\n",
              "    .dataframe tbody tr th:only-of-type {\n",
              "        vertical-align: middle;\n",
              "    }\n",
              "\n",
              "    .dataframe tbody tr th {\n",
              "        vertical-align: top;\n",
              "    }\n",
              "\n",
              "    .dataframe thead th {\n",
              "        text-align: right;\n",
              "    }\n",
              "</style>\n",
              "<table border=\"1\" class=\"dataframe\">\n",
              "  <thead>\n",
              "    <tr style=\"text-align: right;\">\n",
              "      <th></th>\n",
              "      <th>Person ID</th>\n",
              "      <th>Age</th>\n",
              "      <th>Sleep Duration</th>\n",
              "      <th>Quality of Sleep</th>\n",
              "      <th>Physical Activity Level</th>\n",
              "      <th>Stress Level</th>\n",
              "      <th>Heart Rate</th>\n",
              "      <th>Daily Steps</th>\n",
              "      <th>Systolic</th>\n",
              "      <th>Diastolic</th>\n",
              "    </tr>\n",
              "  </thead>\n",
              "  <tbody>\n",
              "    <tr>\n",
              "      <th>count</th>\n",
              "      <td>374.000000</td>\n",
              "      <td>374.000000</td>\n",
              "      <td>374.000000</td>\n",
              "      <td>374.000000</td>\n",
              "      <td>374.000000</td>\n",
              "      <td>374.000000</td>\n",
              "      <td>374.000000</td>\n",
              "      <td>374.000000</td>\n",
              "      <td>374.000000</td>\n",
              "      <td>374.000000</td>\n",
              "    </tr>\n",
              "    <tr>\n",
              "      <th>mean</th>\n",
              "      <td>187.500000</td>\n",
              "      <td>42.184492</td>\n",
              "      <td>7.132086</td>\n",
              "      <td>7.312834</td>\n",
              "      <td>59.171123</td>\n",
              "      <td>5.385027</td>\n",
              "      <td>70.165775</td>\n",
              "      <td>6816.844920</td>\n",
              "      <td>128.553476</td>\n",
              "      <td>84.649733</td>\n",
              "    </tr>\n",
              "    <tr>\n",
              "      <th>std</th>\n",
              "      <td>108.108742</td>\n",
              "      <td>8.673133</td>\n",
              "      <td>0.795657</td>\n",
              "      <td>1.196956</td>\n",
              "      <td>20.830804</td>\n",
              "      <td>1.774526</td>\n",
              "      <td>4.135676</td>\n",
              "      <td>1617.915679</td>\n",
              "      <td>7.748118</td>\n",
              "      <td>6.161611</td>\n",
              "    </tr>\n",
              "    <tr>\n",
              "      <th>min</th>\n",
              "      <td>1.000000</td>\n",
              "      <td>27.000000</td>\n",
              "      <td>5.800000</td>\n",
              "      <td>4.000000</td>\n",
              "      <td>30.000000</td>\n",
              "      <td>3.000000</td>\n",
              "      <td>65.000000</td>\n",
              "      <td>3000.000000</td>\n",
              "      <td>115.000000</td>\n",
              "      <td>75.000000</td>\n",
              "    </tr>\n",
              "    <tr>\n",
              "      <th>25%</th>\n",
              "      <td>94.250000</td>\n",
              "      <td>35.250000</td>\n",
              "      <td>6.400000</td>\n",
              "      <td>6.000000</td>\n",
              "      <td>45.000000</td>\n",
              "      <td>4.000000</td>\n",
              "      <td>68.000000</td>\n",
              "      <td>5600.000000</td>\n",
              "      <td>125.000000</td>\n",
              "      <td>80.000000</td>\n",
              "    </tr>\n",
              "    <tr>\n",
              "      <th>50%</th>\n",
              "      <td>187.500000</td>\n",
              "      <td>43.000000</td>\n",
              "      <td>7.200000</td>\n",
              "      <td>7.000000</td>\n",
              "      <td>60.000000</td>\n",
              "      <td>5.000000</td>\n",
              "      <td>70.000000</td>\n",
              "      <td>7000.000000</td>\n",
              "      <td>130.000000</td>\n",
              "      <td>85.000000</td>\n",
              "    </tr>\n",
              "    <tr>\n",
              "      <th>75%</th>\n",
              "      <td>280.750000</td>\n",
              "      <td>50.000000</td>\n",
              "      <td>7.800000</td>\n",
              "      <td>8.000000</td>\n",
              "      <td>75.000000</td>\n",
              "      <td>7.000000</td>\n",
              "      <td>72.000000</td>\n",
              "      <td>8000.000000</td>\n",
              "      <td>135.000000</td>\n",
              "      <td>90.000000</td>\n",
              "    </tr>\n",
              "    <tr>\n",
              "      <th>max</th>\n",
              "      <td>374.000000</td>\n",
              "      <td>59.000000</td>\n",
              "      <td>8.500000</td>\n",
              "      <td>9.000000</td>\n",
              "      <td>90.000000</td>\n",
              "      <td>8.000000</td>\n",
              "      <td>86.000000</td>\n",
              "      <td>10000.000000</td>\n",
              "      <td>142.000000</td>\n",
              "      <td>95.000000</td>\n",
              "    </tr>\n",
              "  </tbody>\n",
              "</table>\n",
              "</div>"
            ],
            "text/plain": [
              "        Person ID         Age  Sleep Duration  Quality of Sleep  \\\n",
              "count  374.000000  374.000000      374.000000        374.000000   \n",
              "mean   187.500000   42.184492        7.132086          7.312834   \n",
              "std    108.108742    8.673133        0.795657          1.196956   \n",
              "min      1.000000   27.000000        5.800000          4.000000   \n",
              "25%     94.250000   35.250000        6.400000          6.000000   \n",
              "50%    187.500000   43.000000        7.200000          7.000000   \n",
              "75%    280.750000   50.000000        7.800000          8.000000   \n",
              "max    374.000000   59.000000        8.500000          9.000000   \n",
              "\n",
              "       Physical Activity Level  Stress Level  Heart Rate   Daily Steps  \\\n",
              "count               374.000000    374.000000  374.000000    374.000000   \n",
              "mean                 59.171123      5.385027   70.165775   6816.844920   \n",
              "std                  20.830804      1.774526    4.135676   1617.915679   \n",
              "min                  30.000000      3.000000   65.000000   3000.000000   \n",
              "25%                  45.000000      4.000000   68.000000   5600.000000   \n",
              "50%                  60.000000      5.000000   70.000000   7000.000000   \n",
              "75%                  75.000000      7.000000   72.000000   8000.000000   \n",
              "max                  90.000000      8.000000   86.000000  10000.000000   \n",
              "\n",
              "         Systolic   Diastolic  \n",
              "count  374.000000  374.000000  \n",
              "mean   128.553476   84.649733  \n",
              "std      7.748118    6.161611  \n",
              "min    115.000000   75.000000  \n",
              "25%    125.000000   80.000000  \n",
              "50%    130.000000   85.000000  \n",
              "75%    135.000000   90.000000  \n",
              "max    142.000000   95.000000  "
            ]
          },
          "execution_count": 13,
          "metadata": {},
          "output_type": "execute_result"
        }
      ],
      "source": [
        "# melihat statistik sleep disorder berdasarkan masing-masing kolom\n",
        "data.describe()"
      ]
    },
    {
      "cell_type": "markdown",
      "metadata": {
        "id": "-kjTX8M8zK8N"
      },
      "source": [
        "mengurangi kompleksitas data dan memfokuskan analisis pada fitur-fitur yang diperlukan"
      ]
    },
    {
      "cell_type": "code",
      "execution_count": 14,
      "metadata": {
        "colab": {
          "base_uri": "https://localhost:8080/",
          "height": 223
        },
        "id": "ZD4WXKvXzL3l",
        "outputId": "2ca567e5-744f-4779-fcae-4ec41918f306"
      },
      "outputs": [
        {
          "data": {
            "text/html": [
              "<div>\n",
              "<style scoped>\n",
              "    .dataframe tbody tr th:only-of-type {\n",
              "        vertical-align: middle;\n",
              "    }\n",
              "\n",
              "    .dataframe tbody tr th {\n",
              "        vertical-align: top;\n",
              "    }\n",
              "\n",
              "    .dataframe thead th {\n",
              "        text-align: right;\n",
              "    }\n",
              "</style>\n",
              "<table border=\"1\" class=\"dataframe\">\n",
              "  <thead>\n",
              "    <tr style=\"text-align: right;\">\n",
              "      <th></th>\n",
              "      <th>Gender</th>\n",
              "      <th>Age</th>\n",
              "      <th>Sleep Duration</th>\n",
              "      <th>Quality of Sleep</th>\n",
              "      <th>Physical Activity Level</th>\n",
              "      <th>Stress Level</th>\n",
              "      <th>BMI Category</th>\n",
              "      <th>Heart Rate</th>\n",
              "      <th>Daily Steps</th>\n",
              "      <th>Sleep Disorder</th>\n",
              "      <th>Systolic</th>\n",
              "      <th>Diastolic</th>\n",
              "    </tr>\n",
              "  </thead>\n",
              "  <tbody>\n",
              "    <tr>\n",
              "      <th>0</th>\n",
              "      <td>Male</td>\n",
              "      <td>27</td>\n",
              "      <td>6.1</td>\n",
              "      <td>6</td>\n",
              "      <td>42</td>\n",
              "      <td>6</td>\n",
              "      <td>Overweight</td>\n",
              "      <td>77</td>\n",
              "      <td>4200</td>\n",
              "      <td>Healthy Sleep</td>\n",
              "      <td>126.0</td>\n",
              "      <td>83.0</td>\n",
              "    </tr>\n",
              "    <tr>\n",
              "      <th>1</th>\n",
              "      <td>Male</td>\n",
              "      <td>28</td>\n",
              "      <td>6.2</td>\n",
              "      <td>6</td>\n",
              "      <td>60</td>\n",
              "      <td>8</td>\n",
              "      <td>Normal</td>\n",
              "      <td>75</td>\n",
              "      <td>10000</td>\n",
              "      <td>Healthy Sleep</td>\n",
              "      <td>125.0</td>\n",
              "      <td>80.0</td>\n",
              "    </tr>\n",
              "    <tr>\n",
              "      <th>2</th>\n",
              "      <td>Male</td>\n",
              "      <td>28</td>\n",
              "      <td>6.2</td>\n",
              "      <td>6</td>\n",
              "      <td>60</td>\n",
              "      <td>8</td>\n",
              "      <td>Normal</td>\n",
              "      <td>75</td>\n",
              "      <td>10000</td>\n",
              "      <td>Healthy Sleep</td>\n",
              "      <td>125.0</td>\n",
              "      <td>80.0</td>\n",
              "    </tr>\n",
              "    <tr>\n",
              "      <th>3</th>\n",
              "      <td>Male</td>\n",
              "      <td>28</td>\n",
              "      <td>5.9</td>\n",
              "      <td>4</td>\n",
              "      <td>30</td>\n",
              "      <td>8</td>\n",
              "      <td>Obese</td>\n",
              "      <td>85</td>\n",
              "      <td>3000</td>\n",
              "      <td>Sleep Apnea</td>\n",
              "      <td>140.0</td>\n",
              "      <td>90.0</td>\n",
              "    </tr>\n",
              "    <tr>\n",
              "      <th>4</th>\n",
              "      <td>Male</td>\n",
              "      <td>28</td>\n",
              "      <td>5.9</td>\n",
              "      <td>4</td>\n",
              "      <td>30</td>\n",
              "      <td>8</td>\n",
              "      <td>Obese</td>\n",
              "      <td>85</td>\n",
              "      <td>3000</td>\n",
              "      <td>Sleep Apnea</td>\n",
              "      <td>140.0</td>\n",
              "      <td>90.0</td>\n",
              "    </tr>\n",
              "  </tbody>\n",
              "</table>\n",
              "</div>"
            ],
            "text/plain": [
              "  Gender  Age  Sleep Duration  Quality of Sleep  Physical Activity Level  \\\n",
              "0   Male   27             6.1                 6                       42   \n",
              "1   Male   28             6.2                 6                       60   \n",
              "2   Male   28             6.2                 6                       60   \n",
              "3   Male   28             5.9                 4                       30   \n",
              "4   Male   28             5.9                 4                       30   \n",
              "\n",
              "   Stress Level BMI Category  Heart Rate  Daily Steps Sleep Disorder  \\\n",
              "0             6   Overweight          77         4200  Healthy Sleep   \n",
              "1             8       Normal          75        10000  Healthy Sleep   \n",
              "2             8       Normal          75        10000  Healthy Sleep   \n",
              "3             8        Obese          85         3000    Sleep Apnea   \n",
              "4             8        Obese          85         3000    Sleep Apnea   \n",
              "\n",
              "   Systolic  Diastolic  \n",
              "0     126.0       83.0  \n",
              "1     125.0       80.0  \n",
              "2     125.0       80.0  \n",
              "3     140.0       90.0  \n",
              "4     140.0       90.0  "
            ]
          },
          "execution_count": 14,
          "metadata": {},
          "output_type": "execute_result"
        }
      ],
      "source": [
        "# Menghapus kolom yang tidak diperlukan\n",
        "data = data.copy()\n",
        "data = data.drop(['Person ID', 'Blood Pressure', 'Occupation'], axis=1)\n",
        "data.head()"
      ]
    },
    {
      "cell_type": "markdown",
      "metadata": {
        "id": "8hARqDHhzSjm"
      },
      "source": [
        "# data visualization"
      ]
    },
    {
      "cell_type": "markdown",
      "metadata": {
        "id": "0UzPX7jazPb6"
      },
      "source": []
    },
    {
      "cell_type": "code",
      "execution_count": 15,
      "metadata": {
        "id": "rvLI0lm0zVG8"
      },
      "outputs": [],
      "source": [
        "import seaborn as sns\n",
        "import matplotlib.pyplot as plt\n",
        "import plotly.express as px"
      ]
    },
    {
      "cell_type": "code",
      "execution_count": 16,
      "metadata": {
        "colab": {
          "base_uri": "https://localhost:8080/",
          "height": 839
        },
        "id": "Tu1yhdunzb4R",
        "outputId": "4bfa3ad5-402f-4d63-9592-2186a4d45999"
      },
      "outputs": [
        {
          "data": {
            "image/png": "[encoded data removed]",
            "text/plain": [
              "<Figure size 1200x800 with 2 Axes>"
            ]
          },
          "metadata": {},
          "output_type": "display_data"
        }
      ],
      "source": [
        "# Memeriksa korelasi antara fitur numerik menggunakan heatmap\n",
        "num_cols = data.select_dtypes(include=['int64', 'float64']).columns\n",
        "plt.figure(figsize=(12, 8))\n",
        "sns.heatmap(data[num_cols].corr(), annot=True, cmap='coolwarm')\n",
        "plt.title('Heatmap Corelation')\n",
        "plt.show()"
      ]
    },
    {
      "cell_type": "code",
      "execution_count": 17,
      "metadata": {
        "colab": {
          "base_uri": "https://localhost:8080/",
          "height": 542
        },
        "id": "EQRNEBMAzhXm",
        "outputId": "96ab963a-b98a-4608-f175-04f919ccbfda"
      },
      "outputs": [
        {
          "data": {
            "application/vnd.plotly.v1+json": {
              "config": {
                "plotlyServerURL": "https://plot.ly"
              },
              "data": [
                {
                  "alignmentgroup": "True",
                  "bingroup": "x",
                  "hovertemplate": "Sleep Disorder=%{x}<br>count=%{y}<extra></extra>",
                  "legendgroup": "Healthy Sleep",
                  "marker": {
                    "color": "#636efa",
                    "pattern": {
                      "shape": ""
                    }
                  },
                  "name": "Healthy Sleep",
                  "offsetgroup": "Healthy Sleep",
                  "orientation": "v",
                  "showlegend": true,
                  "type": "histogram",
                  "x": [
                    "Healthy Sleep",
                    "Healthy Sleep",
                    "Healthy Sleep",
                    "Healthy Sleep",
                    "Healthy Sleep",
                    "Healthy Sleep",
                    "Healthy Sleep",
                    "Healthy Sleep",
                    "Healthy Sleep",
                    "Healthy Sleep",
                    "Healthy Sleep",
                    "Healthy Sleep",
                    "Healthy Sleep",
                    "Healthy Sleep",
                    "Healthy Sleep",
                    "Healthy Sleep",
                    "Healthy Sleep",
                    "Healthy Sleep",
                    "Healthy Sleep",
                    "Healthy Sleep",
                    "Healthy Sleep",
                    "Healthy Sleep",
                    "Healthy Sleep",
                    "Healthy Sleep",
                    "Healthy Sleep",
                    "Healthy Sleep",
                    "Healthy Sleep",
                    "Healthy Sleep",
                    "Healthy Sleep",
                    "Healthy Sleep",
                    "Healthy Sleep",
                    "Healthy Sleep",
                    "Healthy Sleep",
                    "Healthy Sleep",
                    "Healthy Sleep",
                    "Healthy Sleep",
                    "Healthy Sleep",
                    "Healthy Sleep",
                    "Healthy Sleep",
                    "Healthy Sleep",
                    "Healthy Sleep",
                    "Healthy Sleep",
                    "Healthy Sleep",
                    "Healthy Sleep",
                    "Healthy Sleep",
                    "Healthy Sleep",
                    "Healthy Sleep",
                    "Healthy Sleep",
                    "Healthy Sleep",
                    "Healthy Sleep",
                    "Healthy Sleep",
                    "Healthy Sleep",
                    "Healthy Sleep",
                    "Healthy Sleep",
                    "Healthy Sleep",
                    "Healthy Sleep",
                    "Healthy Sleep",
                    "Healthy Sleep",
                    "Healthy Sleep",
                    "Healthy Sleep",
                    "Healthy Sleep",
                    "Healthy Sleep",
                    "Healthy Sleep",
                    "Healthy Sleep",
                    "Healthy Sleep",
                    "Healthy Sleep",
                    "Healthy Sleep",
                    "Healthy Sleep",
                    "Healthy Sleep",
                    "Healthy Sleep",
                    "Healthy Sleep",
                    "Healthy Sleep",
                    "Healthy Sleep",
                    "Healthy Sleep",
                    "Healthy Sleep",
                    "Healthy Sleep",
                    "Healthy Sleep",
                    "Healthy Sleep",
                    "Healthy Sleep",
                    "Healthy Sleep",
                    "Healthy Sleep",
                    "Healthy Sleep",
                    "Healthy Sleep",
                    "Healthy Sleep",
                    "Healthy Sleep",
                    "Healthy Sleep",
                    "Healthy Sleep",
                    "Healthy Sleep",
                    "Healthy Sleep",
                    "Healthy Sleep",
                    "Healthy Sleep",
                    "Healthy Sleep",
                    "Healthy Sleep",
                    "Healthy Sleep",
                    "Healthy Sleep",
                    "Healthy Sleep",
                    "Healthy Sleep",
                    "Healthy Sleep",
                    "Healthy Sleep",
                    "Healthy Sleep",
                    "Healthy Sleep",
                    "Healthy Sleep",
                    "Healthy Sleep",
                    "Healthy Sleep",
                    "Healthy Sleep",
                    "Healthy Sleep",
                    "Healthy Sleep",
                    "Healthy Sleep",
                    "Healthy Sleep",
                    "Healthy Sleep",
                    "Healthy Sleep",
                    "Healthy Sleep",
                    "Healthy Sleep",
                    "Healthy Sleep",
                    "Healthy Sleep",
                    "Healthy Sleep",
                    "Healthy Sleep",
                    "Healthy Sleep",
                    "Healthy Sleep",
                    "Healthy Sleep",
                    "Healthy Sleep",
                    "Healthy Sleep",
                    "Healthy Sleep",
                    "Healthy Sleep",
                    "Healthy Sleep",
                    "Healthy Sleep",
                    "Healthy Sleep",
                    "Healthy Sleep",
                    "Healthy Sleep",
                    "Healthy Sleep",
                    "Healthy Sleep",
                    "Healthy Sleep",
                    "Healthy Sleep",
                    "Healthy Sleep",
                    "Healthy Sleep",
                    "Healthy Sleep",
                    "Healthy Sleep",
                    "Healthy Sleep",
                    "Healthy Sleep",
                    "Healthy Sleep",
                    "Healthy Sleep",
                    "Healthy Sleep",
                    "Healthy Sleep",
                    "Healthy Sleep",
                    "Healthy Sleep",
                    "Healthy Sleep",
                    "Healthy Sleep",
                    "Healthy Sleep",
                    "Healthy Sleep",
                    "Healthy Sleep",
                    "Healthy Sleep",
                    "Healthy Sleep",
                    "Healthy Sleep",
                    "Healthy Sleep",
                    "Healthy Sleep",
                    "Healthy Sleep",
                    "Healthy Sleep",
                    "Healthy Sleep",
                    "Healthy Sleep",
                    "Healthy Sleep",
                    "Healthy Sleep",
                    "Healthy Sleep",
                    "Healthy Sleep",
                    "Healthy Sleep",
                    "Healthy Sleep",
                    "Healthy Sleep",
                    "Healthy Sleep",
                    "Healthy Sleep",
                    "Healthy Sleep",
                    "Healthy Sleep",
                    "Healthy Sleep",
                    "Healthy Sleep",
                    "Healthy Sleep",
                    "Healthy Sleep",
                    "Healthy Sleep",
                    "Healthy Sleep",
                    "Healthy Sleep",
                    "Healthy Sleep",
                    "Healthy Sleep",
                    "Healthy Sleep",
                    "Healthy Sleep",
                    "Healthy Sleep",
                    "Healthy Sleep",
                    "Healthy Sleep",
                    "Healthy Sleep",
                    "Healthy Sleep",
                    "Healthy Sleep",
                    "Healthy Sleep",
                    "Healthy Sleep",
                    "Healthy Sleep",
                    "Healthy Sleep",
                    "Healthy Sleep",
                    "Healthy Sleep",
                    "Healthy Sleep",
                    "Healthy Sleep",
                    "Healthy Sleep",
                    "Healthy Sleep",
                    "Healthy Sleep",
                    "Healthy Sleep",
                    "Healthy Sleep",
                    "Healthy Sleep",
                    "Healthy Sleep",
                    "Healthy Sleep",
                    "Healthy Sleep",
                    "Healthy Sleep",
                    "Healthy Sleep",
                    "Healthy Sleep",
                    "Healthy Sleep",
                    "Healthy Sleep",
                    "Healthy Sleep",
                    "Healthy Sleep",
                    "Healthy Sleep",
                    "Healthy Sleep",
                    "Healthy Sleep",
                    "Healthy Sleep",
                    "Healthy Sleep",
                    "Healthy Sleep",
                    "Healthy Sleep",
                    "Healthy Sleep"
                  ],
                  "xaxis": "x",
                  "yaxis": "y"
                },
                {
                  "alignmentgroup": "True",
                  "bingroup": "x",
                  "hovertemplate": "Sleep Disorder=%{x}<br>count=%{y}<extra></extra>",
                  "legendgroup": "Sleep Apnea",
                  "marker": {
                    "color": "#EF553B",
                    "pattern": {
                      "shape": ""
                    }
                  },
                  "name": "Sleep Apnea",
                  "offsetgroup": "Sleep Apnea",
                  "orientation": "v",
                  "showlegend": true,
                  "type": "histogram",
                  "x": [
                    "Sleep Apnea",
                    "Sleep Apnea",
                    "Sleep Apnea",
                    "Sleep Apnea",
                    "Sleep Apnea",
                    "Sleep Apnea",
                    "Sleep Apnea",
                    "Sleep Apnea",
                    "Sleep Apnea",
                    "Sleep Apnea",
                    "Sleep Apnea",
                    "Sleep Apnea",
                    "Sleep Apnea",
                    "Sleep Apnea",
                    "Sleep Apnea",
                    "Sleep Apnea",
                    "Sleep Apnea",
                    "Sleep Apnea",
                    "Sleep Apnea",
                    "Sleep Apnea",
                    "Sleep Apnea",
                    "Sleep Apnea",
                    "Sleep Apnea",
                    "Sleep Apnea",
                    "Sleep Apnea",
                    "Sleep Apnea",
                    "Sleep Apnea",
                    "Sleep Apnea",
                    "Sleep Apnea",
                    "Sleep Apnea",
                    "Sleep Apnea",
                    "Sleep Apnea",
                    "Sleep Apnea",
                    "Sleep Apnea",
                    "Sleep Apnea",
                    "Sleep Apnea",
                    "Sleep Apnea",
                    "Sleep Apnea",
                    "Sleep Apnea",
                    "Sleep Apnea",
                    "Sleep Apnea",
                    "Sleep Apnea",
                    "Sleep Apnea",
                    "Sleep Apnea",
                    "Sleep Apnea",
                    "Sleep Apnea",
                    "Sleep Apnea",
                    "Sleep Apnea",
                    "Sleep Apnea",
                    "Sleep Apnea",
                    "Sleep Apnea",
                    "Sleep Apnea",
                    "Sleep Apnea",
                    "Sleep Apnea",
                    "Sleep Apnea",
                    "Sleep Apnea",
                    "Sleep Apnea",
                    "Sleep Apnea",
                    "Sleep Apnea",
                    "Sleep Apnea",
                    "Sleep Apnea",
                    "Sleep Apnea",
                    "Sleep Apnea",
                    "Sleep Apnea",
                    "Sleep Apnea",
                    "Sleep Apnea",
                    "Sleep Apnea",
                    "Sleep Apnea",
                    "Sleep Apnea",
                    "Sleep Apnea",
                    "Sleep Apnea",
                    "Sleep Apnea",
                    "Sleep Apnea",
                    "Sleep Apnea",
                    "Sleep Apnea",
                    "Sleep Apnea",
                    "Sleep Apnea",
                    "Sleep Apnea"
                  ],
                  "xaxis": "x",
                  "yaxis": "y"
                },
                {
                  "alignmentgroup": "True",
                  "bingroup": "x",
                  "hovertemplate": "Sleep Disorder=%{x}<br>count=%{y}<extra></extra>",
                  "legendgroup": "Insomnia",
                  "marker": {
                    "color": "#00cc96",
                    "pattern": {
                      "shape": ""
                    }
                  },
                  "name": "Insomnia",
                  "offsetgroup": "Insomnia",
                  "orientation": "v",
                  "showlegend": true,
                  "type": "histogram",
                  "x": [
                    "Insomnia",
                    "Insomnia",
                    "Insomnia",
                    "Insomnia",
                    "Insomnia",
                    "Insomnia",
                    "Insomnia",
                    "Insomnia",
                    "Insomnia",
                    "Insomnia",
                    "Insomnia",
                    "Insomnia",
                    "Insomnia",
                    "Insomnia",
                    "Insomnia",
                    "Insomnia",
                    "Insomnia",
                    "Insomnia",
                    "Insomnia",
                    "Insomnia",
                    "Insomnia",
                    "Insomnia",
                    "Insomnia",
                    "Insomnia",
                    "Insomnia",
                    "Insomnia",
                    "Insomnia",
                    "Insomnia",
                    "Insomnia",
                    "Insomnia",
                    "Insomnia",
                    "Insomnia",
                    "Insomnia",
                    "Insomnia",
                    "Insomnia",
                    "Insomnia",
                    "Insomnia",
                    "Insomnia",
                    "Insomnia",
                    "Insomnia",
                    "Insomnia",
                    "Insomnia",
                    "Insomnia",
                    "Insomnia",
                    "Insomnia",
                    "Insomnia",
                    "Insomnia",
                    "Insomnia",
                    "Insomnia",
                    "Insomnia",
                    "Insomnia",
                    "Insomnia",
                    "Insomnia",
                    "Insomnia",
                    "Insomnia",
                    "Insomnia",
                    "Insomnia",
                    "Insomnia",
                    "Insomnia",
                    "Insomnia",
                    "Insomnia",
                    "Insomnia",
                    "Insomnia",
                    "Insomnia",
                    "Insomnia",
                    "Insomnia",
                    "Insomnia",
                    "Insomnia",
                    "Insomnia",
                    "Insomnia",
                    "Insomnia",
                    "Insomnia",
                    "Insomnia",
                    "Insomnia",
                    "Insomnia",
                    "Insomnia",
                    "Insomnia"
                  ],
                  "xaxis": "x",
                  "yaxis": "y"
                }
              ],
              "layout": {
                "barmode": "relative",
                "legend": {
                  "title": {
                    "text": "Sleep Disorder"
                  },
                  "tracegroupgap": 0
                },
                "template": {
                  "data": {
                    "bar": [
                      {
                        "error_x": {
                          "color": "#2a3f5f"
                        },
                        "error_y": {
                          "color": "#2a3f5f"
                        },
                        "marker": {
                          "line": {
                            "color": "#E5ECF6",
                            "width": 0.5
                          },
                          "pattern": {
                            "fillmode": "overlay",
                            "size": 10,
                            "solidity": 0.2
                          }
                        },
                        "type": "bar"
                      }
                    ],
                    "barpolar": [
                      {
                        "marker": {
                          "line": {
                            "color": "#E5ECF6",
                            "width": 0.5
                          },
                          "pattern": {
                            "fillmode": "overlay",
                            "size": 10,
                            "solidity": 0.2
                          }
                        },
                        "type": "barpolar"
                      }
                    ],
                    "carpet": [
                      {
                        "aaxis": {
                          "endlinecolor": "#2a3f5f",
                          "gridcolor": "white",
                          "linecolor": "white",
                          "minorgridcolor": "white",
                          "startlinecolor": "#2a3f5f"
                        },
                        "baxis": {
                          "endlinecolor": "#2a3f5f",
                          "gridcolor": "white",
                          "linecolor": "white",
                          "minorgridcolor": "white",
                          "startlinecolor": "#2a3f5f"
                        },
                        "type": "carpet"
                      }
                    ],
                    "choropleth": [
                      {
                        "colorbar": {
                          "outlinewidth": 0,
                          "ticks": ""
                        },
                        "type": "choropleth"
                      }
                    ],
                    "contour": [
                      {
                        "colorbar": {
                          "outlinewidth": 0,
                          "ticks": ""
                        },
                        "colorscale": [
                          [
                            0,
                            "#0d0887"
                          ],
                          [
                            0.1111111111111111,
                            "#46039f"
                          ],
                          [
                            0.2222222222222222,
                            "#7201a8"
                          ],
                          [
                            0.3333333333333333,
                            "#9c179e"
                          ],
                          [
                            0.4444444444444444,
                            "#bd3786"
                          ],
                          [
                            0.5555555555555556,
                            "#d8576b"
                          ],
                          [
                            0.6666666666666666,
                            "#ed7953"
                          ],
                          [
                            0.7777777777777778,
                            "#fb9f3a"
                          ],
                          [
                            0.8888888888888888,
                            "#fdca26"
                          ],
                          [
                            1,
                            "#f0f921"
                          ]
                        ],
                        "type": "contour"
                      }
                    ],
                    "contourcarpet": [
                      {
                        "colorbar": {
                          "outlinewidth": 0,
                          "ticks": ""
                        },
                        "type": "contourcarpet"
                      }
                    ],
                    "heatmap": [
                      {
                        "colorbar": {
                          "outlinewidth": 0,
                          "ticks": ""
                        },
                        "colorscale": [
                          [
                            0,
                            "#0d0887"
                          ],
                          [
                            0.1111111111111111,
                            "#46039f"
                          ],
                          [
                            0.2222222222222222,
                            "#7201a8"
                          ],
                          [
                            0.3333333333333333,
                            "#9c179e"
                          ],
                          [
                            0.4444444444444444,
                            "#bd3786"
                          ],
                          [
                            0.5555555555555556,
                            "#d8576b"
                          ],
                          [
                            0.6666666666666666,
                            "#ed7953"
                          ],
                          [
                            0.7777777777777778,
                            "#fb9f3a"
                          ],
                          [
                            0.8888888888888888,
                            "#fdca26"
                          ],
                          [
                            1,
                            "#f0f921"
                          ]
                        ],
                        "type": "heatmap"
                      }
                    ],
                    "heatmapgl": [
                      {
                        "colorbar": {
                          "outlinewidth": 0,
                          "ticks": ""
                        },
                        "colorscale": [
                          [
                            0,
                            "#0d0887"
                          ],
                          [
                            0.1111111111111111,
                            "#46039f"
                          ],
                          [
                            0.2222222222222222,
                            "#7201a8"
                          ],
                          [
                            0.3333333333333333,
                            "#9c179e"
                          ],
                          [
                            0.4444444444444444,
                            "#bd3786"
                          ],
                          [
                            0.5555555555555556,
                            "#d8576b"
                          ],
                          [
                            0.6666666666666666,
                            "#ed7953"
                          ],
                          [
                            0.7777777777777778,
                            "#fb9f3a"
                          ],
                          [
                            0.8888888888888888,
                            "#fdca26"
                          ],
                          [
                            1,
                            "#f0f921"
                          ]
                        ],
                        "type": "heatmapgl"
                      }
                    ],
                    "histogram": [
                      {
                        "marker": {
                          "pattern": {
                            "fillmode": "overlay",
                            "size": 10,
                            "solidity": 0.2
                          }
                        },
                        "type": "histogram"
                      }
                    ],
                    "histogram2d": [
                      {
                        "colorbar": {
                          "outlinewidth": 0,
                          "ticks": ""
                        },
                        "colorscale": [
                          [
                            0,
                            "#0d0887"
                          ],
                          [
                            0.1111111111111111,
                            "#46039f"
                          ],
                          [
                            0.2222222222222222,
                            "#7201a8"
                          ],
                          [
                            0.3333333333333333,
                            "#9c179e"
                          ],
                          [
                            0.4444444444444444,
                            "#bd3786"
                          ],
                          [
                            0.5555555555555556,
                            "#d8576b"
                          ],
                          [
                            0.6666666666666666,
                            "#ed7953"
                          ],
                          [
                            0.7777777777777778,
                            "#fb9f3a"
                          ],
                          [
                            0.8888888888888888,
                            "#fdca26"
                          ],
                          [
                            1,
                            "#f0f921"
                          ]
                        ],
                        "type": "histogram2d"
                      }
                    ],
                    "histogram2dcontour": [
                      {
                        "colorbar": {
                          "outlinewidth": 0,
                          "ticks": ""
                        },
                        "colorscale": [
                          [
                            0,
                            "#0d0887"
                          ],
                          [
                            0.1111111111111111,
                            "#46039f"
                          ],
                          [
                            0.2222222222222222,
                            "#7201a8"
                          ],
                          [
                            0.3333333333333333,
                            "#9c179e"
                          ],
                          [
                            0.4444444444444444,
                            "#bd3786"
                          ],
                          [
                            0.5555555555555556,
                            "#d8576b"
                          ],
                          [
                            0.6666666666666666,
                            "#ed7953"
                          ],
                          [
                            0.7777777777777778,
                            "#fb9f3a"
                          ],
                          [
                            0.8888888888888888,
                            "#fdca26"
                          ],
                          [
                            1,
                            "#f0f921"
                          ]
                        ],
                        "type": "histogram2dcontour"
                      }
                    ],
                    "mesh3d": [
                      {
                        "colorbar": {
                          "outlinewidth": 0,
                          "ticks": ""
                        },
                        "type": "mesh3d"
                      }
                    ],
                    "parcoords": [
                      {
                        "line": {
                          "colorbar": {
                            "outlinewidth": 0,
                            "ticks": ""
                          }
                        },
                        "type": "parcoords"
                      }
                    ],
                    "pie": [
                      {
                        "automargin": true,
                        "type": "pie"
                      }
                    ],
                    "scatter": [
                      {
                        "fillpattern": {
                          "fillmode": "overlay",
                          "size": 10,
                          "solidity": 0.2
                        },
                        "type": "scatter"
                      }
                    ],
                    "scatter3d": [
                      {
                        "line": {
                          "colorbar": {
                            "outlinewidth": 0,
                            "ticks": ""
                          }
                        },
                        "marker": {
                          "colorbar": {
                            "outlinewidth": 0,
                            "ticks": ""
                          }
                        },
                        "type": "scatter3d"
                      }
                    ],
                    "scattercarpet": [
                      {
                        "marker": {
                          "colorbar": {
                            "outlinewidth": 0,
                            "ticks": ""
                          }
                        },
                        "type": "scattercarpet"
                      }
                    ],
                    "scattergeo": [
                      {
                        "marker": {
                          "colorbar": {
                            "outlinewidth": 0,
                            "ticks": ""
                          }
                        },
                        "type": "scattergeo"
                      }
                    ],
                    "scattergl": [
                      {
                        "marker": {
                          "colorbar": {
                            "outlinewidth": 0,
                            "ticks": ""
                          }
                        },
                        "type": "scattergl"
                      }
                    ],
                    "scattermapbox": [
                      {
                        "marker": {
                          "colorbar": {
                            "outlinewidth": 0,
                            "ticks": ""
                          }
                        },
                        "type": "scattermapbox"
                      }
                    ],
                    "scatterpolar": [
                      {
                        "marker": {
                          "colorbar": {
                            "outlinewidth": 0,
                            "ticks": ""
                          }
                        },
                        "type": "scatterpolar"
                      }
                    ],
                    "scatterpolargl": [
                      {
                        "marker": {
                          "colorbar": {
                            "outlinewidth": 0,
                            "ticks": ""
                          }
                        },
                        "type": "scatterpolargl"
                      }
                    ],
                    "scatterternary": [
                      {
                        "marker": {
                          "colorbar": {
                            "outlinewidth": 0,
                            "ticks": ""
                          }
                        },
                        "type": "scatterternary"
                      }
                    ],
                    "surface": [
                      {
                        "colorbar": {
                          "outlinewidth": 0,
                          "ticks": ""
                        },
                        "colorscale": [
                          [
                            0,
                            "#0d0887"
                          ],
                          [
                            0.1111111111111111,
                            "#46039f"
                          ],
                          [
                            0.2222222222222222,
                            "#7201a8"
                          ],
                          [
                            0.3333333333333333,
                            "#9c179e"
                          ],
                          [
                            0.4444444444444444,
                            "#bd3786"
                          ],
                          [
                            0.5555555555555556,
                            "#d8576b"
                          ],
                          [
                            0.6666666666666666,
                            "#ed7953"
                          ],
                          [
                            0.7777777777777778,
                            "#fb9f3a"
                          ],
                          [
                            0.8888888888888888,
                            "#fdca26"
                          ],
                          [
                            1,
                            "#f0f921"
                          ]
                        ],
                        "type": "surface"
                      }
                    ],
                    "table": [
                      {
                        "cells": {
                          "fill": {
                            "color": "#EBF0F8"
                          },
                          "line": {
                            "color": "white"
                          }
                        },
                        "header": {
                          "fill": {
                            "color": "#C8D4E3"
                          },
                          "line": {
                            "color": "white"
                          }
                        },
                        "type": "table"
                      }
                    ]
                  },
                  "layout": {
                    "annotationdefaults": {
                      "arrowcolor": "#2a3f5f",
                      "arrowhead": 0,
                      "arrowwidth": 1
                    },
                    "autotypenumbers": "strict",
                    "coloraxis": {
                      "colorbar": {
                        "outlinewidth": 0,
                        "ticks": ""
                      }
                    },
                    "colorscale": {
                      "diverging": [
                        [
                          0,
                          "#8e0152"
                        ],
                        [
                          0.1,
                          "#c51b7d"
                        ],
                        [
                          0.2,
                          "#de77ae"
                        ],
                        [
                          0.3,
                          "#f1b6da"
                        ],
                        [
                          0.4,
                          "#fde0ef"
                        ],
                        [
                          0.5,
                          "#f7f7f7"
                        ],
                        [
                          0.6,
                          "#e6f5d0"
                        ],
                        [
                          0.7,
                          "#b8e186"
                        ],
                        [
                          0.8,
                          "#7fbc41"
                        ],
                        [
                          0.9,
                          "#4d9221"
                        ],
                        [
                          1,
                          "#276419"
                        ]
                      ],
                      "sequential": [
                        [
                          0,
                          "#0d0887"
                        ],
                        [
                          0.1111111111111111,
                          "#46039f"
                        ],
                        [
                          0.2222222222222222,
                          "#7201a8"
                        ],
                        [
                          0.3333333333333333,
                          "#9c179e"
                        ],
                        [
                          0.4444444444444444,
                          "#bd3786"
                        ],
                        [
                          0.5555555555555556,
                          "#d8576b"
                        ],
                        [
                          0.6666666666666666,
                          "#ed7953"
                        ],
                        [
                          0.7777777777777778,
                          "#fb9f3a"
                        ],
                        [
                          0.8888888888888888,
                          "#fdca26"
                        ],
                        [
                          1,
                          "#f0f921"
                        ]
                      ],
                      "sequentialminus": [
                        [
                          0,
                          "#0d0887"
                        ],
                        [
                          0.1111111111111111,
                          "#46039f"
                        ],
                        [
                          0.2222222222222222,
                          "#7201a8"
                        ],
                        [
                          0.3333333333333333,
                          "#9c179e"
                        ],
                        [
                          0.4444444444444444,
                          "#bd3786"
                        ],
                        [
                          0.5555555555555556,
                          "#d8576b"
                        ],
                        [
                          0.6666666666666666,
                          "#ed7953"
                        ],
                        [
                          0.7777777777777778,
                          "#fb9f3a"
                        ],
                        [
                          0.8888888888888888,
                          "#fdca26"
                        ],
                        [
                          1,
                          "#f0f921"
                        ]
                      ]
                    },
                    "colorway": [
                      "#636efa",
                      "#EF553B",
                      "#00cc96",
                      "#ab63fa",
                      "#FFA15A",
                      "#19d3f3",
                      "#FF6692",
                      "#B6E880",
                      "#FF97FF",
                      "#FECB52"
                    ],
                    "font": {
                      "color": "#2a3f5f"
                    },
                    "geo": {
                      "bgcolor": "white",
                      "lakecolor": "white",
                      "landcolor": "#E5ECF6",
                      "showlakes": true,
                      "showland": true,
                      "subunitcolor": "white"
                    },
                    "hoverlabel": {
                      "align": "left"
                    },
                    "hovermode": "closest",
                    "mapbox": {
                      "style": "light"
                    },
                    "paper_bgcolor": "white",
                    "plot_bgcolor": "#E5ECF6",
                    "polar": {
                      "angularaxis": {
                        "gridcolor": "white",
                        "linecolor": "white",
                        "ticks": ""
                      },
                      "bgcolor": "#E5ECF6",
                      "radialaxis": {
                        "gridcolor": "white",
                        "linecolor": "white",
                        "ticks": ""
                      }
                    },
                    "scene": {
                      "xaxis": {
                        "backgroundcolor": "#E5ECF6",
                        "gridcolor": "white",
                        "gridwidth": 2,
                        "linecolor": "white",
                        "showbackground": true,
                        "ticks": "",
                        "zerolinecolor": "white"
                      },
                      "yaxis": {
                        "backgroundcolor": "#E5ECF6",
                        "gridcolor": "white",
                        "gridwidth": 2,
                        "linecolor": "white",
                        "showbackground": true,
                        "ticks": "",
                        "zerolinecolor": "white"
                      },
                      "zaxis": {
                        "backgroundcolor": "#E5ECF6",
                        "gridcolor": "white",
                        "gridwidth": 2,
                        "linecolor": "white",
                        "showbackground": true,
                        "ticks": "",
                        "zerolinecolor": "white"
                      }
                    },
                    "shapedefaults": {
                      "line": {
                        "color": "#2a3f5f"
                      }
                    },
                    "ternary": {
                      "aaxis": {
                        "gridcolor": "white",
                        "linecolor": "white",
                        "ticks": ""
                      },
                      "baxis": {
                        "gridcolor": "white",
                        "linecolor": "white",
                        "ticks": ""
                      },
                      "bgcolor": "#E5ECF6",
                      "caxis": {
                        "gridcolor": "white",
                        "linecolor": "white",
                        "ticks": ""
                      }
                    },
                    "title": {
                      "x": 0.05
                    },
                    "xaxis": {
                      "automargin": true,
                      "gridcolor": "white",
                      "linecolor": "white",
                      "ticks": "",
                      "title": {
                        "standoff": 15
                      },
                      "zerolinecolor": "white",
                      "zerolinewidth": 2
                    },
                    "yaxis": {
                      "automargin": true,
                      "gridcolor": "white",
                      "linecolor": "white",
                      "ticks": "",
                      "title": {
                        "standoff": 15
                      },
                      "zerolinecolor": "white",
                      "zerolinewidth": 2
                    }
                  }
                },
                "title": {
                  "text": "Distribution of Sleep Disorder"
                },
                "xaxis": {
                  "anchor": "y",
                  "categoryarray": [
                    "Healthy Sleep",
                    "Sleep Apnea",
                    "Insomnia"
                  ],
                  "categoryorder": "array",
                  "domain": [
                    0,
                    1
                  ],
                  "title": {
                    "text": "Sleep Disorder"
                  }
                },
                "yaxis": {
                  "anchor": "x",
                  "domain": [
                    0,
                    1
                  ],
                  "title": {
                    "text": "count"
                  }
                }
              }
            }
          },
          "metadata": {},
          "output_type": "display_data"
        }
      ],
      "source": [
        "# Membuat histogram distribusi 'Sleep Disorder'\n",
        "fig = px.histogram(data, x='Sleep Disorder', title='Distribution of Sleep Disorder',\n",
        "                   labels={'Sleep Disorder': 'Sleep Disorder'},\n",
        "                   color='Sleep Disorder')\n",
        "fig.show()"
      ]
    },
    {
      "cell_type": "code",
      "execution_count": 18,
      "metadata": {
        "colab": {
          "base_uri": "https://localhost:8080/",
          "height": 542
        },
        "id": "Wjeos99WznLL",
        "outputId": "ae788d2b-efdc-4cb9-81c1-1aab3c7da2a4"
      },
      "outputs": [
        {
          "data": {
            "application/vnd.plotly.v1+json": {
              "config": {
                "plotlyServerURL": "https://plot.ly"
              },
              "data": [
                {
                  "alignmentgroup": "True",
                  "hovertemplate": "Gender=Male<br>Sleep Disorder=%{x}<br>Count=%{y}<extra></extra>",
                  "legendgroup": "Male",
                  "marker": {
                    "color": "#636efa",
                    "pattern": {
                      "shape": ""
                    }
                  },
                  "name": "Male",
                  "offsetgroup": "Male",
                  "orientation": "v",
                  "showlegend": true,
                  "textposition": "auto",
                  "type": "bar",
                  "x": [
                    "Healthy Sleep",
                    "Healthy Sleep",
                    "Healthy Sleep",
                    "Sleep Apnea",
                    "Sleep Apnea",
                    "Insomnia",
                    "Insomnia",
                    "Healthy Sleep",
                    "Healthy Sleep",
                    "Healthy Sleep",
                    "Healthy Sleep",
                    "Healthy Sleep",
                    "Healthy Sleep",
                    "Healthy Sleep",
                    "Healthy Sleep",
                    "Healthy Sleep",
                    "Sleep Apnea",
                    "Healthy Sleep",
                    "Healthy Sleep",
                    "Healthy Sleep",
                    "Healthy Sleep",
                    "Healthy Sleep",
                    "Healthy Sleep",
                    "Healthy Sleep",
                    "Healthy Sleep",
                    "Healthy Sleep",
                    "Healthy Sleep",
                    "Healthy Sleep",
                    "Healthy Sleep",
                    "Healthy Sleep",
                    "Healthy Sleep",
                    "Healthy Sleep",
                    "Healthy Sleep",
                    "Healthy Sleep",
                    "Healthy Sleep",
                    "Healthy Sleep",
                    "Healthy Sleep",
                    "Healthy Sleep",
                    "Healthy Sleep",
                    "Healthy Sleep",
                    "Healthy Sleep",
                    "Healthy Sleep",
                    "Healthy Sleep",
                    "Healthy Sleep",
                    "Sleep Apnea",
                    "Healthy Sleep",
                    "Healthy Sleep",
                    "Healthy Sleep",
                    "Healthy Sleep",
                    "Healthy Sleep",
                    "Healthy Sleep",
                    "Healthy Sleep",
                    "Healthy Sleep",
                    "Healthy Sleep",
                    "Healthy Sleep",
                    "Healthy Sleep",
                    "Healthy Sleep",
                    "Healthy Sleep",
                    "Healthy Sleep",
                    "Healthy Sleep",
                    "Healthy Sleep",
                    "Healthy Sleep",
                    "Insomnia",
                    "Healthy Sleep",
                    "Healthy Sleep",
                    "Healthy Sleep",
                    "Healthy Sleep",
                    "Healthy Sleep",
                    "Healthy Sleep",
                    "Healthy Sleep",
                    "Healthy Sleep",
                    "Healthy Sleep",
                    "Healthy Sleep",
                    "Healthy Sleep",
                    "Healthy Sleep",
                    "Healthy Sleep",
                    "Healthy Sleep",
                    "Healthy Sleep",
                    "Healthy Sleep",
                    "Healthy Sleep",
                    "Healthy Sleep",
                    "Healthy Sleep",
                    "Healthy Sleep",
                    "Sleep Apnea",
                    "Sleep Apnea",
                    "Insomnia",
                    "Healthy Sleep",
                    "Healthy Sleep",
                    "Healthy Sleep",
                    "Healthy Sleep",
                    "Healthy Sleep",
                    "Healthy Sleep",
                    "Healthy Sleep",
                    "Healthy Sleep",
                    "Healthy Sleep",
                    "Healthy Sleep",
                    "Healthy Sleep",
                    "Healthy Sleep",
                    "Healthy Sleep",
                    "Healthy Sleep",
                    "Healthy Sleep",
                    "Sleep Apnea",
                    "Insomnia",
                    "Insomnia",
                    "Healthy Sleep",
                    "Healthy Sleep",
                    "Healthy Sleep",
                    "Healthy Sleep",
                    "Healthy Sleep",
                    "Healthy Sleep",
                    "Healthy Sleep",
                    "Healthy Sleep",
                    "Healthy Sleep",
                    "Healthy Sleep",
                    "Healthy Sleep",
                    "Healthy Sleep",
                    "Insomnia",
                    "Healthy Sleep",
                    "Healthy Sleep",
                    "Healthy Sleep",
                    "Healthy Sleep",
                    "Healthy Sleep",
                    "Healthy Sleep",
                    "Healthy Sleep",
                    "Healthy Sleep",
                    "Healthy Sleep",
                    "Healthy Sleep",
                    "Healthy Sleep",
                    "Insomnia",
                    "Healthy Sleep",
                    "Healthy Sleep",
                    "Healthy Sleep",
                    "Healthy Sleep",
                    "Healthy Sleep",
                    "Healthy Sleep",
                    "Insomnia",
                    "Insomnia",
                    "Insomnia",
                    "Insomnia",
                    "Insomnia",
                    "Insomnia",
                    "Insomnia",
                    "Insomnia",
                    "Insomnia",
                    "Insomnia",
                    "Insomnia",
                    "Insomnia",
                    "Insomnia",
                    "Insomnia",
                    "Healthy Sleep",
                    "Healthy Sleep",
                    "Healthy Sleep",
                    "Healthy Sleep",
                    "Healthy Sleep",
                    "Healthy Sleep",
                    "Healthy Sleep",
                    "Healthy Sleep",
                    "Healthy Sleep",
                    "Healthy Sleep",
                    "Healthy Sleep",
                    "Healthy Sleep",
                    "Healthy Sleep",
                    "Healthy Sleep",
                    "Healthy Sleep",
                    "Sleep Apnea",
                    "Sleep Apnea",
                    "Insomnia",
                    "Insomnia",
                    "Insomnia",
                    "Insomnia",
                    "Insomnia",
                    "Insomnia",
                    "Insomnia",
                    "Insomnia",
                    "Insomnia",
                    "Insomnia",
                    "Insomnia",
                    "Insomnia",
                    "Insomnia",
                    "Insomnia",
                    "Insomnia",
                    "Insomnia",
                    "Insomnia",
                    "Healthy Sleep",
                    "Healthy Sleep",
                    "Insomnia",
                    "Insomnia",
                    "Sleep Apnea",
                    "Sleep Apnea"
                  ],
                  "xaxis": "x",
                  "y": [
                    1,
                    1,
                    1,
                    1,
                    1,
                    1,
                    1,
                    1,
                    1,
                    1,
                    1,
                    1,
                    1,
                    1,
                    1,
                    1,
                    1,
                    1,
                    1,
                    1,
                    1,
                    1,
                    1,
                    1,
                    1,
                    1,
                    1,
                    1,
                    1,
                    1,
                    1,
                    1,
                    1,
                    1,
                    1,
                    1,
                    1,
                    1,
                    1,
                    1,
                    1,
                    1,
                    1,
                    1,
                    1,
                    1,
                    1,
                    1,
                    1,
                    1,
                    1,
                    1,
                    1,
                    1,
                    1,
                    1,
                    1,
                    1,
                    1,
                    1,
                    1,
                    1,
                    1,
                    1,
                    1,
                    1,
                    1,
                    1,
                    1,
                    1,
                    1,
                    1,
                    1,
                    1,
                    1,
                    1,
                    1,
                    1,
                    1,
                    1,
                    1,
                    1,
                    1,
                    1,
                    1,
                    1,
                    1,
                    1,
                    1,
                    1,
                    1,
                    1,
                    1,
                    1,
                    1,
                    1,
                    1,
                    1,
                    1,
                    1,
                    1,
                    1,
                    1,
                    1,
                    1,
                    1,
                    1,
                    1,
                    1,
                    1,
                    1,
                    1,
                    1,
                    1,
                    1,
                    1,
                    1,
                    1,
                    1,
                    1,
                    1,
                    1,
                    1,
                    1,
                    1,
                    1,
                    1,
                    1,
                    1,
                    1,
                    1,
                    1,
                    1,
                    1,
                    1,
                    1,
                    1,
                    1,
                    1,
                    1,
                    1,
                    1,
                    1,
                    1,
                    1,
                    1,
                    1,
                    1,
                    1,
                    1,
                    1,
                    1,
                    1,
                    1,
                    1,
                    1,
                    1,
                    1,
                    1,
                    1,
                    1,
                    1,
                    1,
                    1,
                    1,
                    1,
                    1,
                    1,
                    1,
                    1,
                    1,
                    1,
                    1,
                    1,
                    1,
                    1,
                    1,
                    1,
                    1,
                    1,
                    1,
                    1,
                    1,
                    1,
                    1,
                    1,
                    1,
                    1,
                    1
                  ],
                  "yaxis": "y"
                },
                {
                  "alignmentgroup": "True",
                  "hovertemplate": "Gender=Female<br>Sleep Disorder=%{x}<br>Count=%{y}<extra></extra>",
                  "legendgroup": "Female",
                  "marker": {
                    "color": "#EF553B",
                    "pattern": {
                      "shape": ""
                    }
                  },
                  "name": "Female",
                  "offsetgroup": "Female",
                  "orientation": "v",
                  "showlegend": true,
                  "textposition": "auto",
                  "type": "bar",
                  "x": [
                    "Sleep Apnea",
                    "Insomnia",
                    "Sleep Apnea",
                    "Insomnia",
                    "Healthy Sleep",
                    "Healthy Sleep",
                    "Healthy Sleep",
                    "Sleep Apnea",
                    "Sleep Apnea",
                    "Healthy Sleep",
                    "Insomnia",
                    "Healthy Sleep",
                    "Healthy Sleep",
                    "Healthy Sleep",
                    "Healthy Sleep",
                    "Healthy Sleep",
                    "Healthy Sleep",
                    "Healthy Sleep",
                    "Healthy Sleep",
                    "Sleep Apnea",
                    "Healthy Sleep",
                    "Healthy Sleep",
                    "Healthy Sleep",
                    "Healthy Sleep",
                    "Healthy Sleep",
                    "Healthy Sleep",
                    "Healthy Sleep",
                    "Healthy Sleep",
                    "Healthy Sleep",
                    "Healthy Sleep",
                    "Healthy Sleep",
                    "Healthy Sleep",
                    "Healthy Sleep",
                    "Healthy Sleep",
                    "Healthy Sleep",
                    "Healthy Sleep",
                    "Healthy Sleep",
                    "Healthy Sleep",
                    "Healthy Sleep",
                    "Healthy Sleep",
                    "Healthy Sleep",
                    "Healthy Sleep",
                    "Healthy Sleep",
                    "Sleep Apnea",
                    "Healthy Sleep",
                    "Healthy Sleep",
                    "Healthy Sleep",
                    "Healthy Sleep",
                    "Healthy Sleep",
                    "Sleep Apnea",
                    "Sleep Apnea",
                    "Insomnia",
                    "Insomnia",
                    "Insomnia",
                    "Insomnia",
                    "Insomnia",
                    "Insomnia",
                    "Insomnia",
                    "Insomnia",
                    "Insomnia",
                    "Insomnia",
                    "Insomnia",
                    "Insomnia",
                    "Insomnia",
                    "Insomnia",
                    "Insomnia",
                    "Insomnia",
                    "Insomnia",
                    "Insomnia",
                    "Insomnia",
                    "Insomnia",
                    "Insomnia",
                    "Insomnia",
                    "Insomnia",
                    "Insomnia",
                    "Insomnia",
                    "Healthy Sleep",
                    "Healthy Sleep",
                    "Healthy Sleep",
                    "Sleep Apnea",
                    "Healthy Sleep",
                    "Sleep Apnea",
                    "Sleep Apnea",
                    "Sleep Apnea",
                    "Sleep Apnea",
                    "Sleep Apnea",
                    "Sleep Apnea",
                    "Sleep Apnea",
                    "Sleep Apnea",
                    "Insomnia",
                    "Healthy Sleep",
                    "Healthy Sleep",
                    "Sleep Apnea",
                    "Sleep Apnea",
                    "Sleep Apnea",
                    "Sleep Apnea",
                    "Sleep Apnea",
                    "Sleep Apnea",
                    "Sleep Apnea",
                    "Sleep Apnea",
                    "Sleep Apnea",
                    "Sleep Apnea",
                    "Sleep Apnea",
                    "Sleep Apnea",
                    "Sleep Apnea",
                    "Sleep Apnea",
                    "Sleep Apnea",
                    "Sleep Apnea",
                    "Sleep Apnea",
                    "Healthy Sleep",
                    "Healthy Sleep",
                    "Healthy Sleep",
                    "Healthy Sleep",
                    "Healthy Sleep",
                    "Sleep Apnea",
                    "Sleep Apnea",
                    "Sleep Apnea",
                    "Insomnia",
                    "Insomnia",
                    "Insomnia",
                    "Insomnia",
                    "Insomnia",
                    "Insomnia",
                    "Healthy Sleep",
                    "Healthy Sleep",
                    "Healthy Sleep",
                    "Insomnia",
                    "Healthy Sleep",
                    "Healthy Sleep",
                    "Healthy Sleep",
                    "Healthy Sleep",
                    "Healthy Sleep",
                    "Healthy Sleep",
                    "Healthy Sleep",
                    "Healthy Sleep",
                    "Healthy Sleep",
                    "Healthy Sleep",
                    "Healthy Sleep",
                    "Healthy Sleep",
                    "Healthy Sleep",
                    "Healthy Sleep",
                    "Healthy Sleep",
                    "Healthy Sleep",
                    "Healthy Sleep",
                    "Healthy Sleep",
                    "Healthy Sleep",
                    "Healthy Sleep",
                    "Healthy Sleep",
                    "Healthy Sleep",
                    "Healthy Sleep",
                    "Sleep Apnea",
                    "Sleep Apnea",
                    "Healthy Sleep",
                    "Healthy Sleep",
                    "Healthy Sleep",
                    "Sleep Apnea",
                    "Sleep Apnea",
                    "Sleep Apnea",
                    "Sleep Apnea",
                    "Sleep Apnea",
                    "Sleep Apnea",
                    "Sleep Apnea",
                    "Sleep Apnea",
                    "Sleep Apnea",
                    "Sleep Apnea",
                    "Sleep Apnea",
                    "Sleep Apnea",
                    "Sleep Apnea",
                    "Sleep Apnea",
                    "Healthy Sleep",
                    "Healthy Sleep",
                    "Sleep Apnea",
                    "Sleep Apnea",
                    "Sleep Apnea",
                    "Sleep Apnea",
                    "Sleep Apnea",
                    "Sleep Apnea",
                    "Sleep Apnea",
                    "Sleep Apnea",
                    "Sleep Apnea",
                    "Sleep Apnea",
                    "Sleep Apnea",
                    "Sleep Apnea",
                    "Sleep Apnea",
                    "Sleep Apnea"
                  ],
                  "xaxis": "x",
                  "y": [
                    1,
                    1,
                    1,
                    1,
                    1,
                    1,
                    1,
                    1,
                    1,
                    1,
                    1,
                    1,
                    1,
                    1,
                    1,
                    1,
                    1,
                    1,
                    1,
                    1,
                    1,
                    1,
                    1,
                    1,
                    1,
                    1,
                    1,
                    1,
                    1,
                    1,
                    1,
                    1,
                    1,
                    1,
                    1,
                    1,
                    1,
                    1,
                    1,
                    1,
                    1,
                    1,
                    1,
                    1,
                    1,
                    1,
                    1,
                    1,
                    1,
                    1,
                    1,
                    1,
                    1,
                    1,
                    1,
                    1,
                    1,
                    1,
                    1,
                    1,
                    1,
                    1,
                    1,
                    1,
                    1,
                    1,
                    1,
                    1,
                    1,
                    1,
                    1,
                    1,
                    1,
                    1,
                    1,
                    1,
                    1,
                    1,
                    1,
                    1,
                    1,
                    1,
                    1,
                    1,
                    1,
                    1,
                    1,
                    1,
                    1,
                    1,
                    1,
                    1,
                    1,
                    1,
                    1,
                    1,
                    1,
                    1,
                    1,
                    1,
                    1,
                    1,
                    1,
                    1,
                    1,
                    1,
                    1,
                    1,
                    1,
                    1,
                    1,
                    1,
                    1,
                    1,
                    1,
                    1,
                    1,
                    1,
                    1,
                    1,
                    1,
                    1,
                    1,
                    1,
                    1,
                    1,
                    1,
                    1,
                    1,
                    1,
                    1,
                    1,
                    1,
                    1,
                    1,
                    1,
                    1,
                    1,
                    1,
                    1,
                    1,
                    1,
                    1,
                    1,
                    1,
                    1,
                    1,
                    1,
                    1,
                    1,
                    1,
                    1,
                    1,
                    1,
                    1,
                    1,
                    1,
                    1,
                    1,
                    1,
                    1,
                    1,
                    1,
                    1,
                    1,
                    1,
                    1,
                    1,
                    1,
                    1,
                    1,
                    1,
                    1,
                    1,
                    1,
                    1,
                    1,
                    1,
                    1,
                    1,
                    1,
                    1,
                    1,
                    1,
                    1
                  ],
                  "yaxis": "y"
                }
              ],
              "layout": {
                "bargap": 0.2,
                "barmode": "relative",
                "barnorm": "percent",
                "legend": {
                  "title": {
                    "text": "Gender"
                  },
                  "tracegroupgap": 0
                },
                "template": {
                  "data": {
                    "bar": [
                      {
                        "error_x": {
                          "color": "#2a3f5f"
                        },
                        "error_y": {
                          "color": "#2a3f5f"
                        },
                        "marker": {
                          "line": {
                            "color": "#E5ECF6",
                            "width": 0.5
                          },
                          "pattern": {
                            "fillmode": "overlay",
                            "size": 10,
                            "solidity": 0.2
                          }
                        },
                        "type": "bar"
                      }
                    ],
                    "barpolar": [
                      {
                        "marker": {
                          "line": {
                            "color": "#E5ECF6",
                            "width": 0.5
                          },
                          "pattern": {
                            "fillmode": "overlay",
                            "size": 10,
                            "solidity": 0.2
                          }
                        },
                        "type": "barpolar"
                      }
                    ],
                    "carpet": [
                      {
                        "aaxis": {
                          "endlinecolor": "#2a3f5f",
                          "gridcolor": "white",
                          "linecolor": "white",
                          "minorgridcolor": "white",
                          "startlinecolor": "#2a3f5f"
                        },
                        "baxis": {
                          "endlinecolor": "#2a3f5f",
                          "gridcolor": "white",
                          "linecolor": "white",
                          "minorgridcolor": "white",
                          "startlinecolor": "#2a3f5f"
                        },
                        "type": "carpet"
                      }
                    ],
                    "choropleth": [
                      {
                        "colorbar": {
                          "outlinewidth": 0,
                          "ticks": ""
                        },
                        "type": "choropleth"
                      }
                    ],
                    "contour": [
                      {
                        "colorbar": {
                          "outlinewidth": 0,
                          "ticks": ""
                        },
                        "colorscale": [
                          [
                            0,
                            "#0d0887"
                          ],
                          [
                            0.1111111111111111,
                            "#46039f"
                          ],
                          [
                            0.2222222222222222,
                            "#7201a8"
                          ],
                          [
                            0.3333333333333333,
                            "#9c179e"
                          ],
                          [
                            0.4444444444444444,
                            "#bd3786"
                          ],
                          [
                            0.5555555555555556,
                            "#d8576b"
                          ],
                          [
                            0.6666666666666666,
                            "#ed7953"
                          ],
                          [
                            0.7777777777777778,
                            "#fb9f3a"
                          ],
                          [
                            0.8888888888888888,
                            "#fdca26"
                          ],
                          [
                            1,
                            "#f0f921"
                          ]
                        ],
                        "type": "contour"
                      }
                    ],
                    "contourcarpet": [
                      {
                        "colorbar": {
                          "outlinewidth": 0,
                          "ticks": ""
                        },
                        "type": "contourcarpet"
                      }
                    ],
                    "heatmap": [
                      {
                        "colorbar": {
                          "outlinewidth": 0,
                          "ticks": ""
                        },
                        "colorscale": [
                          [
                            0,
                            "#0d0887"
                          ],
                          [
                            0.1111111111111111,
                            "#46039f"
                          ],
                          [
                            0.2222222222222222,
                            "#7201a8"
                          ],
                          [
                            0.3333333333333333,
                            "#9c179e"
                          ],
                          [
                            0.4444444444444444,
                            "#bd3786"
                          ],
                          [
                            0.5555555555555556,
                            "#d8576b"
                          ],
                          [
                            0.6666666666666666,
                            "#ed7953"
                          ],
                          [
                            0.7777777777777778,
                            "#fb9f3a"
                          ],
                          [
                            0.8888888888888888,
                            "#fdca26"
                          ],
                          [
                            1,
                            "#f0f921"
                          ]
                        ],
                        "type": "heatmap"
                      }
                    ],
                    "heatmapgl": [
                      {
                        "colorbar": {
                          "outlinewidth": 0,
                          "ticks": ""
                        },
                        "colorscale": [
                          [
                            0,
                            "#0d0887"
                          ],
                          [
                            0.1111111111111111,
                            "#46039f"
                          ],
                          [
                            0.2222222222222222,
                            "#7201a8"
                          ],
                          [
                            0.3333333333333333,
                            "#9c179e"
                          ],
                          [
                            0.4444444444444444,
                            "#bd3786"
                          ],
                          [
                            0.5555555555555556,
                            "#d8576b"
                          ],
                          [
                            0.6666666666666666,
                            "#ed7953"
                          ],
                          [
                            0.7777777777777778,
                            "#fb9f3a"
                          ],
                          [
                            0.8888888888888888,
                            "#fdca26"
                          ],
                          [
                            1,
                            "#f0f921"
                          ]
                        ],
                        "type": "heatmapgl"
                      }
                    ],
                    "histogram": [
                      {
                        "marker": {
                          "pattern": {
                            "fillmode": "overlay",
                            "size": 10,
                            "solidity": 0.2
                          }
                        },
                        "type": "histogram"
                      }
                    ],
                    "histogram2d": [
                      {
                        "colorbar": {
                          "outlinewidth": 0,
                          "ticks": ""
                        },
                        "colorscale": [
                          [
                            0,
                            "#0d0887"
                          ],
                          [
                            0.1111111111111111,
                            "#46039f"
                          ],
                          [
                            0.2222222222222222,
                            "#7201a8"
                          ],
                          [
                            0.3333333333333333,
                            "#9c179e"
                          ],
                          [
                            0.4444444444444444,
                            "#bd3786"
                          ],
                          [
                            0.5555555555555556,
                            "#d8576b"
                          ],
                          [
                            0.6666666666666666,
                            "#ed7953"
                          ],
                          [
                            0.7777777777777778,
                            "#fb9f3a"
                          ],
                          [
                            0.8888888888888888,
                            "#fdca26"
                          ],
                          [
                            1,
                            "#f0f921"
                          ]
                        ],
                        "type": "histogram2d"
                      }
                    ],
                    "histogram2dcontour": [
                      {
                        "colorbar": {
                          "outlinewidth": 0,
                          "ticks": ""
                        },
                        "colorscale": [
                          [
                            0,
                            "#0d0887"
                          ],
                          [
                            0.1111111111111111,
                            "#46039f"
                          ],
                          [
                            0.2222222222222222,
                            "#7201a8"
                          ],
                          [
                            0.3333333333333333,
                            "#9c179e"
                          ],
                          [
                            0.4444444444444444,
                            "#bd3786"
                          ],
                          [
                            0.5555555555555556,
                            "#d8576b"
                          ],
                          [
                            0.6666666666666666,
                            "#ed7953"
                          ],
                          [
                            0.7777777777777778,
                            "#fb9f3a"
                          ],
                          [
                            0.8888888888888888,
                            "#fdca26"
                          ],
                          [
                            1,
                            "#f0f921"
                          ]
                        ],
                        "type": "histogram2dcontour"
                      }
                    ],
                    "mesh3d": [
                      {
                        "colorbar": {
                          "outlinewidth": 0,
                          "ticks": ""
                        },
                        "type": "mesh3d"
                      }
                    ],
                    "parcoords": [
                      {
                        "line": {
                          "colorbar": {
                            "outlinewidth": 0,
                            "ticks": ""
                          }
                        },
                        "type": "parcoords"
                      }
                    ],
                    "pie": [
                      {
                        "automargin": true,
                        "type": "pie"
                      }
                    ],
                    "scatter": [
                      {
                        "fillpattern": {
                          "fillmode": "overlay",
                          "size": 10,
                          "solidity": 0.2
                        },
                        "type": "scatter"
                      }
                    ],
                    "scatter3d": [
                      {
                        "line": {
                          "colorbar": {
                            "outlinewidth": 0,
                            "ticks": ""
                          }
                        },
                        "marker": {
                          "colorbar": {
                            "outlinewidth": 0,
                            "ticks": ""
                          }
                        },
                        "type": "scatter3d"
                      }
                    ],
                    "scattercarpet": [
                      {
                        "marker": {
                          "colorbar": {
                            "outlinewidth": 0,
                            "ticks": ""
                          }
                        },
                        "type": "scattercarpet"
                      }
                    ],
                    "scattergeo": [
                      {
                        "marker": {
                          "colorbar": {
                            "outlinewidth": 0,
                            "ticks": ""
                          }
                        },
                        "type": "scattergeo"
                      }
                    ],
                    "scattergl": [
                      {
                        "marker": {
                          "colorbar": {
                            "outlinewidth": 0,
                            "ticks": ""
                          }
                        },
                        "type": "scattergl"
                      }
                    ],
                    "scattermapbox": [
                      {
                        "marker": {
                          "colorbar": {
                            "outlinewidth": 0,
                            "ticks": ""
                          }
                        },
                        "type": "scattermapbox"
                      }
                    ],
                    "scatterpolar": [
                      {
                        "marker": {
                          "colorbar": {
                            "outlinewidth": 0,
                            "ticks": ""
                          }
                        },
                        "type": "scatterpolar"
                      }
                    ],
                    "scatterpolargl": [
                      {
                        "marker": {
                          "colorbar": {
                            "outlinewidth": 0,
                            "ticks": ""
                          }
                        },
                        "type": "scatterpolargl"
                      }
                    ],
                    "scatterternary": [
                      {
                        "marker": {
                          "colorbar": {
                            "outlinewidth": 0,
                            "ticks": ""
                          }
                        },
                        "type": "scatterternary"
                      }
                    ],
                    "surface": [
                      {
                        "colorbar": {
                          "outlinewidth": 0,
                          "ticks": ""
                        },
                        "colorscale": [
                          [
                            0,
                            "#0d0887"
                          ],
                          [
                            0.1111111111111111,
                            "#46039f"
                          ],
                          [
                            0.2222222222222222,
                            "#7201a8"
                          ],
                          [
                            0.3333333333333333,
                            "#9c179e"
                          ],
                          [
                            0.4444444444444444,
                            "#bd3786"
                          ],
                          [
                            0.5555555555555556,
                            "#d8576b"
                          ],
                          [
                            0.6666666666666666,
                            "#ed7953"
                          ],
                          [
                            0.7777777777777778,
                            "#fb9f3a"
                          ],
                          [
                            0.8888888888888888,
                            "#fdca26"
                          ],
                          [
                            1,
                            "#f0f921"
                          ]
                        ],
                        "type": "surface"
                      }
                    ],
                    "table": [
                      {
                        "cells": {
                          "fill": {
                            "color": "#EBF0F8"
                          },
                          "line": {
                            "color": "white"
                          }
                        },
                        "header": {
                          "fill": {
                            "color": "#C8D4E3"
                          },
                          "line": {
                            "color": "white"
                          }
                        },
                        "type": "table"
                      }
                    ]
                  },
                  "layout": {
                    "annotationdefaults": {
                      "arrowcolor": "#2a3f5f",
                      "arrowhead": 0,
                      "arrowwidth": 1
                    },
                    "autotypenumbers": "strict",
                    "coloraxis": {
                      "colorbar": {
                        "outlinewidth": 0,
                        "ticks": ""
                      }
                    },
                    "colorscale": {
                      "diverging": [
                        [
                          0,
                          "#8e0152"
                        ],
                        [
                          0.1,
                          "#c51b7d"
                        ],
                        [
                          0.2,
                          "#de77ae"
                        ],
                        [
                          0.3,
                          "#f1b6da"
                        ],
                        [
                          0.4,
                          "#fde0ef"
                        ],
                        [
                          0.5,
                          "#f7f7f7"
                        ],
                        [
                          0.6,
                          "#e6f5d0"
                        ],
                        [
                          0.7,
                          "#b8e186"
                        ],
                        [
                          0.8,
                          "#7fbc41"
                        ],
                        [
                          0.9,
                          "#4d9221"
                        ],
                        [
                          1,
                          "#276419"
                        ]
                      ],
                      "sequential": [
                        [
                          0,
                          "#0d0887"
                        ],
                        [
                          0.1111111111111111,
                          "#46039f"
                        ],
                        [
                          0.2222222222222222,
                          "#7201a8"
                        ],
                        [
                          0.3333333333333333,
                          "#9c179e"
                        ],
                        [
                          0.4444444444444444,
                          "#bd3786"
                        ],
                        [
                          0.5555555555555556,
                          "#d8576b"
                        ],
                        [
                          0.6666666666666666,
                          "#ed7953"
                        ],
                        [
                          0.7777777777777778,
                          "#fb9f3a"
                        ],
                        [
                          0.8888888888888888,
                          "#fdca26"
                        ],
                        [
                          1,
                          "#f0f921"
                        ]
                      ],
                      "sequentialminus": [
                        [
                          0,
                          "#0d0887"
                        ],
                        [
                          0.1111111111111111,
                          "#46039f"
                        ],
                        [
                          0.2222222222222222,
                          "#7201a8"
                        ],
                        [
                          0.3333333333333333,
                          "#9c179e"
                        ],
                        [
                          0.4444444444444444,
                          "#bd3786"
                        ],
                        [
                          0.5555555555555556,
                          "#d8576b"
                        ],
                        [
                          0.6666666666666666,
                          "#ed7953"
                        ],
                        [
                          0.7777777777777778,
                          "#fb9f3a"
                        ],
                        [
                          0.8888888888888888,
                          "#fdca26"
                        ],
                        [
                          1,
                          "#f0f921"
                        ]
                      ]
                    },
                    "colorway": [
                      "#636efa",
                      "#EF553B",
                      "#00cc96",
                      "#ab63fa",
                      "#FFA15A",
                      "#19d3f3",
                      "#FF6692",
                      "#B6E880",
                      "#FF97FF",
                      "#FECB52"
                    ],
                    "font": {
                      "color": "#2a3f5f"
                    },
                    "geo": {
                      "bgcolor": "white",
                      "lakecolor": "white",
                      "landcolor": "#E5ECF6",
                      "showlakes": true,
                      "showland": true,
                      "subunitcolor": "white"
                    },
                    "hoverlabel": {
                      "align": "left"
                    },
                    "hovermode": "closest",
                    "mapbox": {
                      "style": "light"
                    },
                    "paper_bgcolor": "white",
                    "plot_bgcolor": "#E5ECF6",
                    "polar": {
                      "angularaxis": {
                        "gridcolor": "white",
                        "linecolor": "white",
                        "ticks": ""
                      },
                      "bgcolor": "#E5ECF6",
                      "radialaxis": {
                        "gridcolor": "white",
                        "linecolor": "white",
                        "ticks": ""
                      }
                    },
                    "scene": {
                      "xaxis": {
                        "backgroundcolor": "#E5ECF6",
                        "gridcolor": "white",
                        "gridwidth": 2,
                        "linecolor": "white",
                        "showbackground": true,
                        "ticks": "",
                        "zerolinecolor": "white"
                      },
                      "yaxis": {
                        "backgroundcolor": "#E5ECF6",
                        "gridcolor": "white",
                        "gridwidth": 2,
                        "linecolor": "white",
                        "showbackground": true,
                        "ticks": "",
                        "zerolinecolor": "white"
                      },
                      "zaxis": {
                        "backgroundcolor": "#E5ECF6",
                        "gridcolor": "white",
                        "gridwidth": 2,
                        "linecolor": "white",
                        "showbackground": true,
                        "ticks": "",
                        "zerolinecolor": "white"
                      }
                    },
                    "shapedefaults": {
                      "line": {
                        "color": "#2a3f5f"
                      }
                    },
                    "ternary": {
                      "aaxis": {
                        "gridcolor": "white",
                        "linecolor": "white",
                        "ticks": ""
                      },
                      "baxis": {
                        "gridcolor": "white",
                        "linecolor": "white",
                        "ticks": ""
                      },
                      "bgcolor": "#E5ECF6",
                      "caxis": {
                        "gridcolor": "white",
                        "linecolor": "white",
                        "ticks": ""
                      }
                    },
                    "title": {
                      "x": 0.05
                    },
                    "xaxis": {
                      "automargin": true,
                      "gridcolor": "white",
                      "linecolor": "white",
                      "ticks": "",
                      "title": {
                        "standoff": 15
                      },
                      "zerolinecolor": "white",
                      "zerolinewidth": 2
                    },
                    "yaxis": {
                      "automargin": true,
                      "gridcolor": "white",
                      "linecolor": "white",
                      "ticks": "",
                      "title": {
                        "standoff": 15
                      },
                      "zerolinecolor": "white",
                      "zerolinewidth": 2
                    }
                  }
                },
                "title": {
                  "text": "Gender-wise Sleep Disorder Distribution"
                },
                "xaxis": {
                  "anchor": "y",
                  "domain": [
                    0,
                    1
                  ],
                  "title": {
                    "text": "Sleep Disorder"
                  }
                },
                "yaxis": {
                  "anchor": "x",
                  "domain": [
                    0,
                    1
                  ],
                  "title": {
                    "text": "Count"
                  }
                }
              }
            }
          },
          "metadata": {},
          "output_type": "display_data"
        }
      ],
      "source": [
        "# Membuat diagram batang distribusi 'Sleep Disorder' berdasarkan 'Gender'\n",
        "fig = px.bar(data, x='Sleep Disorder', color='Gender',\n",
        "             title='Gender-wise Sleep Disorder Distribution',\n",
        "             labels={'Sleep Disorder': 'Sleep Disorder', 'Gender': 'Gender', 'count': 'Count'})\n",
        "fig.update_layout(\n",
        "    bargap=0.2,\n",
        "    barnorm='percent',\n",
        ")\n",
        "fig.show()"
      ]
    },
    {
      "cell_type": "code",
      "execution_count": 19,
      "metadata": {
        "colab": {
          "base_uri": "https://localhost:8080/",
          "height": 542
        },
        "id": "MNb44E68zqbq",
        "outputId": "4cf71dee-5676-4371-d648-8ec966e64312"
      },
      "outputs": [
        {
          "data": {
            "application/vnd.plotly.v1+json": {
              "config": {
                "plotlyServerURL": "https://plot.ly"
              },
              "data": [
                {
                  "alignmentgroup": "True",
                  "bingroup": "x",
                  "hovertemplate": "Sleep Disorder=Healthy Sleep<br>Age=%{x}<br>count=%{y}<extra></extra>",
                  "legendgroup": "Healthy Sleep",
                  "marker": {
                    "color": "#636efa",
                    "pattern": {
                      "shape": ""
                    }
                  },
                  "name": "Healthy Sleep",
                  "offsetgroup": "Healthy Sleep",
                  "orientation": "v",
                  "showlegend": true,
                  "type": "histogram",
                  "x": [
                    27,
                    28,
                    28,
                    29,
                    29,
                    29,
                    29,
                    29,
                    29,
                    29,
                    29,
                    29,
                    30,
                    30,
                    30,
                    30,
                    30,
                    30,
                    30,
                    30,
                    30,
                    30,
                    30,
                    31,
                    31,
                    31,
                    31,
                    31,
                    31,
                    31,
                    31,
                    31,
                    31,
                    31,
                    31,
                    31,
                    31,
                    31,
                    31,
                    31,
                    32,
                    32,
                    32,
                    32,
                    32,
                    32,
                    32,
                    32,
                    32,
                    32,
                    32,
                    32,
                    32,
                    32,
                    32,
                    32,
                    32,
                    33,
                    33,
                    33,
                    33,
                    33,
                    33,
                    33,
                    33,
                    33,
                    33,
                    33,
                    33,
                    35,
                    35,
                    35,
                    35,
                    35,
                    35,
                    35,
                    35,
                    35,
                    35,
                    35,
                    36,
                    36,
                    36,
                    36,
                    36,
                    36,
                    36,
                    36,
                    37,
                    37,
                    37,
                    37,
                    37,
                    37,
                    37,
                    37,
                    37,
                    37,
                    37,
                    37,
                    37,
                    37,
                    37,
                    37,
                    37,
                    37,
                    37,
                    37,
                    38,
                    38,
                    38,
                    38,
                    38,
                    38,
                    38,
                    38,
                    38,
                    38,
                    38,
                    38,
                    38,
                    38,
                    38,
                    38,
                    38,
                    38,
                    39,
                    39,
                    39,
                    39,
                    39,
                    39,
                    39,
                    39,
                    39,
                    39,
                    39,
                    39,
                    39,
                    40,
                    40,
                    40,
                    40,
                    41,
                    41,
                    41,
                    41,
                    41,
                    41,
                    41,
                    41,
                    41,
                    41,
                    41,
                    42,
                    42,
                    42,
                    42,
                    42,
                    42,
                    43,
                    43,
                    43,
                    43,
                    43,
                    43,
                    43,
                    43,
                    43,
                    43,
                    43,
                    43,
                    43,
                    43,
                    43,
                    44,
                    44,
                    45,
                    45,
                    45,
                    49,
                    50,
                    50,
                    51,
                    51,
                    51,
                    51,
                    51,
                    52,
                    52,
                    52,
                    53,
                    53,
                    53,
                    53,
                    53,
                    53,
                    53,
                    53,
                    53,
                    53,
                    53,
                    53,
                    53,
                    53,
                    53,
                    53,
                    54,
                    54,
                    54,
                    54,
                    54,
                    54,
                    54,
                    56,
                    56,
                    57,
                    59,
                    59
                  ],
                  "xaxis": "x",
                  "yaxis": "y"
                },
                {
                  "alignmentgroup": "True",
                  "bingroup": "x",
                  "hovertemplate": "Sleep Disorder=Sleep Apnea<br>Age=%{x}<br>count=%{y}<extra></extra>",
                  "legendgroup": "Sleep Apnea",
                  "marker": {
                    "color": "#EF553B",
                    "pattern": {
                      "shape": ""
                    }
                  },
                  "name": "Sleep Apnea",
                  "offsetgroup": "Sleep Apnea",
                  "orientation": "v",
                  "showlegend": true,
                  "type": "histogram",
                  "x": [
                    28,
                    28,
                    29,
                    29,
                    30,
                    31,
                    34,
                    34,
                    35,
                    36,
                    36,
                    38,
                    38,
                    42,
                    42,
                    43,
                    43,
                    48,
                    49,
                    49,
                    49,
                    49,
                    49,
                    49,
                    49,
                    49,
                    49,
                    49,
                    50,
                    50,
                    50,
                    50,
                    50,
                    50,
                    50,
                    50,
                    50,
                    50,
                    50,
                    50,
                    50,
                    50,
                    50,
                    50,
                    50,
                    51,
                    51,
                    51,
                    55,
                    55,
                    57,
                    57,
                    57,
                    57,
                    57,
                    57,
                    57,
                    57,
                    58,
                    58,
                    58,
                    58,
                    58,
                    58,
                    59,
                    59,
                    59,
                    59,
                    59,
                    59,
                    59,
                    59,
                    59,
                    59,
                    59,
                    59,
                    59,
                    59
                  ],
                  "xaxis": "x",
                  "yaxis": "y"
                },
                {
                  "alignmentgroup": "True",
                  "bingroup": "x",
                  "hovertemplate": "Sleep Disorder=Insomnia<br>Age=%{x}<br>count=%{y}<extra></extra>",
                  "legendgroup": "Insomnia",
                  "marker": {
                    "color": "#00cc96",
                    "pattern": {
                      "shape": ""
                    }
                  },
                  "name": "Insomnia",
                  "offsetgroup": "Insomnia",
                  "orientation": "v",
                  "showlegend": true,
                  "type": "histogram",
                  "x": [
                    28,
                    29,
                    29,
                    30,
                    33,
                    36,
                    36,
                    39,
                    39,
                    41,
                    42,
                    43,
                    43,
                    43,
                    43,
                    43,
                    43,
                    43,
                    43,
                    43,
                    43,
                    43,
                    43,
                    43,
                    43,
                    43,
                    43,
                    43,
                    44,
                    44,
                    44,
                    44,
                    44,
                    44,
                    44,
                    44,
                    44,
                    44,
                    44,
                    44,
                    44,
                    44,
                    44,
                    44,
                    44,
                    44,
                    44,
                    44,
                    44,
                    44,
                    44,
                    44,
                    44,
                    44,
                    44,
                    44,
                    45,
                    45,
                    45,
                    45,
                    45,
                    45,
                    45,
                    45,
                    45,
                    45,
                    45,
                    48,
                    48,
                    50,
                    52,
                    52,
                    52,
                    52,
                    52,
                    52,
                    53
                  ],
                  "xaxis": "x",
                  "yaxis": "y"
                }
              ],
              "layout": {
                "bargap": 0.2,
                "barmode": "relative",
                "legend": {
                  "title": {
                    "text": "Sleep Disorder"
                  },
                  "tracegroupgap": 0
                },
                "template": {
                  "data": {
                    "bar": [
                      {
                        "error_x": {
                          "color": "#2a3f5f"
                        },
                        "error_y": {
                          "color": "#2a3f5f"
                        },
                        "marker": {
                          "line": {
                            "color": "#E5ECF6",
                            "width": 0.5
                          },
                          "pattern": {
                            "fillmode": "overlay",
                            "size": 10,
                            "solidity": 0.2
                          }
                        },
                        "type": "bar"
                      }
                    ],
                    "barpolar": [
                      {
                        "marker": {
                          "line": {
                            "color": "#E5ECF6",
                            "width": 0.5
                          },
                          "pattern": {
                            "fillmode": "overlay",
                            "size": 10,
                            "solidity": 0.2
                          }
                        },
                        "type": "barpolar"
                      }
                    ],
                    "carpet": [
                      {
                        "aaxis": {
                          "endlinecolor": "#2a3f5f",
                          "gridcolor": "white",
                          "linecolor": "white",
                          "minorgridcolor": "white",
                          "startlinecolor": "#2a3f5f"
                        },
                        "baxis": {
                          "endlinecolor": "#2a3f5f",
                          "gridcolor": "white",
                          "linecolor": "white",
                          "minorgridcolor": "white",
                          "startlinecolor": "#2a3f5f"
                        },
                        "type": "carpet"
                      }
                    ],
                    "choropleth": [
                      {
                        "colorbar": {
                          "outlinewidth": 0,
                          "ticks": ""
                        },
                        "type": "choropleth"
                      }
                    ],
                    "contour": [
                      {
                        "colorbar": {
                          "outlinewidth": 0,
                          "ticks": ""
                        },
                        "colorscale": [
                          [
                            0,
                            "#0d0887"
                          ],
                          [
                            0.1111111111111111,
                            "#46039f"
                          ],
                          [
                            0.2222222222222222,
                            "#7201a8"
                          ],
                          [
                            0.3333333333333333,
                            "#9c179e"
                          ],
                          [
                            0.4444444444444444,
                            "#bd3786"
                          ],
                          [
                            0.5555555555555556,
                            "#d8576b"
                          ],
                          [
                            0.6666666666666666,
                            "#ed7953"
                          ],
                          [
                            0.7777777777777778,
                            "#fb9f3a"
                          ],
                          [
                            0.8888888888888888,
                            "#fdca26"
                          ],
                          [
                            1,
                            "#f0f921"
                          ]
                        ],
                        "type": "contour"
                      }
                    ],
                    "contourcarpet": [
                      {
                        "colorbar": {
                          "outlinewidth": 0,
                          "ticks": ""
                        },
                        "type": "contourcarpet"
                      }
                    ],
                    "heatmap": [
                      {
                        "colorbar": {
                          "outlinewidth": 0,
                          "ticks": ""
                        },
                        "colorscale": [
                          [
                            0,
                            "#0d0887"
                          ],
                          [
                            0.1111111111111111,
                            "#46039f"
                          ],
                          [
                            0.2222222222222222,
                            "#7201a8"
                          ],
                          [
                            0.3333333333333333,
                            "#9c179e"
                          ],
                          [
                            0.4444444444444444,
                            "#bd3786"
                          ],
                          [
                            0.5555555555555556,
                            "#d8576b"
                          ],
                          [
                            0.6666666666666666,
                            "#ed7953"
                          ],
                          [
                            0.7777777777777778,
                            "#fb9f3a"
                          ],
                          [
                            0.8888888888888888,
                            "#fdca26"
                          ],
                          [
                            1,
                            "#f0f921"
                          ]
                        ],
                        "type": "heatmap"
                      }
                    ],
                    "heatmapgl": [
                      {
                        "colorbar": {
                          "outlinewidth": 0,
                          "ticks": ""
                        },
                        "colorscale": [
                          [
                            0,
                            "#0d0887"
                          ],
                          [
                            0.1111111111111111,
                            "#46039f"
                          ],
                          [
                            0.2222222222222222,
                            "#7201a8"
                          ],
                          [
                            0.3333333333333333,
                            "#9c179e"
                          ],
                          [
                            0.4444444444444444,
                            "#bd3786"
                          ],
                          [
                            0.5555555555555556,
                            "#d8576b"
                          ],
                          [
                            0.6666666666666666,
                            "#ed7953"
                          ],
                          [
                            0.7777777777777778,
                            "#fb9f3a"
                          ],
                          [
                            0.8888888888888888,
                            "#fdca26"
                          ],
                          [
                            1,
                            "#f0f921"
                          ]
                        ],
                        "type": "heatmapgl"
                      }
                    ],
                    "histogram": [
                      {
                        "marker": {
                          "pattern": {
                            "fillmode": "overlay",
                            "size": 10,
                            "solidity": 0.2
                          }
                        },
                        "type": "histogram"
                      }
                    ],
                    "histogram2d": [
                      {
                        "colorbar": {
                          "outlinewidth": 0,
                          "ticks": ""
                        },
                        "colorscale": [
                          [
                            0,
                            "#0d0887"
                          ],
                          [
                            0.1111111111111111,
                            "#46039f"
                          ],
                          [
                            0.2222222222222222,
                            "#7201a8"
                          ],
                          [
                            0.3333333333333333,
                            "#9c179e"
                          ],
                          [
                            0.4444444444444444,
                            "#bd3786"
                          ],
                          [
                            0.5555555555555556,
                            "#d8576b"
                          ],
                          [
                            0.6666666666666666,
                            "#ed7953"
                          ],
                          [
                            0.7777777777777778,
                            "#fb9f3a"
                          ],
                          [
                            0.8888888888888888,
                            "#fdca26"
                          ],
                          [
                            1,
                            "#f0f921"
                          ]
                        ],
                        "type": "histogram2d"
                      }
                    ],
                    "histogram2dcontour": [
                      {
                        "colorbar": {
                          "outlinewidth": 0,
                          "ticks": ""
                        },
                        "colorscale": [
                          [
                            0,
                            "#0d0887"
                          ],
                          [
                            0.1111111111111111,
                            "#46039f"
                          ],
                          [
                            0.2222222222222222,
                            "#7201a8"
                          ],
                          [
                            0.3333333333333333,
                            "#9c179e"
                          ],
                          [
                            0.4444444444444444,
                            "#bd3786"
                          ],
                          [
                            0.5555555555555556,
                            "#d8576b"
                          ],
                          [
                            0.6666666666666666,
                            "#ed7953"
                          ],
                          [
                            0.7777777777777778,
                            "#fb9f3a"
                          ],
                          [
                            0.8888888888888888,
                            "#fdca26"
                          ],
                          [
                            1,
                            "#f0f921"
                          ]
                        ],
                        "type": "histogram2dcontour"
                      }
                    ],
                    "mesh3d": [
                      {
                        "colorbar": {
                          "outlinewidth": 0,
                          "ticks": ""
                        },
                        "type": "mesh3d"
                      }
                    ],
                    "parcoords": [
                      {
                        "line": {
                          "colorbar": {
                            "outlinewidth": 0,
                            "ticks": ""
                          }
                        },
                        "type": "parcoords"
                      }
                    ],
                    "pie": [
                      {
                        "automargin": true,
                        "type": "pie"
                      }
                    ],
                    "scatter": [
                      {
                        "fillpattern": {
                          "fillmode": "overlay",
                          "size": 10,
                          "solidity": 0.2
                        },
                        "type": "scatter"
                      }
                    ],
                    "scatter3d": [
                      {
                        "line": {
                          "colorbar": {
                            "outlinewidth": 0,
                            "ticks": ""
                          }
                        },
                        "marker": {
                          "colorbar": {
                            "outlinewidth": 0,
                            "ticks": ""
                          }
                        },
                        "type": "scatter3d"
                      }
                    ],
                    "scattercarpet": [
                      {
                        "marker": {
                          "colorbar": {
                            "outlinewidth": 0,
                            "ticks": ""
                          }
                        },
                        "type": "scattercarpet"
                      }
                    ],
                    "scattergeo": [
                      {
                        "marker": {
                          "colorbar": {
                            "outlinewidth": 0,
                            "ticks": ""
                          }
                        },
                        "type": "scattergeo"
                      }
                    ],
                    "scattergl": [
                      {
                        "marker": {
                          "colorbar": {
                            "outlinewidth": 0,
                            "ticks": ""
                          }
                        },
                        "type": "scattergl"
                      }
                    ],
                    "scattermapbox": [
                      {
                        "marker": {
                          "colorbar": {
                            "outlinewidth": 0,
                            "ticks": ""
                          }
                        },
                        "type": "scattermapbox"
                      }
                    ],
                    "scatterpolar": [
                      {
                        "marker": {
                          "colorbar": {
                            "outlinewidth": 0,
                            "ticks": ""
                          }
                        },
                        "type": "scatterpolar"
                      }
                    ],
                    "scatterpolargl": [
                      {
                        "marker": {
                          "colorbar": {
                            "outlinewidth": 0,
                            "ticks": ""
                          }
                        },
                        "type": "scatterpolargl"
                      }
                    ],
                    "scatterternary": [
                      {
                        "marker": {
                          "colorbar": {
                            "outlinewidth": 0,
                            "ticks": ""
                          }
                        },
                        "type": "scatterternary"
                      }
                    ],
                    "surface": [
                      {
                        "colorbar": {
                          "outlinewidth": 0,
                          "ticks": ""
                        },
                        "colorscale": [
                          [
                            0,
                            "#0d0887"
                          ],
                          [
                            0.1111111111111111,
                            "#46039f"
                          ],
                          [
                            0.2222222222222222,
                            "#7201a8"
                          ],
                          [
                            0.3333333333333333,
                            "#9c179e"
                          ],
                          [
                            0.4444444444444444,
                            "#bd3786"
                          ],
                          [
                            0.5555555555555556,
                            "#d8576b"
                          ],
                          [
                            0.6666666666666666,
                            "#ed7953"
                          ],
                          [
                            0.7777777777777778,
                            "#fb9f3a"
                          ],
                          [
                            0.8888888888888888,
                            "#fdca26"
                          ],
                          [
                            1,
                            "#f0f921"
                          ]
                        ],
                        "type": "surface"
                      }
                    ],
                    "table": [
                      {
                        "cells": {
                          "fill": {
                            "color": "#EBF0F8"
                          },
                          "line": {
                            "color": "white"
                          }
                        },
                        "header": {
                          "fill": {
                            "color": "#C8D4E3"
                          },
                          "line": {
                            "color": "white"
                          }
                        },
                        "type": "table"
                      }
                    ]
                  },
                  "layout": {
                    "annotationdefaults": {
                      "arrowcolor": "#2a3f5f",
                      "arrowhead": 0,
                      "arrowwidth": 1
                    },
                    "autotypenumbers": "strict",
                    "coloraxis": {
                      "colorbar": {
                        "outlinewidth": 0,
                        "ticks": ""
                      }
                    },
                    "colorscale": {
                      "diverging": [
                        [
                          0,
                          "#8e0152"
                        ],
                        [
                          0.1,
                          "#c51b7d"
                        ],
                        [
                          0.2,
                          "#de77ae"
                        ],
                        [
                          0.3,
                          "#f1b6da"
                        ],
                        [
                          0.4,
                          "#fde0ef"
                        ],
                        [
                          0.5,
                          "#f7f7f7"
                        ],
                        [
                          0.6,
                          "#e6f5d0"
                        ],
                        [
                          0.7,
                          "#b8e186"
                        ],
                        [
                          0.8,
                          "#7fbc41"
                        ],
                        [
                          0.9,
                          "#4d9221"
                        ],
                        [
                          1,
                          "#276419"
                        ]
                      ],
                      "sequential": [
                        [
                          0,
                          "#0d0887"
                        ],
                        [
                          0.1111111111111111,
                          "#46039f"
                        ],
                        [
                          0.2222222222222222,
                          "#7201a8"
                        ],
                        [
                          0.3333333333333333,
                          "#9c179e"
                        ],
                        [
                          0.4444444444444444,
                          "#bd3786"
                        ],
                        [
                          0.5555555555555556,
                          "#d8576b"
                        ],
                        [
                          0.6666666666666666,
                          "#ed7953"
                        ],
                        [
                          0.7777777777777778,
                          "#fb9f3a"
                        ],
                        [
                          0.8888888888888888,
                          "#fdca26"
                        ],
                        [
                          1,
                          "#f0f921"
                        ]
                      ],
                      "sequentialminus": [
                        [
                          0,
                          "#0d0887"
                        ],
                        [
                          0.1111111111111111,
                          "#46039f"
                        ],
                        [
                          0.2222222222222222,
                          "#7201a8"
                        ],
                        [
                          0.3333333333333333,
                          "#9c179e"
                        ],
                        [
                          0.4444444444444444,
                          "#bd3786"
                        ],
                        [
                          0.5555555555555556,
                          "#d8576b"
                        ],
                        [
                          0.6666666666666666,
                          "#ed7953"
                        ],
                        [
                          0.7777777777777778,
                          "#fb9f3a"
                        ],
                        [
                          0.8888888888888888,
                          "#fdca26"
                        ],
                        [
                          1,
                          "#f0f921"
                        ]
                      ]
                    },
                    "colorway": [
                      "#636efa",
                      "#EF553B",
                      "#00cc96",
                      "#ab63fa",
                      "#FFA15A",
                      "#19d3f3",
                      "#FF6692",
                      "#B6E880",
                      "#FF97FF",
                      "#FECB52"
                    ],
                    "font": {
                      "color": "#2a3f5f"
                    },
                    "geo": {
                      "bgcolor": "white",
                      "lakecolor": "white",
                      "landcolor": "#E5ECF6",
                      "showlakes": true,
                      "showland": true,
                      "subunitcolor": "white"
                    },
                    "hoverlabel": {
                      "align": "left"
                    },
                    "hovermode": "closest",
                    "mapbox": {
                      "style": "light"
                    },
                    "paper_bgcolor": "white",
                    "plot_bgcolor": "#E5ECF6",
                    "polar": {
                      "angularaxis": {
                        "gridcolor": "white",
                        "linecolor": "white",
                        "ticks": ""
                      },
                      "bgcolor": "#E5ECF6",
                      "radialaxis": {
                        "gridcolor": "white",
                        "linecolor": "white",
                        "ticks": ""
                      }
                    },
                    "scene": {
                      "xaxis": {
                        "backgroundcolor": "#E5ECF6",
                        "gridcolor": "white",
                        "gridwidth": 2,
                        "linecolor": "white",
                        "showbackground": true,
                        "ticks": "",
                        "zerolinecolor": "white"
                      },
                      "yaxis": {
                        "backgroundcolor": "#E5ECF6",
                        "gridcolor": "white",
                        "gridwidth": 2,
                        "linecolor": "white",
                        "showbackground": true,
                        "ticks": "",
                        "zerolinecolor": "white"
                      },
                      "zaxis": {
                        "backgroundcolor": "#E5ECF6",
                        "gridcolor": "white",
                        "gridwidth": 2,
                        "linecolor": "white",
                        "showbackground": true,
                        "ticks": "",
                        "zerolinecolor": "white"
                      }
                    },
                    "shapedefaults": {
                      "line": {
                        "color": "#2a3f5f"
                      }
                    },
                    "ternary": {
                      "aaxis": {
                        "gridcolor": "white",
                        "linecolor": "white",
                        "ticks": ""
                      },
                      "baxis": {
                        "gridcolor": "white",
                        "linecolor": "white",
                        "ticks": ""
                      },
                      "bgcolor": "#E5ECF6",
                      "caxis": {
                        "gridcolor": "white",
                        "linecolor": "white",
                        "ticks": ""
                      }
                    },
                    "title": {
                      "x": 0.05
                    },
                    "xaxis": {
                      "automargin": true,
                      "gridcolor": "white",
                      "linecolor": "white",
                      "ticks": "",
                      "title": {
                        "standoff": 15
                      },
                      "zerolinecolor": "white",
                      "zerolinewidth": 2
                    },
                    "yaxis": {
                      "automargin": true,
                      "gridcolor": "white",
                      "linecolor": "white",
                      "ticks": "",
                      "title": {
                        "standoff": 15
                      },
                      "zerolinecolor": "white",
                      "zerolinewidth": 2
                    }
                  }
                },
                "title": {
                  "text": "Age Distribution with Sleep Disorder"
                },
                "xaxis": {
                  "anchor": "y",
                  "domain": [
                    0,
                    1
                  ],
                  "title": {
                    "text": "Age"
                  }
                },
                "yaxis": {
                  "anchor": "x",
                  "domain": [
                    0,
                    1
                  ],
                  "title": {
                    "text": "count"
                  }
                }
              }
            }
          },
          "metadata": {},
          "output_type": "display_data"
        }
      ],
      "source": [
        "# Membuat histogram distribusi 'Age' berdasarkan 'Sleep Disorder'\n",
        "fig = px.histogram(data, x='Age', color='Sleep Disorder',\n",
        "                   title='Age Distribution with Sleep Disorder',\n",
        "                   labels={'Age': 'Age', 'count': 'Count'})\n",
        "fig.update_layout(\n",
        "    bargap=0.2\n",
        ")\n",
        "fig.show()"
      ]
    },
    {
      "cell_type": "code",
      "execution_count": 20,
      "metadata": {
        "colab": {
          "base_uri": "https://localhost:8080/",
          "height": 542
        },
        "id": "SDgBE5nrzug7",
        "outputId": "bdaa9fe5-df45-4587-f207-bd76a3ca58ea"
      },
      "outputs": [
        {
          "data": {
            "application/vnd.plotly.v1+json": {
              "config": {
                "plotlyServerURL": "https://plot.ly"
              },
              "data": [
                {
                  "hovertemplate": "Sleep Disorder=Healthy Sleep<br>Sleep Duration=%{x}<br>Quality of Sleep=%{y}<extra></extra>",
                  "legendgroup": "Healthy Sleep",
                  "marker": {
                    "color": "#636efa",
                    "symbol": "circle"
                  },
                  "mode": "markers",
                  "name": "Healthy Sleep",
                  "orientation": "v",
                  "showlegend": true,
                  "type": "scatter",
                  "x": [
                    6.1,
                    6.2,
                    6.2,
                    7.8,
                    7.8,
                    7.8,
                    6.1,
                    7.8,
                    6.1,
                    6,
                    6,
                    6,
                    7.6,
                    7.7,
                    7.7,
                    7.7,
                    7.7,
                    7.8,
                    7.9,
                    7.8,
                    7.9,
                    7.9,
                    7.9,
                    7.9,
                    6.1,
                    7.7,
                    6.1,
                    6.1,
                    7.6,
                    7.6,
                    7.6,
                    7.7,
                    7.7,
                    7.7,
                    7.8,
                    7.7,
                    7.8,
                    7.7,
                    7.8,
                    7.7,
                    7.5,
                    7.5,
                    6,
                    7.6,
                    6,
                    6,
                    7.7,
                    6,
                    6,
                    7.7,
                    6,
                    6,
                    6.2,
                    6.2,
                    6.2,
                    6.2,
                    7.2,
                    6.2,
                    6.2,
                    6.1,
                    6.1,
                    6.1,
                    6.1,
                    6,
                    6,
                    6,
                    6,
                    6,
                    6,
                    6.7,
                    6.7,
                    7.5,
                    7.2,
                    7.2,
                    7.2,
                    7.3,
                    7.3,
                    7.3,
                    7.3,
                    7.5,
                    7.1,
                    7.2,
                    7.1,
                    7.1,
                    7.1,
                    7.2,
                    7.2,
                    7.2,
                    6.1,
                    7.8,
                    7.8,
                    7.4,
                    7.2,
                    7.4,
                    7.2,
                    7.4,
                    7.2,
                    7.2,
                    7.2,
                    7.2,
                    7.2,
                    7.2,
                    7.2,
                    7.2,
                    7.2,
                    7.2,
                    7.2,
                    7.5,
                    7.3,
                    7.1,
                    7.3,
                    7.3,
                    7.1,
                    7.3,
                    7.3,
                    7.1,
                    7.3,
                    7.3,
                    7.1,
                    7.1,
                    7.1,
                    7.1,
                    7.1,
                    7.1,
                    7.1,
                    7.1,
                    6.9,
                    8,
                    8,
                    7.2,
                    7.2,
                    7.2,
                    7.2,
                    7.2,
                    7.2,
                    7.2,
                    7.2,
                    7.2,
                    7.2,
                    7.2,
                    7.2,
                    7.9,
                    7.9,
                    7.3,
                    7.1,
                    7.1,
                    7.7,
                    7.7,
                    7.7,
                    7.7,
                    7.7,
                    7.6,
                    7.6,
                    7.6,
                    7.8,
                    7.8,
                    7.8,
                    7.8,
                    7.8,
                    7.8,
                    6.9,
                    7.6,
                    7.7,
                    7.7,
                    7.7,
                    7.7,
                    7.8,
                    7.7,
                    7.8,
                    7.8,
                    7.8,
                    7.8,
                    7.8,
                    7.8,
                    7.8,
                    6.4,
                    6.5,
                    6.6,
                    6.6,
                    6.9,
                    6.2,
                    8.3,
                    6,
                    8.5,
                    8.5,
                    8.5,
                    8.5,
                    7.1,
                    8.4,
                    8.4,
                    8.4,
                    8.5,
                    8.5,
                    8.4,
                    8.4,
                    8.5,
                    8.4,
                    8.4,
                    8.5,
                    8.3,
                    8.5,
                    8.3,
                    8.5,
                    8.3,
                    8.5,
                    8.5,
                    8.4,
                    8.4,
                    8.4,
                    8.4,
                    8.4,
                    8.4,
                    8.4,
                    8.5,
                    8.2,
                    8.2,
                    8.1,
                    8,
                    8.1
                  ],
                  "xaxis": "x",
                  "y": [
                    6,
                    6,
                    6,
                    7,
                    7,
                    7,
                    6,
                    7,
                    6,
                    6,
                    6,
                    6,
                    7,
                    7,
                    7,
                    7,
                    7,
                    7,
                    7,
                    7,
                    7,
                    7,
                    7,
                    8,
                    6,
                    7,
                    6,
                    6,
                    7,
                    7,
                    7,
                    7,
                    7,
                    7,
                    7,
                    7,
                    7,
                    7,
                    7,
                    7,
                    8,
                    8,
                    6,
                    7,
                    6,
                    6,
                    7,
                    6,
                    6,
                    7,
                    6,
                    6,
                    6,
                    6,
                    6,
                    6,
                    8,
                    6,
                    6,
                    6,
                    6,
                    6,
                    6,
                    6,
                    6,
                    6,
                    6,
                    6,
                    6,
                    7,
                    7,
                    8,
                    8,
                    8,
                    8,
                    8,
                    8,
                    8,
                    8,
                    8,
                    8,
                    8,
                    8,
                    8,
                    8,
                    8,
                    8,
                    8,
                    6,
                    8,
                    8,
                    8,
                    8,
                    8,
                    8,
                    8,
                    8,
                    8,
                    8,
                    8,
                    8,
                    8,
                    8,
                    8,
                    8,
                    8,
                    8,
                    8,
                    8,
                    8,
                    8,
                    8,
                    8,
                    8,
                    8,
                    8,
                    8,
                    8,
                    8,
                    8,
                    8,
                    8,
                    8,
                    8,
                    8,
                    8,
                    7,
                    9,
                    9,
                    8,
                    8,
                    8,
                    8,
                    8,
                    8,
                    8,
                    8,
                    8,
                    8,
                    8,
                    8,
                    8,
                    8,
                    8,
                    7,
                    7,
                    8,
                    8,
                    8,
                    8,
                    8,
                    8,
                    8,
                    8,
                    8,
                    8,
                    8,
                    8,
                    8,
                    8,
                    6,
                    8,
                    8,
                    8,
                    8,
                    8,
                    8,
                    8,
                    8,
                    8,
                    8,
                    8,
                    8,
                    8,
                    8,
                    6,
                    6,
                    7,
                    7,
                    7,
                    6,
                    9,
                    6,
                    9,
                    9,
                    9,
                    9,
                    7,
                    9,
                    9,
                    9,
                    9,
                    9,
                    9,
                    9,
                    9,
                    9,
                    9,
                    9,
                    9,
                    9,
                    9,
                    9,
                    9,
                    9,
                    9,
                    9,
                    9,
                    9,
                    9,
                    9,
                    9,
                    9,
                    9,
                    9,
                    9,
                    9,
                    9,
                    9
                  ],
                  "yaxis": "y"
                },
                {
                  "hovertemplate": "Sleep Disorder=Sleep Apnea<br>Sleep Duration=%{x}<br>Quality of Sleep=%{y}<extra></extra>",
                  "legendgroup": "Sleep Apnea",
                  "marker": {
                    "color": "#EF553B",
                    "symbol": "circle"
                  },
                  "mode": "markers",
                  "name": "Sleep Apnea",
                  "orientation": "v",
                  "showlegend": true,
                  "type": "scatter",
                  "x": [
                    5.9,
                    5.9,
                    6.5,
                    6,
                    6.4,
                    7.7,
                    5.8,
                    5.8,
                    7.4,
                    6.6,
                    7.2,
                    7.1,
                    7.4,
                    6.8,
                    6.8,
                    7.8,
                    6.5,
                    5.9,
                    6,
                    6.1,
                    6.1,
                    6.1,
                    6.1,
                    6.2,
                    6.2,
                    6.2,
                    8.1,
                    8.1,
                    6.1,
                    6,
                    6,
                    6,
                    6,
                    6,
                    6,
                    6,
                    6.1,
                    6,
                    6.1,
                    6.1,
                    6,
                    6.1,
                    6,
                    6.1,
                    6.1,
                    6,
                    6.1,
                    6.1,
                    8.1,
                    8.1,
                    8.2,
                    8.2,
                    8.2,
                    8.2,
                    8.2,
                    8.1,
                    8.1,
                    8.1,
                    8,
                    8,
                    8,
                    8,
                    8,
                    8,
                    8.2,
                    8.2,
                    8.2,
                    8.2,
                    8,
                    8,
                    8.1,
                    8,
                    8.1,
                    8.1,
                    8,
                    8.1,
                    8.1,
                    8.1
                  ],
                  "xaxis": "x",
                  "y": [
                    4,
                    4,
                    5,
                    6,
                    5,
                    7,
                    4,
                    4,
                    7,
                    5,
                    8,
                    8,
                    7,
                    6,
                    6,
                    8,
                    6,
                    6,
                    6,
                    6,
                    6,
                    6,
                    6,
                    6,
                    6,
                    6,
                    9,
                    9,
                    6,
                    6,
                    6,
                    6,
                    6,
                    6,
                    6,
                    6,
                    6,
                    6,
                    6,
                    6,
                    6,
                    6,
                    6,
                    6,
                    6,
                    6,
                    6,
                    6,
                    9,
                    9,
                    9,
                    9,
                    9,
                    9,
                    9,
                    9,
                    9,
                    9,
                    9,
                    9,
                    9,
                    9,
                    9,
                    9,
                    9,
                    9,
                    9,
                    9,
                    9,
                    9,
                    9,
                    9,
                    9,
                    9,
                    9,
                    9,
                    9,
                    9
                  ],
                  "yaxis": "y"
                },
                {
                  "hovertemplate": "Sleep Disorder=Insomnia<br>Sleep Duration=%{x}<br>Quality of Sleep=%{y}<extra></extra>",
                  "legendgroup": "Insomnia",
                  "marker": {
                    "color": "#00cc96",
                    "symbol": "circle"
                  },
                  "mode": "markers",
                  "name": "Insomnia",
                  "orientation": "v",
                  "showlegend": true,
                  "type": "scatter",
                  "x": [
                    5.9,
                    6.3,
                    6.5,
                    6.4,
                    6,
                    7.2,
                    6.6,
                    7.2,
                    6.5,
                    7.6,
                    6.5,
                    6.7,
                    6.3,
                    6.7,
                    6.5,
                    6.7,
                    6.4,
                    6.5,
                    6.5,
                    6.5,
                    6.5,
                    6.5,
                    6.5,
                    6.5,
                    6.5,
                    6.5,
                    7.8,
                    7.8,
                    6.6,
                    6.4,
                    6.3,
                    6.4,
                    6.6,
                    6.3,
                    6.6,
                    6.3,
                    6.6,
                    6.3,
                    6.6,
                    6.3,
                    6.6,
                    6.3,
                    6.6,
                    6.3,
                    6.4,
                    6.5,
                    6.3,
                    6.4,
                    6.5,
                    6.3,
                    6.4,
                    6.5,
                    6.3,
                    6.5,
                    6.3,
                    6.8,
                    6.8,
                    6.8,
                    6.5,
                    6.5,
                    6.5,
                    6.5,
                    6.6,
                    6.6,
                    6.6,
                    6.6,
                    6.6,
                    7.3,
                    7.3,
                    6.1,
                    6.5,
                    6.5,
                    6.6,
                    6.6,
                    6.6,
                    6.6,
                    8.3
                  ],
                  "xaxis": "x",
                  "y": [
                    4,
                    6,
                    5,
                    5,
                    6,
                    8,
                    5,
                    8,
                    5,
                    8,
                    6,
                    7,
                    6,
                    7,
                    6,
                    7,
                    6,
                    6,
                    6,
                    6,
                    6,
                    6,
                    6,
                    6,
                    6,
                    6,
                    8,
                    8,
                    7,
                    6,
                    6,
                    6,
                    7,
                    6,
                    7,
                    6,
                    7,
                    6,
                    7,
                    6,
                    7,
                    6,
                    7,
                    6,
                    6,
                    7,
                    6,
                    6,
                    7,
                    6,
                    6,
                    7,
                    6,
                    7,
                    6,
                    7,
                    7,
                    7,
                    7,
                    7,
                    7,
                    7,
                    7,
                    7,
                    7,
                    7,
                    7,
                    7,
                    7,
                    6,
                    7,
                    7,
                    7,
                    7,
                    7,
                    7,
                    9
                  ],
                  "yaxis": "y"
                }
              ],
              "layout": {
                "legend": {
                  "title": {
                    "text": "Sleep Disorder"
                  },
                  "tracegroupgap": 0
                },
                "template": {
                  "data": {
                    "bar": [
                      {
                        "error_x": {
                          "color": "#2a3f5f"
                        },
                        "error_y": {
                          "color": "#2a3f5f"
                        },
                        "marker": {
                          "line": {
                            "color": "#E5ECF6",
                            "width": 0.5
                          },
                          "pattern": {
                            "fillmode": "overlay",
                            "size": 10,
                            "solidity": 0.2
                          }
                        },
                        "type": "bar"
                      }
                    ],
                    "barpolar": [
                      {
                        "marker": {
                          "line": {
                            "color": "#E5ECF6",
                            "width": 0.5
                          },
                          "pattern": {
                            "fillmode": "overlay",
                            "size": 10,
                            "solidity": 0.2
                          }
                        },
                        "type": "barpolar"
                      }
                    ],
                    "carpet": [
                      {
                        "aaxis": {
                          "endlinecolor": "#2a3f5f",
                          "gridcolor": "white",
                          "linecolor": "white",
                          "minorgridcolor": "white",
                          "startlinecolor": "#2a3f5f"
                        },
                        "baxis": {
                          "endlinecolor": "#2a3f5f",
                          "gridcolor": "white",
                          "linecolor": "white",
                          "minorgridcolor": "white",
                          "startlinecolor": "#2a3f5f"
                        },
                        "type": "carpet"
                      }
                    ],
                    "choropleth": [
                      {
                        "colorbar": {
                          "outlinewidth": 0,
                          "ticks": ""
                        },
                        "type": "choropleth"
                      }
                    ],
                    "contour": [
                      {
                        "colorbar": {
                          "outlinewidth": 0,
                          "ticks": ""
                        },
                        "colorscale": [
                          [
                            0,
                            "#0d0887"
                          ],
                          [
                            0.1111111111111111,
                            "#46039f"
                          ],
                          [
                            0.2222222222222222,
                            "#7201a8"
                          ],
                          [
                            0.3333333333333333,
                            "#9c179e"
                          ],
                          [
                            0.4444444444444444,
                            "#bd3786"
                          ],
                          [
                            0.5555555555555556,
                            "#d8576b"
                          ],
                          [
                            0.6666666666666666,
                            "#ed7953"
                          ],
                          [
                            0.7777777777777778,
                            "#fb9f3a"
                          ],
                          [
                            0.8888888888888888,
                            "#fdca26"
                          ],
                          [
                            1,
                            "#f0f921"
                          ]
                        ],
                        "type": "contour"
                      }
                    ],
                    "contourcarpet": [
                      {
                        "colorbar": {
                          "outlinewidth": 0,
                          "ticks": ""
                        },
                        "type": "contourcarpet"
                      }
                    ],
                    "heatmap": [
                      {
                        "colorbar": {
                          "outlinewidth": 0,
                          "ticks": ""
                        },
                        "colorscale": [
                          [
                            0,
                            "#0d0887"
                          ],
                          [
                            0.1111111111111111,
                            "#46039f"
                          ],
                          [
                            0.2222222222222222,
                            "#7201a8"
                          ],
                          [
                            0.3333333333333333,
                            "#9c179e"
                          ],
                          [
                            0.4444444444444444,
                            "#bd3786"
                          ],
                          [
                            0.5555555555555556,
                            "#d8576b"
                          ],
                          [
                            0.6666666666666666,
                            "#ed7953"
                          ],
                          [
                            0.7777777777777778,
                            "#fb9f3a"
                          ],
                          [
                            0.8888888888888888,
                            "#fdca26"
                          ],
                          [
                            1,
                            "#f0f921"
                          ]
                        ],
                        "type": "heatmap"
                      }
                    ],
                    "heatmapgl": [
                      {
                        "colorbar": {
                          "outlinewidth": 0,
                          "ticks": ""
                        },
                        "colorscale": [
                          [
                            0,
                            "#0d0887"
                          ],
                          [
                            0.1111111111111111,
                            "#46039f"
                          ],
                          [
                            0.2222222222222222,
                            "#7201a8"
                          ],
                          [
                            0.3333333333333333,
                            "#9c179e"
                          ],
                          [
                            0.4444444444444444,
                            "#bd3786"
                          ],
                          [
                            0.5555555555555556,
                            "#d8576b"
                          ],
                          [
                            0.6666666666666666,
                            "#ed7953"
                          ],
                          [
                            0.7777777777777778,
                            "#fb9f3a"
                          ],
                          [
                            0.8888888888888888,
                            "#fdca26"
                          ],
                          [
                            1,
                            "#f0f921"
                          ]
                        ],
                        "type": "heatmapgl"
                      }
                    ],
                    "histogram": [
                      {
                        "marker": {
                          "pattern": {
                            "fillmode": "overlay",
                            "size": 10,
                            "solidity": 0.2
                          }
                        },
                        "type": "histogram"
                      }
                    ],
                    "histogram2d": [
                      {
                        "colorbar": {
                          "outlinewidth": 0,
                          "ticks": ""
                        },
                        "colorscale": [
                          [
                            0,
                            "#0d0887"
                          ],
                          [
                            0.1111111111111111,
                            "#46039f"
                          ],
                          [
                            0.2222222222222222,
                            "#7201a8"
                          ],
                          [
                            0.3333333333333333,
                            "#9c179e"
                          ],
                          [
                            0.4444444444444444,
                            "#bd3786"
                          ],
                          [
                            0.5555555555555556,
                            "#d8576b"
                          ],
                          [
                            0.6666666666666666,
                            "#ed7953"
                          ],
                          [
                            0.7777777777777778,
                            "#fb9f3a"
                          ],
                          [
                            0.8888888888888888,
                            "#fdca26"
                          ],
                          [
                            1,
                            "#f0f921"
                          ]
                        ],
                        "type": "histogram2d"
                      }
                    ],
                    "histogram2dcontour": [
                      {
                        "colorbar": {
                          "outlinewidth": 0,
                          "ticks": ""
                        },
                        "colorscale": [
                          [
                            0,
                            "#0d0887"
                          ],
                          [
                            0.1111111111111111,
                            "#46039f"
                          ],
                          [
                            0.2222222222222222,
                            "#7201a8"
                          ],
                          [
                            0.3333333333333333,
                            "#9c179e"
                          ],
                          [
                            0.4444444444444444,
                            "#bd3786"
                          ],
                          [
                            0.5555555555555556,
                            "#d8576b"
                          ],
                          [
                            0.6666666666666666,
                            "#ed7953"
                          ],
                          [
                            0.7777777777777778,
                            "#fb9f3a"
                          ],
                          [
                            0.8888888888888888,
                            "#fdca26"
                          ],
                          [
                            1,
                            "#f0f921"
                          ]
                        ],
                        "type": "histogram2dcontour"
                      }
                    ],
                    "mesh3d": [
                      {
                        "colorbar": {
                          "outlinewidth": 0,
                          "ticks": ""
                        },
                        "type": "mesh3d"
                      }
                    ],
                    "parcoords": [
                      {
                        "line": {
                          "colorbar": {
                            "outlinewidth": 0,
                            "ticks": ""
                          }
                        },
                        "type": "parcoords"
                      }
                    ],
                    "pie": [
                      {
                        "automargin": true,
                        "type": "pie"
                      }
                    ],
                    "scatter": [
                      {
                        "fillpattern": {
                          "fillmode": "overlay",
                          "size": 10,
                          "solidity": 0.2
                        },
                        "type": "scatter"
                      }
                    ],
                    "scatter3d": [
                      {
                        "line": {
                          "colorbar": {
                            "outlinewidth": 0,
                            "ticks": ""
                          }
                        },
                        "marker": {
                          "colorbar": {
                            "outlinewidth": 0,
                            "ticks": ""
                          }
                        },
                        "type": "scatter3d"
                      }
                    ],
                    "scattercarpet": [
                      {
                        "marker": {
                          "colorbar": {
                            "outlinewidth": 0,
                            "ticks": ""
                          }
                        },
                        "type": "scattercarpet"
                      }
                    ],
                    "scattergeo": [
                      {
                        "marker": {
                          "colorbar": {
                            "outlinewidth": 0,
                            "ticks": ""
                          }
                        },
                        "type": "scattergeo"
                      }
                    ],
                    "scattergl": [
                      {
                        "marker": {
                          "colorbar": {
                            "outlinewidth": 0,
                            "ticks": ""
                          }
                        },
                        "type": "scattergl"
                      }
                    ],
                    "scattermapbox": [
                      {
                        "marker": {
                          "colorbar": {
                            "outlinewidth": 0,
                            "ticks": ""
                          }
                        },
                        "type": "scattermapbox"
                      }
                    ],
                    "scatterpolar": [
                      {
                        "marker": {
                          "colorbar": {
                            "outlinewidth": 0,
                            "ticks": ""
                          }
                        },
                        "type": "scatterpolar"
                      }
                    ],
                    "scatterpolargl": [
                      {
                        "marker": {
                          "colorbar": {
                            "outlinewidth": 0,
                            "ticks": ""
                          }
                        },
                        "type": "scatterpolargl"
                      }
                    ],
                    "scatterternary": [
                      {
                        "marker": {
                          "colorbar": {
                            "outlinewidth": 0,
                            "ticks": ""
                          }
                        },
                        "type": "scatterternary"
                      }
                    ],
                    "surface": [
                      {
                        "colorbar": {
                          "outlinewidth": 0,
                          "ticks": ""
                        },
                        "colorscale": [
                          [
                            0,
                            "#0d0887"
                          ],
                          [
                            0.1111111111111111,
                            "#46039f"
                          ],
                          [
                            0.2222222222222222,
                            "#7201a8"
                          ],
                          [
                            0.3333333333333333,
                            "#9c179e"
                          ],
                          [
                            0.4444444444444444,
                            "#bd3786"
                          ],
                          [
                            0.5555555555555556,
                            "#d8576b"
                          ],
                          [
                            0.6666666666666666,
                            "#ed7953"
                          ],
                          [
                            0.7777777777777778,
                            "#fb9f3a"
                          ],
                          [
                            0.8888888888888888,
                            "#fdca26"
                          ],
                          [
                            1,
                            "#f0f921"
                          ]
                        ],
                        "type": "surface"
                      }
                    ],
                    "table": [
                      {
                        "cells": {
                          "fill": {
                            "color": "#EBF0F8"
                          },
                          "line": {
                            "color": "white"
                          }
                        },
                        "header": {
                          "fill": {
                            "color": "#C8D4E3"
                          },
                          "line": {
                            "color": "white"
                          }
                        },
                        "type": "table"
                      }
                    ]
                  },
                  "layout": {
                    "annotationdefaults": {
                      "arrowcolor": "#2a3f5f",
                      "arrowhead": 0,
                      "arrowwidth": 1
                    },
                    "autotypenumbers": "strict",
                    "coloraxis": {
                      "colorbar": {
                        "outlinewidth": 0,
                        "ticks": ""
                      }
                    },
                    "colorscale": {
                      "diverging": [
                        [
                          0,
                          "#8e0152"
                        ],
                        [
                          0.1,
                          "#c51b7d"
                        ],
                        [
                          0.2,
                          "#de77ae"
                        ],
                        [
                          0.3,
                          "#f1b6da"
                        ],
                        [
                          0.4,
                          "#fde0ef"
                        ],
                        [
                          0.5,
                          "#f7f7f7"
                        ],
                        [
                          0.6,
                          "#e6f5d0"
                        ],
                        [
                          0.7,
                          "#b8e186"
                        ],
                        [
                          0.8,
                          "#7fbc41"
                        ],
                        [
                          0.9,
                          "#4d9221"
                        ],
                        [
                          1,
                          "#276419"
                        ]
                      ],
                      "sequential": [
                        [
                          0,
                          "#0d0887"
                        ],
                        [
                          0.1111111111111111,
                          "#46039f"
                        ],
                        [
                          0.2222222222222222,
                          "#7201a8"
                        ],
                        [
                          0.3333333333333333,
                          "#9c179e"
                        ],
                        [
                          0.4444444444444444,
                          "#bd3786"
                        ],
                        [
                          0.5555555555555556,
                          "#d8576b"
                        ],
                        [
                          0.6666666666666666,
                          "#ed7953"
                        ],
                        [
                          0.7777777777777778,
                          "#fb9f3a"
                        ],
                        [
                          0.8888888888888888,
                          "#fdca26"
                        ],
                        [
                          1,
                          "#f0f921"
                        ]
                      ],
                      "sequentialminus": [
                        [
                          0,
                          "#0d0887"
                        ],
                        [
                          0.1111111111111111,
                          "#46039f"
                        ],
                        [
                          0.2222222222222222,
                          "#7201a8"
                        ],
                        [
                          0.3333333333333333,
                          "#9c179e"
                        ],
                        [
                          0.4444444444444444,
                          "#bd3786"
                        ],
                        [
                          0.5555555555555556,
                          "#d8576b"
                        ],
                        [
                          0.6666666666666666,
                          "#ed7953"
                        ],
                        [
                          0.7777777777777778,
                          "#fb9f3a"
                        ],
                        [
                          0.8888888888888888,
                          "#fdca26"
                        ],
                        [
                          1,
                          "#f0f921"
                        ]
                      ]
                    },
                    "colorway": [
                      "#636efa",
                      "#EF553B",
                      "#00cc96",
                      "#ab63fa",
                      "#FFA15A",
                      "#19d3f3",
                      "#FF6692",
                      "#B6E880",
                      "#FF97FF",
                      "#FECB52"
                    ],
                    "font": {
                      "color": "#2a3f5f"
                    },
                    "geo": {
                      "bgcolor": "white",
                      "lakecolor": "white",
                      "landcolor": "#E5ECF6",
                      "showlakes": true,
                      "showland": true,
                      "subunitcolor": "white"
                    },
                    "hoverlabel": {
                      "align": "left"
                    },
                    "hovermode": "closest",
                    "mapbox": {
                      "style": "light"
                    },
                    "paper_bgcolor": "white",
                    "plot_bgcolor": "#E5ECF6",
                    "polar": {
                      "angularaxis": {
                        "gridcolor": "white",
                        "linecolor": "white",
                        "ticks": ""
                      },
                      "bgcolor": "#E5ECF6",
                      "radialaxis": {
                        "gridcolor": "white",
                        "linecolor": "white",
                        "ticks": ""
                      }
                    },
                    "scene": {
                      "xaxis": {
                        "backgroundcolor": "#E5ECF6",
                        "gridcolor": "white",
                        "gridwidth": 2,
                        "linecolor": "white",
                        "showbackground": true,
                        "ticks": "",
                        "zerolinecolor": "white"
                      },
                      "yaxis": {
                        "backgroundcolor": "#E5ECF6",
                        "gridcolor": "white",
                        "gridwidth": 2,
                        "linecolor": "white",
                        "showbackground": true,
                        "ticks": "",
                        "zerolinecolor": "white"
                      },
                      "zaxis": {
                        "backgroundcolor": "#E5ECF6",
                        "gridcolor": "white",
                        "gridwidth": 2,
                        "linecolor": "white",
                        "showbackground": true,
                        "ticks": "",
                        "zerolinecolor": "white"
                      }
                    },
                    "shapedefaults": {
                      "line": {
                        "color": "#2a3f5f"
                      }
                    },
                    "ternary": {
                      "aaxis": {
                        "gridcolor": "white",
                        "linecolor": "white",
                        "ticks": ""
                      },
                      "baxis": {
                        "gridcolor": "white",
                        "linecolor": "white",
                        "ticks": ""
                      },
                      "bgcolor": "#E5ECF6",
                      "caxis": {
                        "gridcolor": "white",
                        "linecolor": "white",
                        "ticks": ""
                      }
                    },
                    "title": {
                      "x": 0.05
                    },
                    "xaxis": {
                      "automargin": true,
                      "gridcolor": "white",
                      "linecolor": "white",
                      "ticks": "",
                      "title": {
                        "standoff": 15
                      },
                      "zerolinecolor": "white",
                      "zerolinewidth": 2
                    },
                    "yaxis": {
                      "automargin": true,
                      "gridcolor": "white",
                      "linecolor": "white",
                      "ticks": "",
                      "title": {
                        "standoff": 15
                      },
                      "zerolinecolor": "white",
                      "zerolinewidth": 2
                    }
                  }
                },
                "title": {
                  "text": "Sleep Duration vs. Quality of Sleep"
                },
                "xaxis": {
                  "anchor": "y",
                  "domain": [
                    0,
                    1
                  ],
                  "title": {
                    "text": "Sleep Duration"
                  }
                },
                "yaxis": {
                  "anchor": "x",
                  "domain": [
                    0,
                    1
                  ],
                  "title": {
                    "text": "Quality of Sleep"
                  }
                }
              }
            }
          },
          "metadata": {},
          "output_type": "display_data"
        }
      ],
      "source": [
        "# Membuat scatter plot antara 'Sleep Duration' dan 'Quality of Sleep' berdasarkan 'Sleep Disorder'\n",
        "fig = px.scatter(data, x='Sleep Duration', y='Quality of Sleep', color='Sleep Disorder',\n",
        "                 title='Sleep Duration vs. Quality of Sleep',\n",
        "                 labels={'Sleep Duration': 'Sleep Duration', 'Quality of Sleep': 'Quality of Sleep'})\n",
        "fig.show()"
      ]
    },
    {
      "cell_type": "code",
      "execution_count": 21,
      "metadata": {
        "colab": {
          "base_uri": "https://localhost:8080/",
          "height": 542
        },
        "id": "Hmqgozfxzzdc",
        "outputId": "5f70e394-3ca1-46de-d68d-1e63ff3f5c27"
      },
      "outputs": [
        {
          "data": {
            "application/vnd.plotly.v1+json": {
              "config": {
                "plotlyServerURL": "https://plot.ly"
              },
              "data": [
                {
                  "hovertemplate": "Sleep Disorder=Healthy Sleep<br>Physical Activity Level=%{x}<br>Stress Level=%{y}<extra></extra>",
                  "legendgroup": "Healthy Sleep",
                  "marker": {
                    "color": "#636efa",
                    "symbol": "circle"
                  },
                  "mode": "markers",
                  "name": "Healthy Sleep",
                  "orientation": "v",
                  "showlegend": true,
                  "type": "scatter",
                  "x": [
                    42,
                    60,
                    60,
                    75,
                    75,
                    75,
                    30,
                    75,
                    30,
                    30,
                    30,
                    30,
                    75,
                    75,
                    75,
                    75,
                    75,
                    75,
                    75,
                    75,
                    75,
                    75,
                    75,
                    75,
                    30,
                    75,
                    30,
                    30,
                    75,
                    75,
                    75,
                    75,
                    75,
                    75,
                    75,
                    75,
                    75,
                    75,
                    75,
                    75,
                    45,
                    45,
                    30,
                    75,
                    30,
                    30,
                    75,
                    30,
                    30,
                    75,
                    30,
                    30,
                    30,
                    30,
                    30,
                    30,
                    50,
                    50,
                    50,
                    30,
                    30,
                    30,
                    30,
                    30,
                    30,
                    30,
                    30,
                    30,
                    30,
                    40,
                    40,
                    60,
                    60,
                    60,
                    60,
                    60,
                    60,
                    60,
                    60,
                    60,
                    60,
                    60,
                    60,
                    60,
                    60,
                    60,
                    60,
                    60,
                    42,
                    70,
                    70,
                    60,
                    60,
                    60,
                    60,
                    60,
                    60,
                    60,
                    60,
                    60,
                    60,
                    60,
                    60,
                    60,
                    60,
                    60,
                    60,
                    60,
                    60,
                    60,
                    60,
                    60,
                    60,
                    60,
                    60,
                    60,
                    60,
                    60,
                    60,
                    60,
                    60,
                    60,
                    60,
                    60,
                    60,
                    60,
                    50,
                    80,
                    80,
                    60,
                    60,
                    60,
                    60,
                    60,
                    60,
                    60,
                    60,
                    60,
                    60,
                    55,
                    55,
                    90,
                    90,
                    70,
                    55,
                    55,
                    90,
                    90,
                    90,
                    90,
                    90,
                    90,
                    90,
                    90,
                    90,
                    90,
                    90,
                    90,
                    90,
                    90,
                    47,
                    75,
                    90,
                    90,
                    90,
                    90,
                    90,
                    90,
                    90,
                    90,
                    90,
                    90,
                    90,
                    90,
                    90,
                    45,
                    45,
                    45,
                    45,
                    55,
                    90,
                    30,
                    90,
                    30,
                    30,
                    30,
                    30,
                    55,
                    30,
                    30,
                    30,
                    30,
                    30,
                    30,
                    30,
                    30,
                    30,
                    30,
                    30,
                    30,
                    30,
                    30,
                    30,
                    30,
                    30,
                    30,
                    30,
                    30,
                    30,
                    30,
                    30,
                    30,
                    30,
                    30,
                    90,
                    90,
                    75,
                    75,
                    75
                  ],
                  "xaxis": "x",
                  "y": [
                    6,
                    8,
                    8,
                    6,
                    6,
                    6,
                    8,
                    6,
                    8,
                    8,
                    8,
                    8,
                    6,
                    6,
                    6,
                    6,
                    6,
                    6,
                    6,
                    6,
                    6,
                    6,
                    6,
                    4,
                    8,
                    6,
                    8,
                    8,
                    6,
                    6,
                    6,
                    6,
                    6,
                    6,
                    6,
                    6,
                    6,
                    6,
                    6,
                    6,
                    3,
                    3,
                    8,
                    6,
                    8,
                    8,
                    6,
                    8,
                    8,
                    6,
                    8,
                    8,
                    8,
                    8,
                    8,
                    8,
                    6,
                    6,
                    6,
                    8,
                    8,
                    8,
                    8,
                    8,
                    8,
                    8,
                    8,
                    8,
                    8,
                    5,
                    5,
                    5,
                    4,
                    4,
                    4,
                    4,
                    4,
                    4,
                    4,
                    5,
                    4,
                    4,
                    4,
                    4,
                    4,
                    4,
                    4,
                    4,
                    6,
                    4,
                    4,
                    5,
                    4,
                    5,
                    4,
                    5,
                    4,
                    4,
                    4,
                    4,
                    4,
                    4,
                    4,
                    4,
                    4,
                    4,
                    4,
                    4,
                    5,
                    4,
                    5,
                    5,
                    4,
                    5,
                    5,
                    4,
                    5,
                    5,
                    4,
                    5,
                    4,
                    5,
                    4,
                    5,
                    4,
                    4,
                    6,
                    3,
                    3,
                    5,
                    5,
                    5,
                    5,
                    5,
                    5,
                    5,
                    5,
                    5,
                    5,
                    6,
                    6,
                    5,
                    5,
                    6,
                    6,
                    6,
                    5,
                    5,
                    5,
                    5,
                    5,
                    5,
                    5,
                    5,
                    5,
                    5,
                    5,
                    5,
                    5,
                    5,
                    7,
                    4,
                    5,
                    5,
                    5,
                    5,
                    5,
                    5,
                    5,
                    5,
                    5,
                    5,
                    5,
                    5,
                    5,
                    7,
                    7,
                    4,
                    4,
                    5,
                    8,
                    3,
                    8,
                    3,
                    3,
                    3,
                    3,
                    6,
                    3,
                    3,
                    3,
                    3,
                    3,
                    3,
                    3,
                    3,
                    3,
                    3,
                    3,
                    3,
                    3,
                    3,
                    3,
                    3,
                    3,
                    3,
                    3,
                    3,
                    3,
                    3,
                    3,
                    3,
                    3,
                    3,
                    3,
                    3,
                    3,
                    3,
                    3
                  ],
                  "yaxis": "y"
                },
                {
                  "hovertemplate": "Sleep Disorder=Sleep Apnea<br>Physical Activity Level=%{x}<br>Stress Level=%{y}<extra></extra>",
                  "legendgroup": "Sleep Apnea",
                  "marker": {
                    "color": "#EF553B",
                    "symbol": "circle"
                  },
                  "mode": "markers",
                  "name": "Sleep Apnea",
                  "orientation": "v",
                  "showlegend": true,
                  "type": "scatter",
                  "x": [
                    30,
                    30,
                    40,
                    30,
                    35,
                    75,
                    32,
                    32,
                    60,
                    35,
                    60,
                    60,
                    60,
                    45,
                    45,
                    90,
                    45,
                    90,
                    90,
                    90,
                    90,
                    90,
                    90,
                    90,
                    90,
                    90,
                    85,
                    85,
                    90,
                    90,
                    90,
                    90,
                    90,
                    90,
                    90,
                    90,
                    90,
                    90,
                    90,
                    90,
                    90,
                    90,
                    90,
                    90,
                    90,
                    90,
                    90,
                    90,
                    75,
                    75,
                    75,
                    75,
                    75,
                    75,
                    75,
                    75,
                    75,
                    75,
                    75,
                    75,
                    75,
                    75,
                    75,
                    75,
                    75,
                    75,
                    75,
                    75,
                    75,
                    75,
                    75,
                    75,
                    75,
                    75,
                    75,
                    75,
                    75,
                    75
                  ],
                  "xaxis": "x",
                  "y": [
                    8,
                    8,
                    7,
                    8,
                    7,
                    6,
                    8,
                    8,
                    5,
                    7,
                    4,
                    5,
                    5,
                    7,
                    7,
                    5,
                    7,
                    8,
                    8,
                    8,
                    8,
                    8,
                    8,
                    8,
                    8,
                    8,
                    3,
                    3,
                    8,
                    8,
                    8,
                    8,
                    8,
                    8,
                    8,
                    8,
                    8,
                    8,
                    8,
                    8,
                    8,
                    8,
                    8,
                    8,
                    8,
                    8,
                    8,
                    8,
                    4,
                    4,
                    3,
                    3,
                    3,
                    3,
                    3,
                    3,
                    3,
                    3,
                    3,
                    3,
                    3,
                    3,
                    3,
                    3,
                    3,
                    3,
                    3,
                    3,
                    3,
                    3,
                    3,
                    3,
                    3,
                    3,
                    3,
                    3,
                    3,
                    3
                  ],
                  "yaxis": "y"
                },
                {
                  "hovertemplate": "Sleep Disorder=Insomnia<br>Physical Activity Level=%{x}<br>Stress Level=%{y}<extra></extra>",
                  "legendgroup": "Insomnia",
                  "marker": {
                    "color": "#00cc96",
                    "symbol": "circle"
                  },
                  "mode": "markers",
                  "name": "Insomnia",
                  "orientation": "v",
                  "showlegend": true,
                  "type": "scatter",
                  "x": [
                    30,
                    40,
                    40,
                    35,
                    30,
                    60,
                    35,
                    60,
                    40,
                    90,
                    45,
                    45,
                    45,
                    45,
                    45,
                    45,
                    45,
                    45,
                    45,
                    45,
                    45,
                    45,
                    45,
                    45,
                    45,
                    45,
                    90,
                    90,
                    45,
                    45,
                    45,
                    45,
                    45,
                    45,
                    45,
                    45,
                    45,
                    45,
                    45,
                    45,
                    45,
                    45,
                    45,
                    45,
                    45,
                    45,
                    45,
                    45,
                    45,
                    45,
                    45,
                    45,
                    45,
                    45,
                    45,
                    45,
                    30,
                    30,
                    45,
                    45,
                    45,
                    45,
                    45,
                    45,
                    45,
                    45,
                    45,
                    65,
                    65,
                    90,
                    45,
                    45,
                    45,
                    45,
                    45,
                    45,
                    30
                  ],
                  "xaxis": "x",
                  "y": [
                    8,
                    7,
                    7,
                    7,
                    8,
                    4,
                    7,
                    5,
                    7,
                    5,
                    7,
                    4,
                    7,
                    4,
                    7,
                    4,
                    7,
                    7,
                    7,
                    7,
                    7,
                    7,
                    7,
                    7,
                    7,
                    7,
                    5,
                    5,
                    4,
                    7,
                    7,
                    7,
                    4,
                    7,
                    4,
                    7,
                    4,
                    7,
                    4,
                    7,
                    4,
                    7,
                    4,
                    7,
                    7,
                    4,
                    7,
                    7,
                    4,
                    7,
                    7,
                    4,
                    7,
                    4,
                    7,
                    7,
                    6,
                    6,
                    4,
                    4,
                    4,
                    4,
                    4,
                    4,
                    4,
                    4,
                    4,
                    5,
                    5,
                    8,
                    7,
                    7,
                    7,
                    7,
                    7,
                    7,
                    3
                  ],
                  "yaxis": "y"
                }
              ],
              "layout": {
                "legend": {
                  "title": {
                    "text": "Sleep Disorder"
                  },
                  "tracegroupgap": 0
                },
                "template": {
                  "data": {
                    "bar": [
                      {
                        "error_x": {
                          "color": "#2a3f5f"
                        },
                        "error_y": {
                          "color": "#2a3f5f"
                        },
                        "marker": {
                          "line": {
                            "color": "#E5ECF6",
                            "width": 0.5
                          },
                          "pattern": {
                            "fillmode": "overlay",
                            "size": 10,
                            "solidity": 0.2
                          }
                        },
                        "type": "bar"
                      }
                    ],
                    "barpolar": [
                      {
                        "marker": {
                          "line": {
                            "color": "#E5ECF6",
                            "width": 0.5
                          },
                          "pattern": {
                            "fillmode": "overlay",
                            "size": 10,
                            "solidity": 0.2
                          }
                        },
                        "type": "barpolar"
                      }
                    ],
                    "carpet": [
                      {
                        "aaxis": {
                          "endlinecolor": "#2a3f5f",
                          "gridcolor": "white",
                          "linecolor": "white",
                          "minorgridcolor": "white",
                          "startlinecolor": "#2a3f5f"
                        },
                        "baxis": {
                          "endlinecolor": "#2a3f5f",
                          "gridcolor": "white",
                          "linecolor": "white",
                          "minorgridcolor": "white",
                          "startlinecolor": "#2a3f5f"
                        },
                        "type": "carpet"
                      }
                    ],
                    "choropleth": [
                      {
                        "colorbar": {
                          "outlinewidth": 0,
                          "ticks": ""
                        },
                        "type": "choropleth"
                      }
                    ],
                    "contour": [
                      {
                        "colorbar": {
                          "outlinewidth": 0,
                          "ticks": ""
                        },
                        "colorscale": [
                          [
                            0,
                            "#0d0887"
                          ],
                          [
                            0.1111111111111111,
                            "#46039f"
                          ],
                          [
                            0.2222222222222222,
                            "#7201a8"
                          ],
                          [
                            0.3333333333333333,
                            "#9c179e"
                          ],
                          [
                            0.4444444444444444,
                            "#bd3786"
                          ],
                          [
                            0.5555555555555556,
                            "#d8576b"
                          ],
                          [
                            0.6666666666666666,
                            "#ed7953"
                          ],
                          [
                            0.7777777777777778,
                            "#fb9f3a"
                          ],
                          [
                            0.8888888888888888,
                            "#fdca26"
                          ],
                          [
                            1,
                            "#f0f921"
                          ]
                        ],
                        "type": "contour"
                      }
                    ],
                    "contourcarpet": [
                      {
                        "colorbar": {
                          "outlinewidth": 0,
                          "ticks": ""
                        },
                        "type": "contourcarpet"
                      }
                    ],
                    "heatmap": [
                      {
                        "colorbar": {
                          "outlinewidth": 0,
                          "ticks": ""
                        },
                        "colorscale": [
                          [
                            0,
                            "#0d0887"
                          ],
                          [
                            0.1111111111111111,
                            "#46039f"
                          ],
                          [
                            0.2222222222222222,
                            "#7201a8"
                          ],
                          [
                            0.3333333333333333,
                            "#9c179e"
                          ],
                          [
                            0.4444444444444444,
                            "#bd3786"
                          ],
                          [
                            0.5555555555555556,
                            "#d8576b"
                          ],
                          [
                            0.6666666666666666,
                            "#ed7953"
                          ],
                          [
                            0.7777777777777778,
                            "#fb9f3a"
                          ],
                          [
                            0.8888888888888888,
                            "#fdca26"
                          ],
                          [
                            1,
                            "#f0f921"
                          ]
                        ],
                        "type": "heatmap"
                      }
                    ],
                    "heatmapgl": [
                      {
                        "colorbar": {
                          "outlinewidth": 0,
                          "ticks": ""
                        },
                        "colorscale": [
                          [
                            0,
                            "#0d0887"
                          ],
                          [
                            0.1111111111111111,
                            "#46039f"
                          ],
                          [
                            0.2222222222222222,
                            "#7201a8"
                          ],
                          [
                            0.3333333333333333,
                            "#9c179e"
                          ],
                          [
                            0.4444444444444444,
                            "#bd3786"
                          ],
                          [
                            0.5555555555555556,
                            "#d8576b"
                          ],
                          [
                            0.6666666666666666,
                            "#ed7953"
                          ],
                          [
                            0.7777777777777778,
                            "#fb9f3a"
                          ],
                          [
                            0.8888888888888888,
                            "#fdca26"
                          ],
                          [
                            1,
                            "#f0f921"
                          ]
                        ],
                        "type": "heatmapgl"
                      }
                    ],
                    "histogram": [
                      {
                        "marker": {
                          "pattern": {
                            "fillmode": "overlay",
                            "size": 10,
                            "solidity": 0.2
                          }
                        },
                        "type": "histogram"
                      }
                    ],
                    "histogram2d": [
                      {
                        "colorbar": {
                          "outlinewidth": 0,
                          "ticks": ""
                        },
                        "colorscale": [
                          [
                            0,
                            "#0d0887"
                          ],
                          [
                            0.1111111111111111,
                            "#46039f"
                          ],
                          [
                            0.2222222222222222,
                            "#7201a8"
                          ],
                          [
                            0.3333333333333333,
                            "#9c179e"
                          ],
                          [
                            0.4444444444444444,
                            "#bd3786"
                          ],
                          [
                            0.5555555555555556,
                            "#d8576b"
                          ],
                          [
                            0.6666666666666666,
                            "#ed7953"
                          ],
                          [
                            0.7777777777777778,
                            "#fb9f3a"
                          ],
                          [
                            0.8888888888888888,
                            "#fdca26"
                          ],
                          [
                            1,
                            "#f0f921"
                          ]
                        ],
                        "type": "histogram2d"
                      }
                    ],
                    "histogram2dcontour": [
                      {
                        "colorbar": {
                          "outlinewidth": 0,
                          "ticks": ""
                        },
                        "colorscale": [
                          [
                            0,
                            "#0d0887"
                          ],
                          [
                            0.1111111111111111,
                            "#46039f"
                          ],
                          [
                            0.2222222222222222,
                            "#7201a8"
                          ],
                          [
                            0.3333333333333333,
                            "#9c179e"
                          ],
                          [
                            0.4444444444444444,
                            "#bd3786"
                          ],
                          [
                            0.5555555555555556,
                            "#d8576b"
                          ],
                          [
                            0.6666666666666666,
                            "#ed7953"
                          ],
                          [
                            0.7777777777777778,
                            "#fb9f3a"
                          ],
                          [
                            0.8888888888888888,
                            "#fdca26"
                          ],
                          [
                            1,
                            "#f0f921"
                          ]
                        ],
                        "type": "histogram2dcontour"
                      }
                    ],
                    "mesh3d": [
                      {
                        "colorbar": {
                          "outlinewidth": 0,
                          "ticks": ""
                        },
                        "type": "mesh3d"
                      }
                    ],
                    "parcoords": [
                      {
                        "line": {
                          "colorbar": {
                            "outlinewidth": 0,
                            "ticks": ""
                          }
                        },
                        "type": "parcoords"
                      }
                    ],
                    "pie": [
                      {
                        "automargin": true,
                        "type": "pie"
                      }
                    ],
                    "scatter": [
                      {
                        "fillpattern": {
                          "fillmode": "overlay",
                          "size": 10,
                          "solidity": 0.2
                        },
                        "type": "scatter"
                      }
                    ],
                    "scatter3d": [
                      {
                        "line": {
                          "colorbar": {
                            "outlinewidth": 0,
                            "ticks": ""
                          }
                        },
                        "marker": {
                          "colorbar": {
                            "outlinewidth": 0,
                            "ticks": ""
                          }
                        },
                        "type": "scatter3d"
                      }
                    ],
                    "scattercarpet": [
                      {
                        "marker": {
                          "colorbar": {
                            "outlinewidth": 0,
                            "ticks": ""
                          }
                        },
                        "type": "scattercarpet"
                      }
                    ],
                    "scattergeo": [
                      {
                        "marker": {
                          "colorbar": {
                            "outlinewidth": 0,
                            "ticks": ""
                          }
                        },
                        "type": "scattergeo"
                      }
                    ],
                    "scattergl": [
                      {
                        "marker": {
                          "colorbar": {
                            "outlinewidth": 0,
                            "ticks": ""
                          }
                        },
                        "type": "scattergl"
                      }
                    ],
                    "scattermapbox": [
                      {
                        "marker": {
                          "colorbar": {
                            "outlinewidth": 0,
                            "ticks": ""
                          }
                        },
                        "type": "scattermapbox"
                      }
                    ],
                    "scatterpolar": [
                      {
                        "marker": {
                          "colorbar": {
                            "outlinewidth": 0,
                            "ticks": ""
                          }
                        },
                        "type": "scatterpolar"
                      }
                    ],
                    "scatterpolargl": [
                      {
                        "marker": {
                          "colorbar": {
                            "outlinewidth": 0,
                            "ticks": ""
                          }
                        },
                        "type": "scatterpolargl"
                      }
                    ],
                    "scatterternary": [
                      {
                        "marker": {
                          "colorbar": {
                            "outlinewidth": 0,
                            "ticks": ""
                          }
                        },
                        "type": "scatterternary"
                      }
                    ],
                    "surface": [
                      {
                        "colorbar": {
                          "outlinewidth": 0,
                          "ticks": ""
                        },
                        "colorscale": [
                          [
                            0,
                            "#0d0887"
                          ],
                          [
                            0.1111111111111111,
                            "#46039f"
                          ],
                          [
                            0.2222222222222222,
                            "#7201a8"
                          ],
                          [
                            0.3333333333333333,
                            "#9c179e"
                          ],
                          [
                            0.4444444444444444,
                            "#bd3786"
                          ],
                          [
                            0.5555555555555556,
                            "#d8576b"
                          ],
                          [
                            0.6666666666666666,
                            "#ed7953"
                          ],
                          [
                            0.7777777777777778,
                            "#fb9f3a"
                          ],
                          [
                            0.8888888888888888,
                            "#fdca26"
                          ],
                          [
                            1,
                            "#f0f921"
                          ]
                        ],
                        "type": "surface"
                      }
                    ],
                    "table": [
                      {
                        "cells": {
                          "fill": {
                            "color": "#EBF0F8"
                          },
                          "line": {
                            "color": "white"
                          }
                        },
                        "header": {
                          "fill": {
                            "color": "#C8D4E3"
                          },
                          "line": {
                            "color": "white"
                          }
                        },
                        "type": "table"
                      }
                    ]
                  },
                  "layout": {
                    "annotationdefaults": {
                      "arrowcolor": "#2a3f5f",
                      "arrowhead": 0,
                      "arrowwidth": 1
                    },
                    "autotypenumbers": "strict",
                    "coloraxis": {
                      "colorbar": {
                        "outlinewidth": 0,
                        "ticks": ""
                      }
                    },
                    "colorscale": {
                      "diverging": [
                        [
                          0,
                          "#8e0152"
                        ],
                        [
                          0.1,
                          "#c51b7d"
                        ],
                        [
                          0.2,
                          "#de77ae"
                        ],
                        [
                          0.3,
                          "#f1b6da"
                        ],
                        [
                          0.4,
                          "#fde0ef"
                        ],
                        [
                          0.5,
                          "#f7f7f7"
                        ],
                        [
                          0.6,
                          "#e6f5d0"
                        ],
                        [
                          0.7,
                          "#b8e186"
                        ],
                        [
                          0.8,
                          "#7fbc41"
                        ],
                        [
                          0.9,
                          "#4d9221"
                        ],
                        [
                          1,
                          "#276419"
                        ]
                      ],
                      "sequential": [
                        [
                          0,
                          "#0d0887"
                        ],
                        [
                          0.1111111111111111,
                          "#46039f"
                        ],
                        [
                          0.2222222222222222,
                          "#7201a8"
                        ],
                        [
                          0.3333333333333333,
                          "#9c179e"
                        ],
                        [
                          0.4444444444444444,
                          "#bd3786"
                        ],
                        [
                          0.5555555555555556,
                          "#d8576b"
                        ],
                        [
                          0.6666666666666666,
                          "#ed7953"
                        ],
                        [
                          0.7777777777777778,
                          "#fb9f3a"
                        ],
                        [
                          0.8888888888888888,
                          "#fdca26"
                        ],
                        [
                          1,
                          "#f0f921"
                        ]
                      ],
                      "sequentialminus": [
                        [
                          0,
                          "#0d0887"
                        ],
                        [
                          0.1111111111111111,
                          "#46039f"
                        ],
                        [
                          0.2222222222222222,
                          "#7201a8"
                        ],
                        [
                          0.3333333333333333,
                          "#9c179e"
                        ],
                        [
                          0.4444444444444444,
                          "#bd3786"
                        ],
                        [
                          0.5555555555555556,
                          "#d8576b"
                        ],
                        [
                          0.6666666666666666,
                          "#ed7953"
                        ],
                        [
                          0.7777777777777778,
                          "#fb9f3a"
                        ],
                        [
                          0.8888888888888888,
                          "#fdca26"
                        ],
                        [
                          1,
                          "#f0f921"
                        ]
                      ]
                    },
                    "colorway": [
                      "#636efa",
                      "#EF553B",
                      "#00cc96",
                      "#ab63fa",
                      "#FFA15A",
                      "#19d3f3",
                      "#FF6692",
                      "#B6E880",
                      "#FF97FF",
                      "#FECB52"
                    ],
                    "font": {
                      "color": "#2a3f5f"
                    },
                    "geo": {
                      "bgcolor": "white",
                      "lakecolor": "white",
                      "landcolor": "#E5ECF6",
                      "showlakes": true,
                      "showland": true,
                      "subunitcolor": "white"
                    },
                    "hoverlabel": {
                      "align": "left"
                    },
                    "hovermode": "closest",
                    "mapbox": {
                      "style": "light"
                    },
                    "paper_bgcolor": "white",
                    "plot_bgcolor": "#E5ECF6",
                    "polar": {
                      "angularaxis": {
                        "gridcolor": "white",
                        "linecolor": "white",
                        "ticks": ""
                      },
                      "bgcolor": "#E5ECF6",
                      "radialaxis": {
                        "gridcolor": "white",
                        "linecolor": "white",
                        "ticks": ""
                      }
                    },
                    "scene": {
                      "xaxis": {
                        "backgroundcolor": "#E5ECF6",
                        "gridcolor": "white",
                        "gridwidth": 2,
                        "linecolor": "white",
                        "showbackground": true,
                        "ticks": "",
                        "zerolinecolor": "white"
                      },
                      "yaxis": {
                        "backgroundcolor": "#E5ECF6",
                        "gridcolor": "white",
                        "gridwidth": 2,
                        "linecolor": "white",
                        "showbackground": true,
                        "ticks": "",
                        "zerolinecolor": "white"
                      },
                      "zaxis": {
                        "backgroundcolor": "#E5ECF6",
                        "gridcolor": "white",
                        "gridwidth": 2,
                        "linecolor": "white",
                        "showbackground": true,
                        "ticks": "",
                        "zerolinecolor": "white"
                      }
                    },
                    "shapedefaults": {
                      "line": {
                        "color": "#2a3f5f"
                      }
                    },
                    "ternary": {
                      "aaxis": {
                        "gridcolor": "white",
                        "linecolor": "white",
                        "ticks": ""
                      },
                      "baxis": {
                        "gridcolor": "white",
                        "linecolor": "white",
                        "ticks": ""
                      },
                      "bgcolor": "#E5ECF6",
                      "caxis": {
                        "gridcolor": "white",
                        "linecolor": "white",
                        "ticks": ""
                      }
                    },
                    "title": {
                      "x": 0.05
                    },
                    "xaxis": {
                      "automargin": true,
                      "gridcolor": "white",
                      "linecolor": "white",
                      "ticks": "",
                      "title": {
                        "standoff": 15
                      },
                      "zerolinecolor": "white",
                      "zerolinewidth": 2
                    },
                    "yaxis": {
                      "automargin": true,
                      "gridcolor": "white",
                      "linecolor": "white",
                      "ticks": "",
                      "title": {
                        "standoff": 15
                      },
                      "zerolinecolor": "white",
                      "zerolinewidth": 2
                    }
                  }
                },
                "title": {
                  "text": "Stress Level vs. Physical Activity Level"
                },
                "xaxis": {
                  "anchor": "y",
                  "domain": [
                    0,
                    1
                  ],
                  "title": {
                    "text": "Physical Activity Level"
                  }
                },
                "yaxis": {
                  "anchor": "x",
                  "domain": [
                    0,
                    1
                  ],
                  "title": {
                    "text": "Stress Level"
                  }
                }
              }
            }
          },
          "metadata": {},
          "output_type": "display_data"
        }
      ],
      "source": [
        "# Membuat scatter plot antara 'Physical Activity Level' dan 'Stress Level' berdasarkan 'Sleep Disorder'\n",
        "fig = px.scatter(data, x='Physical Activity Level', y='Stress Level', color='Sleep Disorder',\n",
        "                 title='Stress Level vs. Physical Activity Level',\n",
        "                 labels={'Physical Activity Level': 'Physical Activity Level', 'Stress Level': 'Stress Level'})\n",
        "fig.show()"
      ]
    },
    {
      "cell_type": "code",
      "execution_count": 22,
      "metadata": {
        "colab": {
          "base_uri": "https://localhost:8080/",
          "height": 542
        },
        "id": "bG3hucBUz1Q5",
        "outputId": "1408ad82-4ff5-4f43-870a-5e08f1266bab"
      },
      "outputs": [
        {
          "data": {
            "application/vnd.plotly.v1+json": {
              "config": {
                "plotlyServerURL": "https://plot.ly"
              },
              "data": [
                {
                  "alignmentgroup": "True",
                  "bingroup": "x",
                  "hovertemplate": "Sleep Disorder=Healthy Sleep<br>Heart Rate=%{x}<br>count=%{y}<extra></extra>",
                  "legendgroup": "Healthy Sleep",
                  "marker": {
                    "color": "#636efa",
                    "pattern": {
                      "shape": ""
                    }
                  },
                  "name": "Healthy Sleep",
                  "offsetgroup": "Healthy Sleep",
                  "orientation": "v",
                  "showlegend": true,
                  "type": "histogram",
                  "x": [
                    77,
                    75,
                    75,
                    70,
                    70,
                    70,
                    70,
                    70,
                    70,
                    70,
                    70,
                    70,
                    70,
                    70,
                    70,
                    70,
                    70,
                    70,
                    70,
                    70,
                    70,
                    70,
                    70,
                    69,
                    72,
                    70,
                    72,
                    72,
                    70,
                    70,
                    70,
                    70,
                    70,
                    70,
                    70,
                    70,
                    70,
                    70,
                    70,
                    70,
                    70,
                    70,
                    72,
                    70,
                    72,
                    72,
                    70,
                    72,
                    72,
                    70,
                    72,
                    72,
                    72,
                    72,
                    72,
                    72,
                    68,
                    76,
                    76,
                    72,
                    72,
                    72,
                    72,
                    72,
                    72,
                    72,
                    72,
                    72,
                    72,
                    70,
                    70,
                    70,
                    68,
                    65,
                    65,
                    65,
                    65,
                    65,
                    65,
                    70,
                    68,
                    68,
                    68,
                    68,
                    68,
                    68,
                    68,
                    68,
                    77,
                    68,
                    68,
                    68,
                    68,
                    68,
                    68,
                    68,
                    68,
                    68,
                    68,
                    68,
                    68,
                    68,
                    68,
                    68,
                    68,
                    68,
                    68,
                    70,
                    68,
                    68,
                    68,
                    68,
                    68,
                    68,
                    68,
                    68,
                    68,
                    68,
                    68,
                    68,
                    68,
                    68,
                    68,
                    68,
                    68,
                    68,
                    75,
                    67,
                    67,
                    68,
                    68,
                    68,
                    68,
                    68,
                    68,
                    68,
                    68,
                    68,
                    68,
                    73,
                    73,
                    68,
                    68,
                    72,
                    72,
                    72,
                    70,
                    70,
                    70,
                    70,
                    70,
                    70,
                    70,
                    70,
                    70,
                    70,
                    70,
                    70,
                    70,
                    70,
                    69,
                    68,
                    70,
                    70,
                    70,
                    70,
                    70,
                    70,
                    70,
                    70,
                    70,
                    70,
                    70,
                    70,
                    70,
                    72,
                    72,
                    65,
                    65,
                    75,
                    75,
                    65,
                    75,
                    65,
                    65,
                    65,
                    65,
                    72,
                    65,
                    65,
                    65,
                    65,
                    65,
                    65,
                    65,
                    65,
                    65,
                    65,
                    65,
                    65,
                    65,
                    65,
                    65,
                    65,
                    65,
                    65,
                    65,
                    65,
                    65,
                    65,
                    65,
                    65,
                    65,
                    65,
                    65,
                    65,
                    68,
                    68,
                    68
                  ],
                  "xaxis": "x",
                  "yaxis": "y"
                },
                {
                  "alignmentgroup": "True",
                  "bingroup": "x",
                  "hovertemplate": "Sleep Disorder=Sleep Apnea<br>Heart Rate=%{x}<br>count=%{y}<extra></extra>",
                  "legendgroup": "Sleep Apnea",
                  "marker": {
                    "color": "#EF553B",
                    "pattern": {
                      "shape": ""
                    }
                  },
                  "name": "Sleep Apnea",
                  "offsetgroup": "Sleep Apnea",
                  "orientation": "v",
                  "showlegend": true,
                  "type": "histogram",
                  "x": [
                    85,
                    85,
                    80,
                    70,
                    78,
                    70,
                    81,
                    81,
                    84,
                    74,
                    68,
                    68,
                    84,
                    78,
                    78,
                    70,
                    72,
                    75,
                    75,
                    75,
                    75,
                    75,
                    75,
                    75,
                    75,
                    75,
                    86,
                    86,
                    75,
                    75,
                    75,
                    75,
                    75,
                    75,
                    75,
                    75,
                    75,
                    75,
                    75,
                    75,
                    75,
                    75,
                    75,
                    75,
                    75,
                    75,
                    75,
                    75,
                    72,
                    72,
                    68,
                    68,
                    68,
                    68,
                    68,
                    68,
                    68,
                    68,
                    68,
                    68,
                    68,
                    68,
                    68,
                    68,
                    68,
                    68,
                    68,
                    68,
                    68,
                    68,
                    68,
                    68,
                    68,
                    68,
                    68,
                    68,
                    68,
                    68
                  ],
                  "xaxis": "x",
                  "yaxis": "y"
                },
                {
                  "alignmentgroup": "True",
                  "bingroup": "x",
                  "hovertemplate": "Sleep Disorder=Insomnia<br>Heart Rate=%{x}<br>count=%{y}<extra></extra>",
                  "legendgroup": "Insomnia",
                  "marker": {
                    "color": "#00cc96",
                    "pattern": {
                      "shape": ""
                    }
                  },
                  "name": "Insomnia",
                  "offsetgroup": "Insomnia",
                  "orientation": "v",
                  "showlegend": true,
                  "type": "histogram",
                  "x": [
                    85,
                    82,
                    80,
                    78,
                    72,
                    68,
                    74,
                    68,
                    80,
                    70,
                    72,
                    65,
                    72,
                    65,
                    72,
                    65,
                    72,
                    72,
                    72,
                    72,
                    72,
                    72,
                    72,
                    72,
                    72,
                    72,
                    70,
                    70,
                    65,
                    72,
                    72,
                    72,
                    65,
                    72,
                    65,
                    72,
                    65,
                    72,
                    65,
                    72,
                    65,
                    72,
                    65,
                    72,
                    72,
                    65,
                    72,
                    72,
                    65,
                    72,
                    72,
                    65,
                    72,
                    65,
                    72,
                    78,
                    65,
                    65,
                    65,
                    65,
                    65,
                    65,
                    65,
                    65,
                    65,
                    65,
                    65,
                    83,
                    83,
                    75,
                    72,
                    72,
                    72,
                    72,
                    72,
                    72,
                    65
                  ],
                  "xaxis": "x",
                  "yaxis": "y"
                }
              ],
              "layout": {
                "barmode": "relative",
                "legend": {
                  "title": {
                    "text": "Sleep Disorder"
                  },
                  "tracegroupgap": 0
                },
                "template": {
                  "data": {
                    "bar": [
                      {
                        "error_x": {
                          "color": "#2a3f5f"
                        },
                        "error_y": {
                          "color": "#2a3f5f"
                        },
                        "marker": {
                          "line": {
                            "color": "#E5ECF6",
                            "width": 0.5
                          },
                          "pattern": {
                            "fillmode": "overlay",
                            "size": 10,
                            "solidity": 0.2
                          }
                        },
                        "type": "bar"
                      }
                    ],
                    "barpolar": [
                      {
                        "marker": {
                          "line": {
                            "color": "#E5ECF6",
                            "width": 0.5
                          },
                          "pattern": {
                            "fillmode": "overlay",
                            "size": 10,
                            "solidity": 0.2
                          }
                        },
                        "type": "barpolar"
                      }
                    ],
                    "carpet": [
                      {
                        "aaxis": {
                          "endlinecolor": "#2a3f5f",
                          "gridcolor": "white",
                          "linecolor": "white",
                          "minorgridcolor": "white",
                          "startlinecolor": "#2a3f5f"
                        },
                        "baxis": {
                          "endlinecolor": "#2a3f5f",
                          "gridcolor": "white",
                          "linecolor": "white",
                          "minorgridcolor": "white",
                          "startlinecolor": "#2a3f5f"
                        },
                        "type": "carpet"
                      }
                    ],
                    "choropleth": [
                      {
                        "colorbar": {
                          "outlinewidth": 0,
                          "ticks": ""
                        },
                        "type": "choropleth"
                      }
                    ],
                    "contour": [
                      {
                        "colorbar": {
                          "outlinewidth": 0,
                          "ticks": ""
                        },
                        "colorscale": [
                          [
                            0,
                            "#0d0887"
                          ],
                          [
                            0.1111111111111111,
                            "#46039f"
                          ],
                          [
                            0.2222222222222222,
                            "#7201a8"
                          ],
                          [
                            0.3333333333333333,
                            "#9c179e"
                          ],
                          [
                            0.4444444444444444,
                            "#bd3786"
                          ],
                          [
                            0.5555555555555556,
                            "#d8576b"
                          ],
                          [
                            0.6666666666666666,
                            "#ed7953"
                          ],
                          [
                            0.7777777777777778,
                            "#fb9f3a"
                          ],
                          [
                            0.8888888888888888,
                            "#fdca26"
                          ],
                          [
                            1,
                            "#f0f921"
                          ]
                        ],
                        "type": "contour"
                      }
                    ],
                    "contourcarpet": [
                      {
                        "colorbar": {
                          "outlinewidth": 0,
                          "ticks": ""
                        },
                        "type": "contourcarpet"
                      }
                    ],
                    "heatmap": [
                      {
                        "colorbar": {
                          "outlinewidth": 0,
                          "ticks": ""
                        },
                        "colorscale": [
                          [
                            0,
                            "#0d0887"
                          ],
                          [
                            0.1111111111111111,
                            "#46039f"
                          ],
                          [
                            0.2222222222222222,
                            "#7201a8"
                          ],
                          [
                            0.3333333333333333,
                            "#9c179e"
                          ],
                          [
                            0.4444444444444444,
                            "#bd3786"
                          ],
                          [
                            0.5555555555555556,
                            "#d8576b"
                          ],
                          [
                            0.6666666666666666,
                            "#ed7953"
                          ],
                          [
                            0.7777777777777778,
                            "#fb9f3a"
                          ],
                          [
                            0.8888888888888888,
                            "#fdca26"
                          ],
                          [
                            1,
                            "#f0f921"
                          ]
                        ],
                        "type": "heatmap"
                      }
                    ],
                    "heatmapgl": [
                      {
                        "colorbar": {
                          "outlinewidth": 0,
                          "ticks": ""
                        },
                        "colorscale": [
                          [
                            0,
                            "#0d0887"
                          ],
                          [
                            0.1111111111111111,
                            "#46039f"
                          ],
                          [
                            0.2222222222222222,
                            "#7201a8"
                          ],
                          [
                            0.3333333333333333,
                            "#9c179e"
                          ],
                          [
                            0.4444444444444444,
                            "#bd3786"
                          ],
                          [
                            0.5555555555555556,
                            "#d8576b"
                          ],
                          [
                            0.6666666666666666,
                            "#ed7953"
                          ],
                          [
                            0.7777777777777778,
                            "#fb9f3a"
                          ],
                          [
                            0.8888888888888888,
                            "#fdca26"
                          ],
                          [
                            1,
                            "#f0f921"
                          ]
                        ],
                        "type": "heatmapgl"
                      }
                    ],
                    "histogram": [
                      {
                        "marker": {
                          "pattern": {
                            "fillmode": "overlay",
                            "size": 10,
                            "solidity": 0.2
                          }
                        },
                        "type": "histogram"
                      }
                    ],
                    "histogram2d": [
                      {
                        "colorbar": {
                          "outlinewidth": 0,
                          "ticks": ""
                        },
                        "colorscale": [
                          [
                            0,
                            "#0d0887"
                          ],
                          [
                            0.1111111111111111,
                            "#46039f"
                          ],
                          [
                            0.2222222222222222,
                            "#7201a8"
                          ],
                          [
                            0.3333333333333333,
                            "#9c179e"
                          ],
                          [
                            0.4444444444444444,
                            "#bd3786"
                          ],
                          [
                            0.5555555555555556,
                            "#d8576b"
                          ],
                          [
                            0.6666666666666666,
                            "#ed7953"
                          ],
                          [
                            0.7777777777777778,
                            "#fb9f3a"
                          ],
                          [
                            0.8888888888888888,
                            "#fdca26"
                          ],
                          [
                            1,
                            "#f0f921"
                          ]
                        ],
                        "type": "histogram2d"
                      }
                    ],
                    "histogram2dcontour": [
                      {
                        "colorbar": {
                          "outlinewidth": 0,
                          "ticks": ""
                        },
                        "colorscale": [
                          [
                            0,
                            "#0d0887"
                          ],
                          [
                            0.1111111111111111,
                            "#46039f"
                          ],
                          [
                            0.2222222222222222,
                            "#7201a8"
                          ],
                          [
                            0.3333333333333333,
                            "#9c179e"
                          ],
                          [
                            0.4444444444444444,
                            "#bd3786"
                          ],
                          [
                            0.5555555555555556,
                            "#d8576b"
                          ],
                          [
                            0.6666666666666666,
                            "#ed7953"
                          ],
                          [
                            0.7777777777777778,
                            "#fb9f3a"
                          ],
                          [
                            0.8888888888888888,
                            "#fdca26"
                          ],
                          [
                            1,
                            "#f0f921"
                          ]
                        ],
                        "type": "histogram2dcontour"
                      }
                    ],
                    "mesh3d": [
                      {
                        "colorbar": {
                          "outlinewidth": 0,
                          "ticks": ""
                        },
                        "type": "mesh3d"
                      }
                    ],
                    "parcoords": [
                      {
                        "line": {
                          "colorbar": {
                            "outlinewidth": 0,
                            "ticks": ""
                          }
                        },
                        "type": "parcoords"
                      }
                    ],
                    "pie": [
                      {
                        "automargin": true,
                        "type": "pie"
                      }
                    ],
                    "scatter": [
                      {
                        "fillpattern": {
                          "fillmode": "overlay",
                          "size": 10,
                          "solidity": 0.2
                        },
                        "type": "scatter"
                      }
                    ],
                    "scatter3d": [
                      {
                        "line": {
                          "colorbar": {
                            "outlinewidth": 0,
                            "ticks": ""
                          }
                        },
                        "marker": {
                          "colorbar": {
                            "outlinewidth": 0,
                            "ticks": ""
                          }
                        },
                        "type": "scatter3d"
                      }
                    ],
                    "scattercarpet": [
                      {
                        "marker": {
                          "colorbar": {
                            "outlinewidth": 0,
                            "ticks": ""
                          }
                        },
                        "type": "scattercarpet"
                      }
                    ],
                    "scattergeo": [
                      {
                        "marker": {
                          "colorbar": {
                            "outlinewidth": 0,
                            "ticks": ""
                          }
                        },
                        "type": "scattergeo"
                      }
                    ],
                    "scattergl": [
                      {
                        "marker": {
                          "colorbar": {
                            "outlinewidth": 0,
                            "ticks": ""
                          }
                        },
                        "type": "scattergl"
                      }
                    ],
                    "scattermapbox": [
                      {
                        "marker": {
                          "colorbar": {
                            "outlinewidth": 0,
                            "ticks": ""
                          }
                        },
                        "type": "scattermapbox"
                      }
                    ],
                    "scatterpolar": [
                      {
                        "marker": {
                          "colorbar": {
                            "outlinewidth": 0,
                            "ticks": ""
                          }
                        },
                        "type": "scatterpolar"
                      }
                    ],
                    "scatterpolargl": [
                      {
                        "marker": {
                          "colorbar": {
                            "outlinewidth": 0,
                            "ticks": ""
                          }
                        },
                        "type": "scatterpolargl"
                      }
                    ],
                    "scatterternary": [
                      {
                        "marker": {
                          "colorbar": {
                            "outlinewidth": 0,
                            "ticks": ""
                          }
                        },
                        "type": "scatterternary"
                      }
                    ],
                    "surface": [
                      {
                        "colorbar": {
                          "outlinewidth": 0,
                          "ticks": ""
                        },
                        "colorscale": [
                          [
                            0,
                            "#0d0887"
                          ],
                          [
                            0.1111111111111111,
                            "#46039f"
                          ],
                          [
                            0.2222222222222222,
                            "#7201a8"
                          ],
                          [
                            0.3333333333333333,
                            "#9c179e"
                          ],
                          [
                            0.4444444444444444,
                            "#bd3786"
                          ],
                          [
                            0.5555555555555556,
                            "#d8576b"
                          ],
                          [
                            0.6666666666666666,
                            "#ed7953"
                          ],
                          [
                            0.7777777777777778,
                            "#fb9f3a"
                          ],
                          [
                            0.8888888888888888,
                            "#fdca26"
                          ],
                          [
                            1,
                            "#f0f921"
                          ]
                        ],
                        "type": "surface"
                      }
                    ],
                    "table": [
                      {
                        "cells": {
                          "fill": {
                            "color": "#EBF0F8"
                          },
                          "line": {
                            "color": "white"
                          }
                        },
                        "header": {
                          "fill": {
                            "color": "#C8D4E3"
                          },
                          "line": {
                            "color": "white"
                          }
                        },
                        "type": "table"
                      }
                    ]
                  },
                  "layout": {
                    "annotationdefaults": {
                      "arrowcolor": "#2a3f5f",
                      "arrowhead": 0,
                      "arrowwidth": 1
                    },
                    "autotypenumbers": "strict",
                    "coloraxis": {
                      "colorbar": {
                        "outlinewidth": 0,
                        "ticks": ""
                      }
                    },
                    "colorscale": {
                      "diverging": [
                        [
                          0,
                          "#8e0152"
                        ],
                        [
                          0.1,
                          "#c51b7d"
                        ],
                        [
                          0.2,
                          "#de77ae"
                        ],
                        [
                          0.3,
                          "#f1b6da"
                        ],
                        [
                          0.4,
                          "#fde0ef"
                        ],
                        [
                          0.5,
                          "#f7f7f7"
                        ],
                        [
                          0.6,
                          "#e6f5d0"
                        ],
                        [
                          0.7,
                          "#b8e186"
                        ],
                        [
                          0.8,
                          "#7fbc41"
                        ],
                        [
                          0.9,
                          "#4d9221"
                        ],
                        [
                          1,
                          "#276419"
                        ]
                      ],
                      "sequential": [
                        [
                          0,
                          "#0d0887"
                        ],
                        [
                          0.1111111111111111,
                          "#46039f"
                        ],
                        [
                          0.2222222222222222,
                          "#7201a8"
                        ],
                        [
                          0.3333333333333333,
                          "#9c179e"
                        ],
                        [
                          0.4444444444444444,
                          "#bd3786"
                        ],
                        [
                          0.5555555555555556,
                          "#d8576b"
                        ],
                        [
                          0.6666666666666666,
                          "#ed7953"
                        ],
                        [
                          0.7777777777777778,
                          "#fb9f3a"
                        ],
                        [
                          0.8888888888888888,
                          "#fdca26"
                        ],
                        [
                          1,
                          "#f0f921"
                        ]
                      ],
                      "sequentialminus": [
                        [
                          0,
                          "#0d0887"
                        ],
                        [
                          0.1111111111111111,
                          "#46039f"
                        ],
                        [
                          0.2222222222222222,
                          "#7201a8"
                        ],
                        [
                          0.3333333333333333,
                          "#9c179e"
                        ],
                        [
                          0.4444444444444444,
                          "#bd3786"
                        ],
                        [
                          0.5555555555555556,
                          "#d8576b"
                        ],
                        [
                          0.6666666666666666,
                          "#ed7953"
                        ],
                        [
                          0.7777777777777778,
                          "#fb9f3a"
                        ],
                        [
                          0.8888888888888888,
                          "#fdca26"
                        ],
                        [
                          1,
                          "#f0f921"
                        ]
                      ]
                    },
                    "colorway": [
                      "#636efa",
                      "#EF553B",
                      "#00cc96",
                      "#ab63fa",
                      "#FFA15A",
                      "#19d3f3",
                      "#FF6692",
                      "#B6E880",
                      "#FF97FF",
                      "#FECB52"
                    ],
                    "font": {
                      "color": "#2a3f5f"
                    },
                    "geo": {
                      "bgcolor": "white",
                      "lakecolor": "white",
                      "landcolor": "#E5ECF6",
                      "showlakes": true,
                      "showland": true,
                      "subunitcolor": "white"
                    },
                    "hoverlabel": {
                      "align": "left"
                    },
                    "hovermode": "closest",
                    "mapbox": {
                      "style": "light"
                    },
                    "paper_bgcolor": "white",
                    "plot_bgcolor": "#E5ECF6",
                    "polar": {
                      "angularaxis": {
                        "gridcolor": "white",
                        "linecolor": "white",
                        "ticks": ""
                      },
                      "bgcolor": "#E5ECF6",
                      "radialaxis": {
                        "gridcolor": "white",
                        "linecolor": "white",
                        "ticks": ""
                      }
                    },
                    "scene": {
                      "xaxis": {
                        "backgroundcolor": "#E5ECF6",
                        "gridcolor": "white",
                        "gridwidth": 2,
                        "linecolor": "white",
                        "showbackground": true,
                        "ticks": "",
                        "zerolinecolor": "white"
                      },
                      "yaxis": {
                        "backgroundcolor": "#E5ECF6",
                        "gridcolor": "white",
                        "gridwidth": 2,
                        "linecolor": "white",
                        "showbackground": true,
                        "ticks": "",
                        "zerolinecolor": "white"
                      },
                      "zaxis": {
                        "backgroundcolor": "#E5ECF6",
                        "gridcolor": "white",
                        "gridwidth": 2,
                        "linecolor": "white",
                        "showbackground": true,
                        "ticks": "",
                        "zerolinecolor": "white"
                      }
                    },
                    "shapedefaults": {
                      "line": {
                        "color": "#2a3f5f"
                      }
                    },
                    "ternary": {
                      "aaxis": {
                        "gridcolor": "white",
                        "linecolor": "white",
                        "ticks": ""
                      },
                      "baxis": {
                        "gridcolor": "white",
                        "linecolor": "white",
                        "ticks": ""
                      },
                      "bgcolor": "#E5ECF6",
                      "caxis": {
                        "gridcolor": "white",
                        "linecolor": "white",
                        "ticks": ""
                      }
                    },
                    "title": {
                      "x": 0.05
                    },
                    "xaxis": {
                      "automargin": true,
                      "gridcolor": "white",
                      "linecolor": "white",
                      "ticks": "",
                      "title": {
                        "standoff": 15
                      },
                      "zerolinecolor": "white",
                      "zerolinewidth": 2
                    },
                    "yaxis": {
                      "automargin": true,
                      "gridcolor": "white",
                      "linecolor": "white",
                      "ticks": "",
                      "title": {
                        "standoff": 15
                      },
                      "zerolinecolor": "white",
                      "zerolinewidth": 2
                    }
                  }
                },
                "title": {
                  "text": "Heart Rate Distribution by Sleep Disorder"
                },
                "xaxis": {
                  "anchor": "y",
                  "domain": [
                    0,
                    1
                  ],
                  "title": {
                    "text": "Heart Rate"
                  }
                },
                "yaxis": {
                  "anchor": "x",
                  "domain": [
                    0,
                    1
                  ],
                  "title": {
                    "text": "count"
                  }
                }
              }
            }
          },
          "metadata": {},
          "output_type": "display_data"
        }
      ],
      "source": [
        "# Membuat histogram distribusi 'Heart Rate' berdasarkan 'Sleep Disorder'\n",
        "fig = px.histogram(data, x='Heart Rate', color='Sleep Disorder',\n",
        "                   title='Heart Rate Distribution by Sleep Disorder',\n",
        "                   labels={'Heart Rate': 'Heart Rate', 'count': 'Count'})\n",
        "fig.show()"
      ]
    },
    {
      "cell_type": "code",
      "execution_count": 23,
      "metadata": {
        "colab": {
          "base_uri": "https://localhost:8080/",
          "height": 542
        },
        "id": "szqPCsb-z6Mx",
        "outputId": "17eb54b8-9b3f-4eb1-de83-ec60ebb42d4f"
      },
      "outputs": [
        {
          "data": {
            "application/vnd.plotly.v1+json": {
              "config": {
                "plotlyServerURL": "https://plot.ly"
              },
              "data": [
                {
                  "alignmentgroup": "True",
                  "bingroup": "x",
                  "hovertemplate": "Sleep Disorder=Healthy Sleep<br>Daily Steps=%{x}<br>count=%{y}<extra></extra>",
                  "legendgroup": "Healthy Sleep",
                  "marker": {
                    "color": "#636efa",
                    "pattern": {
                      "shape": ""
                    }
                  },
                  "name": "Healthy Sleep",
                  "offsetgroup": "Healthy Sleep",
                  "orientation": "v",
                  "showlegend": true,
                  "type": "histogram",
                  "x": [
                    4200,
                    10000,
                    10000,
                    8000,
                    8000,
                    8000,
                    8000,
                    8000,
                    8000,
                    8000,
                    8000,
                    8000,
                    8000,
                    8000,
                    8000,
                    8000,
                    8000,
                    8000,
                    8000,
                    8000,
                    8000,
                    8000,
                    8000,
                    6800,
                    5000,
                    8000,
                    5000,
                    5000,
                    8000,
                    8000,
                    8000,
                    8000,
                    8000,
                    8000,
                    8000,
                    8000,
                    8000,
                    8000,
                    8000,
                    8000,
                    8000,
                    8000,
                    5000,
                    8000,
                    5000,
                    5000,
                    8000,
                    5000,
                    5000,
                    8000,
                    5000,
                    5000,
                    5000,
                    5000,
                    5000,
                    5000,
                    7000,
                    5500,
                    5500,
                    5000,
                    5000,
                    5000,
                    5000,
                    5000,
                    5000,
                    5000,
                    5000,
                    5000,
                    5000,
                    5600,
                    5600,
                    8000,
                    7000,
                    5000,
                    5000,
                    5000,
                    5000,
                    5000,
                    5000,
                    8000,
                    7000,
                    7000,
                    7000,
                    7000,
                    7000,
                    7000,
                    7000,
                    7000,
                    4200,
                    7000,
                    7000,
                    8000,
                    7000,
                    8000,
                    7000,
                    8000,
                    7000,
                    7000,
                    7000,
                    7000,
                    7000,
                    7000,
                    7000,
                    7000,
                    7000,
                    7000,
                    7000,
                    8000,
                    8000,
                    7000,
                    8000,
                    8000,
                    7000,
                    8000,
                    8000,
                    7000,
                    8000,
                    8000,
                    7000,
                    8000,
                    7000,
                    8000,
                    7000,
                    8000,
                    7000,
                    7000,
                    5500,
                    7500,
                    7500,
                    8000,
                    8000,
                    8000,
                    8000,
                    8000,
                    8000,
                    8000,
                    8000,
                    8000,
                    8000,
                    7300,
                    7300,
                    8000,
                    8000,
                    6200,
                    6000,
                    6000,
                    8000,
                    8000,
                    8000,
                    8000,
                    8000,
                    8000,
                    8000,
                    8000,
                    8000,
                    8000,
                    8000,
                    8000,
                    8000,
                    8000,
                    6800,
                    6800,
                    8000,
                    8000,
                    8000,
                    8000,
                    8000,
                    8000,
                    8000,
                    8000,
                    8000,
                    8000,
                    8000,
                    8000,
                    8000,
                    6000,
                    6000,
                    6000,
                    6000,
                    5500,
                    10000,
                    5000,
                    10000,
                    5000,
                    5000,
                    5000,
                    5000,
                    6000,
                    5000,
                    5000,
                    5000,
                    5000,
                    5000,
                    5000,
                    5000,
                    5000,
                    5000,
                    5000,
                    5000,
                    5000,
                    5000,
                    5000,
                    5000,
                    5000,
                    5000,
                    5000,
                    5000,
                    5000,
                    5000,
                    5000,
                    5000,
                    5000,
                    5000,
                    5000,
                    10000,
                    10000,
                    7000,
                    7000,
                    7000
                  ],
                  "xaxis": "x",
                  "yaxis": "y"
                },
                {
                  "alignmentgroup": "True",
                  "bingroup": "x",
                  "hovertemplate": "Sleep Disorder=Sleep Apnea<br>Daily Steps=%{x}<br>count=%{y}<extra></extra>",
                  "legendgroup": "Sleep Apnea",
                  "marker": {
                    "color": "#EF553B",
                    "pattern": {
                      "shape": ""
                    }
                  },
                  "name": "Sleep Apnea",
                  "offsetgroup": "Sleep Apnea",
                  "orientation": "v",
                  "showlegend": true,
                  "type": "histogram",
                  "x": [
                    3000,
                    3000,
                    4000,
                    8000,
                    4100,
                    8000,
                    5200,
                    5200,
                    3300,
                    4800,
                    7000,
                    8000,
                    3300,
                    5000,
                    5000,
                    8000,
                    6000,
                    10000,
                    10000,
                    10000,
                    10000,
                    10000,
                    10000,
                    10000,
                    10000,
                    10000,
                    3700,
                    3700,
                    10000,
                    10000,
                    10000,
                    10000,
                    10000,
                    10000,
                    10000,
                    10000,
                    10000,
                    10000,
                    10000,
                    10000,
                    10000,
                    10000,
                    10000,
                    10000,
                    10000,
                    10000,
                    10000,
                    10000,
                    5000,
                    5000,
                    7000,
                    7000,
                    7000,
                    7000,
                    7000,
                    7000,
                    7000,
                    7000,
                    7000,
                    7000,
                    7000,
                    7000,
                    7000,
                    7000,
                    7000,
                    7000,
                    7000,
                    7000,
                    7000,
                    7000,
                    7000,
                    7000,
                    7000,
                    7000,
                    7000,
                    7000,
                    7000,
                    7000
                  ],
                  "xaxis": "x",
                  "yaxis": "y"
                },
                {
                  "alignmentgroup": "True",
                  "bingroup": "x",
                  "hovertemplate": "Sleep Disorder=Insomnia<br>Daily Steps=%{x}<br>count=%{y}<extra></extra>",
                  "legendgroup": "Insomnia",
                  "marker": {
                    "color": "#00cc96",
                    "pattern": {
                      "shape": ""
                    }
                  },
                  "name": "Insomnia",
                  "offsetgroup": "Insomnia",
                  "orientation": "v",
                  "showlegend": true,
                  "type": "histogram",
                  "x": [
                    3000,
                    3500,
                    4000,
                    4100,
                    5000,
                    7000,
                    4800,
                    8000,
                    4000,
                    8000,
                    6000,
                    6000,
                    6000,
                    6000,
                    6000,
                    6000,
                    6000,
                    6000,
                    6000,
                    6000,
                    6000,
                    6000,
                    6000,
                    6000,
                    6000,
                    6000,
                    8000,
                    8000,
                    6000,
                    6000,
                    6000,
                    6000,
                    6000,
                    6000,
                    6000,
                    6000,
                    6000,
                    6000,
                    6000,
                    6000,
                    6000,
                    6000,
                    6000,
                    6000,
                    6000,
                    6000,
                    6000,
                    6000,
                    6000,
                    6000,
                    6000,
                    6000,
                    6000,
                    6000,
                    6000,
                    5000,
                    6000,
                    6000,
                    6000,
                    6000,
                    6000,
                    6000,
                    6000,
                    6000,
                    6000,
                    6000,
                    6000,
                    3500,
                    3500,
                    10000,
                    6000,
                    6000,
                    6000,
                    6000,
                    6000,
                    6000,
                    5000
                  ],
                  "xaxis": "x",
                  "yaxis": "y"
                }
              ],
              "layout": {
                "barmode": "relative",
                "legend": {
                  "title": {
                    "text": "Sleep Disorder"
                  },
                  "tracegroupgap": 0
                },
                "template": {
                  "data": {
                    "bar": [
                      {
                        "error_x": {
                          "color": "#2a3f5f"
                        },
                        "error_y": {
                          "color": "#2a3f5f"
                        },
                        "marker": {
                          "line": {
                            "color": "#E5ECF6",
                            "width": 0.5
                          },
                          "pattern": {
                            "fillmode": "overlay",
                            "size": 10,
                            "solidity": 0.2
                          }
                        },
                        "type": "bar"
                      }
                    ],
                    "barpolar": [
                      {
                        "marker": {
                          "line": {
                            "color": "#E5ECF6",
                            "width": 0.5
                          },
                          "pattern": {
                            "fillmode": "overlay",
                            "size": 10,
                            "solidity": 0.2
                          }
                        },
                        "type": "barpolar"
                      }
                    ],
                    "carpet": [
                      {
                        "aaxis": {
                          "endlinecolor": "#2a3f5f",
                          "gridcolor": "white",
                          "linecolor": "white",
                          "minorgridcolor": "white",
                          "startlinecolor": "#2a3f5f"
                        },
                        "baxis": {
                          "endlinecolor": "#2a3f5f",
                          "gridcolor": "white",
                          "linecolor": "white",
                          "minorgridcolor": "white",
                          "startlinecolor": "#2a3f5f"
                        },
                        "type": "carpet"
                      }
                    ],
                    "choropleth": [
                      {
                        "colorbar": {
                          "outlinewidth": 0,
                          "ticks": ""
                        },
                        "type": "choropleth"
                      }
                    ],
                    "contour": [
                      {
                        "colorbar": {
                          "outlinewidth": 0,
                          "ticks": ""
                        },
                        "colorscale": [
                          [
                            0,
                            "#0d0887"
                          ],
                          [
                            0.1111111111111111,
                            "#46039f"
                          ],
                          [
                            0.2222222222222222,
                            "#7201a8"
                          ],
                          [
                            0.3333333333333333,
                            "#9c179e"
                          ],
                          [
                            0.4444444444444444,
                            "#bd3786"
                          ],
                          [
                            0.5555555555555556,
                            "#d8576b"
                          ],
                          [
                            0.6666666666666666,
                            "#ed7953"
                          ],
                          [
                            0.7777777777777778,
                            "#fb9f3a"
                          ],
                          [
                            0.8888888888888888,
                            "#fdca26"
                          ],
                          [
                            1,
                            "#f0f921"
                          ]
                        ],
                        "type": "contour"
                      }
                    ],
                    "contourcarpet": [
                      {
                        "colorbar": {
                          "outlinewidth": 0,
                          "ticks": ""
                        },
                        "type": "contourcarpet"
                      }
                    ],
                    "heatmap": [
                      {
                        "colorbar": {
                          "outlinewidth": 0,
                          "ticks": ""
                        },
                        "colorscale": [
                          [
                            0,
                            "#0d0887"
                          ],
                          [
                            0.1111111111111111,
                            "#46039f"
                          ],
                          [
                            0.2222222222222222,
                            "#7201a8"
                          ],
                          [
                            0.3333333333333333,
                            "#9c179e"
                          ],
                          [
                            0.4444444444444444,
                            "#bd3786"
                          ],
                          [
                            0.5555555555555556,
                            "#d8576b"
                          ],
                          [
                            0.6666666666666666,
                            "#ed7953"
                          ],
                          [
                            0.7777777777777778,
                            "#fb9f3a"
                          ],
                          [
                            0.8888888888888888,
                            "#fdca26"
                          ],
                          [
                            1,
                            "#f0f921"
                          ]
                        ],
                        "type": "heatmap"
                      }
                    ],
                    "heatmapgl": [
                      {
                        "colorbar": {
                          "outlinewidth": 0,
                          "ticks": ""
                        },
                        "colorscale": [
                          [
                            0,
                            "#0d0887"
                          ],
                          [
                            0.1111111111111111,
                            "#46039f"
                          ],
                          [
                            0.2222222222222222,
                            "#7201a8"
                          ],
                          [
                            0.3333333333333333,
                            "#9c179e"
                          ],
                          [
                            0.4444444444444444,
                            "#bd3786"
                          ],
                          [
                            0.5555555555555556,
                            "#d8576b"
                          ],
                          [
                            0.6666666666666666,
                            "#ed7953"
                          ],
                          [
                            0.7777777777777778,
                            "#fb9f3a"
                          ],
                          [
                            0.8888888888888888,
                            "#fdca26"
                          ],
                          [
                            1,
                            "#f0f921"
                          ]
                        ],
                        "type": "heatmapgl"
                      }
                    ],
                    "histogram": [
                      {
                        "marker": {
                          "pattern": {
                            "fillmode": "overlay",
                            "size": 10,
                            "solidity": 0.2
                          }
                        },
                        "type": "histogram"
                      }
                    ],
                    "histogram2d": [
                      {
                        "colorbar": {
                          "outlinewidth": 0,
                          "ticks": ""
                        },
                        "colorscale": [
                          [
                            0,
                            "#0d0887"
                          ],
                          [
                            0.1111111111111111,
                            "#46039f"
                          ],
                          [
                            0.2222222222222222,
                            "#7201a8"
                          ],
                          [
                            0.3333333333333333,
                            "#9c179e"
                          ],
                          [
                            0.4444444444444444,
                            "#bd3786"
                          ],
                          [
                            0.5555555555555556,
                            "#d8576b"
                          ],
                          [
                            0.6666666666666666,
                            "#ed7953"
                          ],
                          [
                            0.7777777777777778,
                            "#fb9f3a"
                          ],
                          [
                            0.8888888888888888,
                            "#fdca26"
                          ],
                          [
                            1,
                            "#f0f921"
                          ]
                        ],
                        "type": "histogram2d"
                      }
                    ],
                    "histogram2dcontour": [
                      {
                        "colorbar": {
                          "outlinewidth": 0,
                          "ticks": ""
                        },
                        "colorscale": [
                          [
                            0,
                            "#0d0887"
                          ],
                          [
                            0.1111111111111111,
                            "#46039f"
                          ],
                          [
                            0.2222222222222222,
                            "#7201a8"
                          ],
                          [
                            0.3333333333333333,
                            "#9c179e"
                          ],
                          [
                            0.4444444444444444,
                            "#bd3786"
                          ],
                          [
                            0.5555555555555556,
                            "#d8576b"
                          ],
                          [
                            0.6666666666666666,
                            "#ed7953"
                          ],
                          [
                            0.7777777777777778,
                            "#fb9f3a"
                          ],
                          [
                            0.8888888888888888,
                            "#fdca26"
                          ],
                          [
                            1,
                            "#f0f921"
                          ]
                        ],
                        "type": "histogram2dcontour"
                      }
                    ],
                    "mesh3d": [
                      {
                        "colorbar": {
                          "outlinewidth": 0,
                          "ticks": ""
                        },
                        "type": "mesh3d"
                      }
                    ],
                    "parcoords": [
                      {
                        "line": {
                          "colorbar": {
                            "outlinewidth": 0,
                            "ticks": ""
                          }
                        },
                        "type": "parcoords"
                      }
                    ],
                    "pie": [
                      {
                        "automargin": true,
                        "type": "pie"
                      }
                    ],
                    "scatter": [
                      {
                        "fillpattern": {
                          "fillmode": "overlay",
                          "size": 10,
                          "solidity": 0.2
                        },
                        "type": "scatter"
                      }
                    ],
                    "scatter3d": [
                      {
                        "line": {
                          "colorbar": {
                            "outlinewidth": 0,
                            "ticks": ""
                          }
                        },
                        "marker": {
                          "colorbar": {
                            "outlinewidth": 0,
                            "ticks": ""
                          }
                        },
                        "type": "scatter3d"
                      }
                    ],
                    "scattercarpet": [
                      {
                        "marker": {
                          "colorbar": {
                            "outlinewidth": 0,
                            "ticks": ""
                          }
                        },
                        "type": "scattercarpet"
                      }
                    ],
                    "scattergeo": [
                      {
                        "marker": {
                          "colorbar": {
                            "outlinewidth": 0,
                            "ticks": ""
                          }
                        },
                        "type": "scattergeo"
                      }
                    ],
                    "scattergl": [
                      {
                        "marker": {
                          "colorbar": {
                            "outlinewidth": 0,
                            "ticks": ""
                          }
                        },
                        "type": "scattergl"
                      }
                    ],
                    "scattermapbox": [
                      {
                        "marker": {
                          "colorbar": {
                            "outlinewidth": 0,
                            "ticks": ""
                          }
                        },
                        "type": "scattermapbox"
                      }
                    ],
                    "scatterpolar": [
                      {
                        "marker": {
                          "colorbar": {
                            "outlinewidth": 0,
                            "ticks": ""
                          }
                        },
                        "type": "scatterpolar"
                      }
                    ],
                    "scatterpolargl": [
                      {
                        "marker": {
                          "colorbar": {
                            "outlinewidth": 0,
                            "ticks": ""
                          }
                        },
                        "type": "scatterpolargl"
                      }
                    ],
                    "scatterternary": [
                      {
                        "marker": {
                          "colorbar": {
                            "outlinewidth": 0,
                            "ticks": ""
                          }
                        },
                        "type": "scatterternary"
                      }
                    ],
                    "surface": [
                      {
                        "colorbar": {
                          "outlinewidth": 0,
                          "ticks": ""
                        },
                        "colorscale": [
                          [
                            0,
                            "#0d0887"
                          ],
                          [
                            0.1111111111111111,
                            "#46039f"
                          ],
                          [
                            0.2222222222222222,
                            "#7201a8"
                          ],
                          [
                            0.3333333333333333,
                            "#9c179e"
                          ],
                          [
                            0.4444444444444444,
                            "#bd3786"
                          ],
                          [
                            0.5555555555555556,
                            "#d8576b"
                          ],
                          [
                            0.6666666666666666,
                            "#ed7953"
                          ],
                          [
                            0.7777777777777778,
                            "#fb9f3a"
                          ],
                          [
                            0.8888888888888888,
                            "#fdca26"
                          ],
                          [
                            1,
                            "#f0f921"
                          ]
                        ],
                        "type": "surface"
                      }
                    ],
                    "table": [
                      {
                        "cells": {
                          "fill": {
                            "color": "#EBF0F8"
                          },
                          "line": {
                            "color": "white"
                          }
                        },
                        "header": {
                          "fill": {
                            "color": "#C8D4E3"
                          },
                          "line": {
                            "color": "white"
                          }
                        },
                        "type": "table"
                      }
                    ]
                  },
                  "layout": {
                    "annotationdefaults": {
                      "arrowcolor": "#2a3f5f",
                      "arrowhead": 0,
                      "arrowwidth": 1
                    },
                    "autotypenumbers": "strict",
                    "coloraxis": {
                      "colorbar": {
                        "outlinewidth": 0,
                        "ticks": ""
                      }
                    },
                    "colorscale": {
                      "diverging": [
                        [
                          0,
                          "#8e0152"
                        ],
                        [
                          0.1,
                          "#c51b7d"
                        ],
                        [
                          0.2,
                          "#de77ae"
                        ],
                        [
                          0.3,
                          "#f1b6da"
                        ],
                        [
                          0.4,
                          "#fde0ef"
                        ],
                        [
                          0.5,
                          "#f7f7f7"
                        ],
                        [
                          0.6,
                          "#e6f5d0"
                        ],
                        [
                          0.7,
                          "#b8e186"
                        ],
                        [
                          0.8,
                          "#7fbc41"
                        ],
                        [
                          0.9,
                          "#4d9221"
                        ],
                        [
                          1,
                          "#276419"
                        ]
                      ],
                      "sequential": [
                        [
                          0,
                          "#0d0887"
                        ],
                        [
                          0.1111111111111111,
                          "#46039f"
                        ],
                        [
                          0.2222222222222222,
                          "#7201a8"
                        ],
                        [
                          0.3333333333333333,
                          "#9c179e"
                        ],
                        [
                          0.4444444444444444,
                          "#bd3786"
                        ],
                        [
                          0.5555555555555556,
                          "#d8576b"
                        ],
                        [
                          0.6666666666666666,
                          "#ed7953"
                        ],
                        [
                          0.7777777777777778,
                          "#fb9f3a"
                        ],
                        [
                          0.8888888888888888,
                          "#fdca26"
                        ],
                        [
                          1,
                          "#f0f921"
                        ]
                      ],
                      "sequentialminus": [
                        [
                          0,
                          "#0d0887"
                        ],
                        [
                          0.1111111111111111,
                          "#46039f"
                        ],
                        [
                          0.2222222222222222,
                          "#7201a8"
                        ],
                        [
                          0.3333333333333333,
                          "#9c179e"
                        ],
                        [
                          0.4444444444444444,
                          "#bd3786"
                        ],
                        [
                          0.5555555555555556,
                          "#d8576b"
                        ],
                        [
                          0.6666666666666666,
                          "#ed7953"
                        ],
                        [
                          0.7777777777777778,
                          "#fb9f3a"
                        ],
                        [
                          0.8888888888888888,
                          "#fdca26"
                        ],
                        [
                          1,
                          "#f0f921"
                        ]
                      ]
                    },
                    "colorway": [
                      "#636efa",
                      "#EF553B",
                      "#00cc96",
                      "#ab63fa",
                      "#FFA15A",
                      "#19d3f3",
                      "#FF6692",
                      "#B6E880",
                      "#FF97FF",
                      "#FECB52"
                    ],
                    "font": {
                      "color": "#2a3f5f"
                    },
                    "geo": {
                      "bgcolor": "white",
                      "lakecolor": "white",
                      "landcolor": "#E5ECF6",
                      "showlakes": true,
                      "showland": true,
                      "subunitcolor": "white"
                    },
                    "hoverlabel": {
                      "align": "left"
                    },
                    "hovermode": "closest",
                    "mapbox": {
                      "style": "light"
                    },
                    "paper_bgcolor": "white",
                    "plot_bgcolor": "#E5ECF6",
                    "polar": {
                      "angularaxis": {
                        "gridcolor": "white",
                        "linecolor": "white",
                        "ticks": ""
                      },
                      "bgcolor": "#E5ECF6",
                      "radialaxis": {
                        "gridcolor": "white",
                        "linecolor": "white",
                        "ticks": ""
                      }
                    },
                    "scene": {
                      "xaxis": {
                        "backgroundcolor": "#E5ECF6",
                        "gridcolor": "white",
                        "gridwidth": 2,
                        "linecolor": "white",
                        "showbackground": true,
                        "ticks": "",
                        "zerolinecolor": "white"
                      },
                      "yaxis": {
                        "backgroundcolor": "#E5ECF6",
                        "gridcolor": "white",
                        "gridwidth": 2,
                        "linecolor": "white",
                        "showbackground": true,
                        "ticks": "",
                        "zerolinecolor": "white"
                      },
                      "zaxis": {
                        "backgroundcolor": "#E5ECF6",
                        "gridcolor": "white",
                        "gridwidth": 2,
                        "linecolor": "white",
                        "showbackground": true,
                        "ticks": "",
                        "zerolinecolor": "white"
                      }
                    },
                    "shapedefaults": {
                      "line": {
                        "color": "#2a3f5f"
                      }
                    },
                    "ternary": {
                      "aaxis": {
                        "gridcolor": "white",
                        "linecolor": "white",
                        "ticks": ""
                      },
                      "baxis": {
                        "gridcolor": "white",
                        "linecolor": "white",
                        "ticks": ""
                      },
                      "bgcolor": "#E5ECF6",
                      "caxis": {
                        "gridcolor": "white",
                        "linecolor": "white",
                        "ticks": ""
                      }
                    },
                    "title": {
                      "x": 0.05
                    },
                    "xaxis": {
                      "automargin": true,
                      "gridcolor": "white",
                      "linecolor": "white",
                      "ticks": "",
                      "title": {
                        "standoff": 15
                      },
                      "zerolinecolor": "white",
                      "zerolinewidth": 2
                    },
                    "yaxis": {
                      "automargin": true,
                      "gridcolor": "white",
                      "linecolor": "white",
                      "ticks": "",
                      "title": {
                        "standoff": 15
                      },
                      "zerolinecolor": "white",
                      "zerolinewidth": 2
                    }
                  }
                },
                "title": {
                  "text": "Daily Steps Distribution by Sleep Disorder"
                },
                "xaxis": {
                  "anchor": "y",
                  "domain": [
                    0,
                    1
                  ],
                  "title": {
                    "text": "Daily Steps"
                  }
                },
                "yaxis": {
                  "anchor": "x",
                  "domain": [
                    0,
                    1
                  ],
                  "title": {
                    "text": "count"
                  }
                }
              }
            }
          },
          "metadata": {},
          "output_type": "display_data"
        }
      ],
      "source": [
        "# Membuat histogram distribusi 'Daily Steps' berdasarkan 'Sleep Disorder'\n",
        "fig = px.histogram(data, x='Daily Steps', color='Sleep Disorder',\n",
        "                   title='Daily Steps Distribution by Sleep Disorder',\n",
        "                   labels={'Daily Steps': 'Daily Steps', 'count': 'Count'})\n",
        "fig.show()"
      ]
    },
    {
      "cell_type": "code",
      "execution_count": 24,
      "metadata": {
        "colab": {
          "base_uri": "https://localhost:8080/",
          "height": 542
        },
        "id": "rBy_P-jAz9VG",
        "outputId": "59f2f5b3-896d-462b-c208-87fa5b60378f"
      },
      "outputs": [
        {
          "data": {
            "application/vnd.plotly.v1+json": {
              "config": {
                "plotlyServerURL": "https://plot.ly"
              },
              "data": [
                {
                  "hovertemplate": "Sleep Disorder=Healthy Sleep<br>Systolic=%{x}<br>Diastolic=%{y}<extra></extra>",
                  "legendgroup": "Healthy Sleep",
                  "marker": {
                    "color": "#636efa",
                    "symbol": "circle"
                  },
                  "mode": "markers",
                  "name": "Healthy Sleep",
                  "orientation": "v",
                  "showlegend": true,
                  "type": "scatter",
                  "x": [
                    126,
                    125,
                    125,
                    120,
                    120,
                    120,
                    120,
                    120,
                    120,
                    120,
                    120,
                    120,
                    120,
                    120,
                    120,
                    120,
                    120,
                    120,
                    120,
                    120,
                    120,
                    120,
                    120,
                    117,
                    125,
                    120,
                    125,
                    125,
                    120,
                    120,
                    120,
                    120,
                    120,
                    120,
                    120,
                    120,
                    120,
                    120,
                    120,
                    120,
                    120,
                    120,
                    125,
                    120,
                    125,
                    125,
                    120,
                    125,
                    125,
                    120,
                    125,
                    125,
                    125,
                    125,
                    125,
                    125,
                    118,
                    128,
                    128,
                    125,
                    125,
                    125,
                    125,
                    125,
                    125,
                    125,
                    125,
                    125,
                    125,
                    128,
                    128,
                    120,
                    115,
                    125,
                    125,
                    125,
                    125,
                    125,
                    125,
                    120,
                    115,
                    115,
                    115,
                    115,
                    115,
                    115,
                    115,
                    115,
                    126,
                    120,
                    120,
                    130,
                    115,
                    130,
                    115,
                    130,
                    115,
                    115,
                    115,
                    115,
                    115,
                    115,
                    115,
                    115,
                    115,
                    115,
                    115,
                    120,
                    130,
                    115,
                    130,
                    130,
                    115,
                    130,
                    130,
                    115,
                    130,
                    130,
                    115,
                    130,
                    115,
                    130,
                    115,
                    130,
                    115,
                    115,
                    128,
                    115,
                    115,
                    130,
                    130,
                    130,
                    130,
                    130,
                    130,
                    130,
                    130,
                    130,
                    130,
                    119,
                    119,
                    130,
                    130,
                    121,
                    125,
                    125,
                    130,
                    130,
                    130,
                    130,
                    130,
                    130,
                    130,
                    130,
                    130,
                    130,
                    130,
                    130,
                    130,
                    130,
                    117,
                    122,
                    130,
                    130,
                    130,
                    130,
                    130,
                    130,
                    130,
                    130,
                    130,
                    130,
                    130,
                    130,
                    130,
                    130,
                    130,
                    135,
                    135,
                    125,
                    140,
                    125,
                    140,
                    125,
                    125,
                    125,
                    125,
                    125,
                    125,
                    125,
                    125,
                    125,
                    125,
                    125,
                    125,
                    125,
                    125,
                    125,
                    125,
                    125,
                    125,
                    125,
                    125,
                    125,
                    125,
                    125,
                    125,
                    125,
                    125,
                    125,
                    125,
                    125,
                    125,
                    125,
                    118,
                    118,
                    140,
                    140,
                    140
                  ],
                  "xaxis": "x",
                  "y": [
                    83,
                    80,
                    80,
                    80,
                    80,
                    80,
                    80,
                    80,
                    80,
                    80,
                    80,
                    80,
                    80,
                    80,
                    80,
                    80,
                    80,
                    80,
                    80,
                    80,
                    80,
                    80,
                    80,
                    76,
                    80,
                    80,
                    80,
                    80,
                    80,
                    80,
                    80,
                    80,
                    80,
                    80,
                    80,
                    80,
                    80,
                    80,
                    80,
                    80,
                    80,
                    80,
                    80,
                    80,
                    80,
                    80,
                    80,
                    80,
                    80,
                    80,
                    80,
                    80,
                    80,
                    80,
                    80,
                    80,
                    76,
                    85,
                    85,
                    80,
                    80,
                    80,
                    80,
                    80,
                    80,
                    80,
                    80,
                    80,
                    80,
                    84,
                    84,
                    80,
                    75,
                    80,
                    80,
                    80,
                    80,
                    80,
                    80,
                    80,
                    75,
                    75,
                    75,
                    75,
                    75,
                    75,
                    75,
                    75,
                    83,
                    80,
                    80,
                    85,
                    75,
                    85,
                    75,
                    85,
                    75,
                    75,
                    75,
                    75,
                    75,
                    75,
                    75,
                    75,
                    75,
                    75,
                    75,
                    80,
                    85,
                    75,
                    85,
                    85,
                    75,
                    85,
                    85,
                    75,
                    85,
                    85,
                    75,
                    85,
                    75,
                    85,
                    75,
                    85,
                    75,
                    75,
                    85,
                    78,
                    78,
                    85,
                    85,
                    85,
                    85,
                    85,
                    85,
                    85,
                    85,
                    85,
                    85,
                    77,
                    77,
                    85,
                    85,
                    79,
                    82,
                    82,
                    85,
                    85,
                    85,
                    85,
                    85,
                    85,
                    85,
                    85,
                    85,
                    85,
                    85,
                    85,
                    85,
                    85,
                    76,
                    80,
                    85,
                    85,
                    85,
                    85,
                    85,
                    85,
                    85,
                    85,
                    85,
                    85,
                    85,
                    85,
                    85,
                    85,
                    85,
                    90,
                    90,
                    82,
                    95,
                    80,
                    95,
                    80,
                    80,
                    80,
                    80,
                    82,
                    80,
                    80,
                    80,
                    80,
                    80,
                    80,
                    80,
                    80,
                    80,
                    80,
                    80,
                    80,
                    80,
                    80,
                    80,
                    80,
                    80,
                    80,
                    80,
                    80,
                    80,
                    80,
                    80,
                    80,
                    80,
                    80,
                    75,
                    75,
                    95,
                    95,
                    95
                  ],
                  "yaxis": "y"
                },
                {
                  "hovertemplate": "Sleep Disorder=Sleep Apnea<br>Systolic=%{x}<br>Diastolic=%{y}<extra></extra>",
                  "legendgroup": "Sleep Apnea",
                  "marker": {
                    "color": "#EF553B",
                    "symbol": "circle"
                  },
                  "mode": "markers",
                  "name": "Sleep Apnea",
                  "orientation": "v",
                  "showlegend": true,
                  "type": "scatter",
                  "x": [
                    140,
                    140,
                    132,
                    120,
                    130,
                    120,
                    131,
                    131,
                    135,
                    129,
                    115,
                    130,
                    135,
                    130,
                    130,
                    130,
                    130,
                    140,
                    140,
                    140,
                    140,
                    140,
                    140,
                    140,
                    140,
                    140,
                    139,
                    139,
                    140,
                    140,
                    140,
                    140,
                    140,
                    140,
                    140,
                    140,
                    140,
                    140,
                    140,
                    140,
                    140,
                    140,
                    140,
                    140,
                    140,
                    140,
                    140,
                    140,
                    140,
                    140,
                    140,
                    140,
                    140,
                    140,
                    140,
                    140,
                    140,
                    140,
                    140,
                    140,
                    140,
                    140,
                    140,
                    140,
                    140,
                    140,
                    140,
                    140,
                    140,
                    140,
                    140,
                    140,
                    140,
                    140,
                    140,
                    140,
                    140,
                    140
                  ],
                  "xaxis": "x",
                  "y": [
                    90,
                    90,
                    87,
                    80,
                    86,
                    80,
                    86,
                    86,
                    88,
                    84,
                    75,
                    85,
                    88,
                    85,
                    85,
                    85,
                    85,
                    95,
                    95,
                    95,
                    95,
                    95,
                    95,
                    95,
                    95,
                    95,
                    91,
                    91,
                    95,
                    95,
                    95,
                    95,
                    95,
                    95,
                    95,
                    95,
                    95,
                    95,
                    95,
                    95,
                    95,
                    95,
                    95,
                    95,
                    95,
                    95,
                    95,
                    95,
                    95,
                    95,
                    95,
                    95,
                    95,
                    95,
                    95,
                    95,
                    95,
                    95,
                    95,
                    95,
                    95,
                    95,
                    95,
                    95,
                    95,
                    95,
                    95,
                    95,
                    95,
                    95,
                    95,
                    95,
                    95,
                    95,
                    95,
                    95,
                    95,
                    95
                  ],
                  "yaxis": "y"
                },
                {
                  "hovertemplate": "Sleep Disorder=Insomnia<br>Systolic=%{x}<br>Diastolic=%{y}<extra></extra>",
                  "legendgroup": "Insomnia",
                  "marker": {
                    "color": "#00cc96",
                    "symbol": "circle"
                  },
                  "mode": "markers",
                  "name": "Insomnia",
                  "orientation": "v",
                  "showlegend": true,
                  "type": "scatter",
                  "x": [
                    140,
                    140,
                    132,
                    130,
                    125,
                    115,
                    129,
                    130,
                    132,
                    130,
                    130,
                    135,
                    130,
                    135,
                    130,
                    135,
                    130,
                    130,
                    130,
                    130,
                    130,
                    130,
                    130,
                    130,
                    130,
                    130,
                    130,
                    130,
                    135,
                    130,
                    130,
                    130,
                    135,
                    130,
                    135,
                    130,
                    135,
                    130,
                    135,
                    130,
                    135,
                    130,
                    135,
                    130,
                    130,
                    135,
                    130,
                    130,
                    135,
                    130,
                    130,
                    135,
                    130,
                    135,
                    130,
                    130,
                    135,
                    135,
                    135,
                    135,
                    135,
                    135,
                    135,
                    135,
                    135,
                    135,
                    135,
                    142,
                    142,
                    140,
                    130,
                    130,
                    130,
                    130,
                    130,
                    130,
                    125
                  ],
                  "xaxis": "x",
                  "y": [
                    90,
                    90,
                    87,
                    86,
                    80,
                    75,
                    84,
                    85,
                    87,
                    85,
                    85,
                    90,
                    85,
                    90,
                    85,
                    90,
                    85,
                    85,
                    85,
                    85,
                    85,
                    85,
                    85,
                    85,
                    85,
                    85,
                    85,
                    85,
                    90,
                    85,
                    85,
                    85,
                    90,
                    85,
                    90,
                    85,
                    90,
                    85,
                    90,
                    85,
                    90,
                    85,
                    90,
                    85,
                    85,
                    90,
                    85,
                    85,
                    90,
                    85,
                    85,
                    90,
                    85,
                    90,
                    85,
                    85,
                    90,
                    90,
                    90,
                    90,
                    90,
                    90,
                    90,
                    90,
                    90,
                    90,
                    90,
                    92,
                    92,
                    95,
                    85,
                    85,
                    85,
                    85,
                    85,
                    85,
                    80
                  ],
                  "yaxis": "y"
                }
              ],
              "layout": {
                "legend": {
                  "title": {
                    "text": "Sleep Disorder"
                  },
                  "tracegroupgap": 0
                },
                "template": {
                  "data": {
                    "bar": [
                      {
                        "error_x": {
                          "color": "#2a3f5f"
                        },
                        "error_y": {
                          "color": "#2a3f5f"
                        },
                        "marker": {
                          "line": {
                            "color": "#E5ECF6",
                            "width": 0.5
                          },
                          "pattern": {
                            "fillmode": "overlay",
                            "size": 10,
                            "solidity": 0.2
                          }
                        },
                        "type": "bar"
                      }
                    ],
                    "barpolar": [
                      {
                        "marker": {
                          "line": {
                            "color": "#E5ECF6",
                            "width": 0.5
                          },
                          "pattern": {
                            "fillmode": "overlay",
                            "size": 10,
                            "solidity": 0.2
                          }
                        },
                        "type": "barpolar"
                      }
                    ],
                    "carpet": [
                      {
                        "aaxis": {
                          "endlinecolor": "#2a3f5f",
                          "gridcolor": "white",
                          "linecolor": "white",
                          "minorgridcolor": "white",
                          "startlinecolor": "#2a3f5f"
                        },
                        "baxis": {
                          "endlinecolor": "#2a3f5f",
                          "gridcolor": "white",
                          "linecolor": "white",
                          "minorgridcolor": "white",
                          "startlinecolor": "#2a3f5f"
                        },
                        "type": "carpet"
                      }
                    ],
                    "choropleth": [
                      {
                        "colorbar": {
                          "outlinewidth": 0,
                          "ticks": ""
                        },
                        "type": "choropleth"
                      }
                    ],
                    "contour": [
                      {
                        "colorbar": {
                          "outlinewidth": 0,
                          "ticks": ""
                        },
                        "colorscale": [
                          [
                            0,
                            "#0d0887"
                          ],
                          [
                            0.1111111111111111,
                            "#46039f"
                          ],
                          [
                            0.2222222222222222,
                            "#7201a8"
                          ],
                          [
                            0.3333333333333333,
                            "#9c179e"
                          ],
                          [
                            0.4444444444444444,
                            "#bd3786"
                          ],
                          [
                            0.5555555555555556,
                            "#d8576b"
                          ],
                          [
                            0.6666666666666666,
                            "#ed7953"
                          ],
                          [
                            0.7777777777777778,
                            "#fb9f3a"
                          ],
                          [
                            0.8888888888888888,
                            "#fdca26"
                          ],
                          [
                            1,
                            "#f0f921"
                          ]
                        ],
                        "type": "contour"
                      }
                    ],
                    "contourcarpet": [
                      {
                        "colorbar": {
                          "outlinewidth": 0,
                          "ticks": ""
                        },
                        "type": "contourcarpet"
                      }
                    ],
                    "heatmap": [
                      {
                        "colorbar": {
                          "outlinewidth": 0,
                          "ticks": ""
                        },
                        "colorscale": [
                          [
                            0,
                            "#0d0887"
                          ],
                          [
                            0.1111111111111111,
                            "#46039f"
                          ],
                          [
                            0.2222222222222222,
                            "#7201a8"
                          ],
                          [
                            0.3333333333333333,
                            "#9c179e"
                          ],
                          [
                            0.4444444444444444,
                            "#bd3786"
                          ],
                          [
                            0.5555555555555556,
                            "#d8576b"
                          ],
                          [
                            0.6666666666666666,
                            "#ed7953"
                          ],
                          [
                            0.7777777777777778,
                            "#fb9f3a"
                          ],
                          [
                            0.8888888888888888,
                            "#fdca26"
                          ],
                          [
                            1,
                            "#f0f921"
                          ]
                        ],
                        "type": "heatmap"
                      }
                    ],
                    "heatmapgl": [
                      {
                        "colorbar": {
                          "outlinewidth": 0,
                          "ticks": ""
                        },
                        "colorscale": [
                          [
                            0,
                            "#0d0887"
                          ],
                          [
                            0.1111111111111111,
                            "#46039f"
                          ],
                          [
                            0.2222222222222222,
                            "#7201a8"
                          ],
                          [
                            0.3333333333333333,
                            "#9c179e"
                          ],
                          [
                            0.4444444444444444,
                            "#bd3786"
                          ],
                          [
                            0.5555555555555556,
                            "#d8576b"
                          ],
                          [
                            0.6666666666666666,
                            "#ed7953"
                          ],
                          [
                            0.7777777777777778,
                            "#fb9f3a"
                          ],
                          [
                            0.8888888888888888,
                            "#fdca26"
                          ],
                          [
                            1,
                            "#f0f921"
                          ]
                        ],
                        "type": "heatmapgl"
                      }
                    ],
                    "histogram": [
                      {
                        "marker": {
                          "pattern": {
                            "fillmode": "overlay",
                            "size": 10,
                            "solidity": 0.2
                          }
                        },
                        "type": "histogram"
                      }
                    ],
                    "histogram2d": [
                      {
                        "colorbar": {
                          "outlinewidth": 0,
                          "ticks": ""
                        },
                        "colorscale": [
                          [
                            0,
                            "#0d0887"
                          ],
                          [
                            0.1111111111111111,
                            "#46039f"
                          ],
                          [
                            0.2222222222222222,
                            "#7201a8"
                          ],
                          [
                            0.3333333333333333,
                            "#9c179e"
                          ],
                          [
                            0.4444444444444444,
                            "#bd3786"
                          ],
                          [
                            0.5555555555555556,
                            "#d8576b"
                          ],
                          [
                            0.6666666666666666,
                            "#ed7953"
                          ],
                          [
                            0.7777777777777778,
                            "#fb9f3a"
                          ],
                          [
                            0.8888888888888888,
                            "#fdca26"
                          ],
                          [
                            1,
                            "#f0f921"
                          ]
                        ],
                        "type": "histogram2d"
                      }
                    ],
                    "histogram2dcontour": [
                      {
                        "colorbar": {
                          "outlinewidth": 0,
                          "ticks": ""
                        },
                        "colorscale": [
                          [
                            0,
                            "#0d0887"
                          ],
                          [
                            0.1111111111111111,
                            "#46039f"
                          ],
                          [
                            0.2222222222222222,
                            "#7201a8"
                          ],
                          [
                            0.3333333333333333,
                            "#9c179e"
                          ],
                          [
                            0.4444444444444444,
                            "#bd3786"
                          ],
                          [
                            0.5555555555555556,
                            "#d8576b"
                          ],
                          [
                            0.6666666666666666,
                            "#ed7953"
                          ],
                          [
                            0.7777777777777778,
                            "#fb9f3a"
                          ],
                          [
                            0.8888888888888888,
                            "#fdca26"
                          ],
                          [
                            1,
                            "#f0f921"
                          ]
                        ],
                        "type": "histogram2dcontour"
                      }
                    ],
                    "mesh3d": [
                      {
                        "colorbar": {
                          "outlinewidth": 0,
                          "ticks": ""
                        },
                        "type": "mesh3d"
                      }
                    ],
                    "parcoords": [
                      {
                        "line": {
                          "colorbar": {
                            "outlinewidth": 0,
                            "ticks": ""
                          }
                        },
                        "type": "parcoords"
                      }
                    ],
                    "pie": [
                      {
                        "automargin": true,
                        "type": "pie"
                      }
                    ],
                    "scatter": [
                      {
                        "fillpattern": {
                          "fillmode": "overlay",
                          "size": 10,
                          "solidity": 0.2
                        },
                        "type": "scatter"
                      }
                    ],
                    "scatter3d": [
                      {
                        "line": {
                          "colorbar": {
                            "outlinewidth": 0,
                            "ticks": ""
                          }
                        },
                        "marker": {
                          "colorbar": {
                            "outlinewidth": 0,
                            "ticks": ""
                          }
                        },
                        "type": "scatter3d"
                      }
                    ],
                    "scattercarpet": [
                      {
                        "marker": {
                          "colorbar": {
                            "outlinewidth": 0,
                            "ticks": ""
                          }
                        },
                        "type": "scattercarpet"
                      }
                    ],
                    "scattergeo": [
                      {
                        "marker": {
                          "colorbar": {
                            "outlinewidth": 0,
                            "ticks": ""
                          }
                        },
                        "type": "scattergeo"
                      }
                    ],
                    "scattergl": [
                      {
                        "marker": {
                          "colorbar": {
                            "outlinewidth": 0,
                            "ticks": ""
                          }
                        },
                        "type": "scattergl"
                      }
                    ],
                    "scattermapbox": [
                      {
                        "marker": {
                          "colorbar": {
                            "outlinewidth": 0,
                            "ticks": ""
                          }
                        },
                        "type": "scattermapbox"
                      }
                    ],
                    "scatterpolar": [
                      {
                        "marker": {
                          "colorbar": {
                            "outlinewidth": 0,
                            "ticks": ""
                          }
                        },
                        "type": "scatterpolar"
                      }
                    ],
                    "scatterpolargl": [
                      {
                        "marker": {
                          "colorbar": {
                            "outlinewidth": 0,
                            "ticks": ""
                          }
                        },
                        "type": "scatterpolargl"
                      }
                    ],
                    "scatterternary": [
                      {
                        "marker": {
                          "colorbar": {
                            "outlinewidth": 0,
                            "ticks": ""
                          }
                        },
                        "type": "scatterternary"
                      }
                    ],
                    "surface": [
                      {
                        "colorbar": {
                          "outlinewidth": 0,
                          "ticks": ""
                        },
                        "colorscale": [
                          [
                            0,
                            "#0d0887"
                          ],
                          [
                            0.1111111111111111,
                            "#46039f"
                          ],
                          [
                            0.2222222222222222,
                            "#7201a8"
                          ],
                          [
                            0.3333333333333333,
                            "#9c179e"
                          ],
                          [
                            0.4444444444444444,
                            "#bd3786"
                          ],
                          [
                            0.5555555555555556,
                            "#d8576b"
                          ],
                          [
                            0.6666666666666666,
                            "#ed7953"
                          ],
                          [
                            0.7777777777777778,
                            "#fb9f3a"
                          ],
                          [
                            0.8888888888888888,
                            "#fdca26"
                          ],
                          [
                            1,
                            "#f0f921"
                          ]
                        ],
                        "type": "surface"
                      }
                    ],
                    "table": [
                      {
                        "cells": {
                          "fill": {
                            "color": "#EBF0F8"
                          },
                          "line": {
                            "color": "white"
                          }
                        },
                        "header": {
                          "fill": {
                            "color": "#C8D4E3"
                          },
                          "line": {
                            "color": "white"
                          }
                        },
                        "type": "table"
                      }
                    ]
                  },
                  "layout": {
                    "annotationdefaults": {
                      "arrowcolor": "#2a3f5f",
                      "arrowhead": 0,
                      "arrowwidth": 1
                    },
                    "autotypenumbers": "strict",
                    "coloraxis": {
                      "colorbar": {
                        "outlinewidth": 0,
                        "ticks": ""
                      }
                    },
                    "colorscale": {
                      "diverging": [
                        [
                          0,
                          "#8e0152"
                        ],
                        [
                          0.1,
                          "#c51b7d"
                        ],
                        [
                          0.2,
                          "#de77ae"
                        ],
                        [
                          0.3,
                          "#f1b6da"
                        ],
                        [
                          0.4,
                          "#fde0ef"
                        ],
                        [
                          0.5,
                          "#f7f7f7"
                        ],
                        [
                          0.6,
                          "#e6f5d0"
                        ],
                        [
                          0.7,
                          "#b8e186"
                        ],
                        [
                          0.8,
                          "#7fbc41"
                        ],
                        [
                          0.9,
                          "#4d9221"
                        ],
                        [
                          1,
                          "#276419"
                        ]
                      ],
                      "sequential": [
                        [
                          0,
                          "#0d0887"
                        ],
                        [
                          0.1111111111111111,
                          "#46039f"
                        ],
                        [
                          0.2222222222222222,
                          "#7201a8"
                        ],
                        [
                          0.3333333333333333,
                          "#9c179e"
                        ],
                        [
                          0.4444444444444444,
                          "#bd3786"
                        ],
                        [
                          0.5555555555555556,
                          "#d8576b"
                        ],
                        [
                          0.6666666666666666,
                          "#ed7953"
                        ],
                        [
                          0.7777777777777778,
                          "#fb9f3a"
                        ],
                        [
                          0.8888888888888888,
                          "#fdca26"
                        ],
                        [
                          1,
                          "#f0f921"
                        ]
                      ],
                      "sequentialminus": [
                        [
                          0,
                          "#0d0887"
                        ],
                        [
                          0.1111111111111111,
                          "#46039f"
                        ],
                        [
                          0.2222222222222222,
                          "#7201a8"
                        ],
                        [
                          0.3333333333333333,
                          "#9c179e"
                        ],
                        [
                          0.4444444444444444,
                          "#bd3786"
                        ],
                        [
                          0.5555555555555556,
                          "#d8576b"
                        ],
                        [
                          0.6666666666666666,
                          "#ed7953"
                        ],
                        [
                          0.7777777777777778,
                          "#fb9f3a"
                        ],
                        [
                          0.8888888888888888,
                          "#fdca26"
                        ],
                        [
                          1,
                          "#f0f921"
                        ]
                      ]
                    },
                    "colorway": [
                      "#636efa",
                      "#EF553B",
                      "#00cc96",
                      "#ab63fa",
                      "#FFA15A",
                      "#19d3f3",
                      "#FF6692",
                      "#B6E880",
                      "#FF97FF",
                      "#FECB52"
                    ],
                    "font": {
                      "color": "#2a3f5f"
                    },
                    "geo": {
                      "bgcolor": "white",
                      "lakecolor": "white",
                      "landcolor": "#E5ECF6",
                      "showlakes": true,
                      "showland": true,
                      "subunitcolor": "white"
                    },
                    "hoverlabel": {
                      "align": "left"
                    },
                    "hovermode": "closest",
                    "mapbox": {
                      "style": "light"
                    },
                    "paper_bgcolor": "white",
                    "plot_bgcolor": "#E5ECF6",
                    "polar": {
                      "angularaxis": {
                        "gridcolor": "white",
                        "linecolor": "white",
                        "ticks": ""
                      },
                      "bgcolor": "#E5ECF6",
                      "radialaxis": {
                        "gridcolor": "white",
                        "linecolor": "white",
                        "ticks": ""
                      }
                    },
                    "scene": {
                      "xaxis": {
                        "backgroundcolor": "#E5ECF6",
                        "gridcolor": "white",
                        "gridwidth": 2,
                        "linecolor": "white",
                        "showbackground": true,
                        "ticks": "",
                        "zerolinecolor": "white"
                      },
                      "yaxis": {
                        "backgroundcolor": "#E5ECF6",
                        "gridcolor": "white",
                        "gridwidth": 2,
                        "linecolor": "white",
                        "showbackground": true,
                        "ticks": "",
                        "zerolinecolor": "white"
                      },
                      "zaxis": {
                        "backgroundcolor": "#E5ECF6",
                        "gridcolor": "white",
                        "gridwidth": 2,
                        "linecolor": "white",
                        "showbackground": true,
                        "ticks": "",
                        "zerolinecolor": "white"
                      }
                    },
                    "shapedefaults": {
                      "line": {
                        "color": "#2a3f5f"
                      }
                    },
                    "ternary": {
                      "aaxis": {
                        "gridcolor": "white",
                        "linecolor": "white",
                        "ticks": ""
                      },
                      "baxis": {
                        "gridcolor": "white",
                        "linecolor": "white",
                        "ticks": ""
                      },
                      "bgcolor": "#E5ECF6",
                      "caxis": {
                        "gridcolor": "white",
                        "linecolor": "white",
                        "ticks": ""
                      }
                    },
                    "title": {
                      "x": 0.05
                    },
                    "xaxis": {
                      "automargin": true,
                      "gridcolor": "white",
                      "linecolor": "white",
                      "ticks": "",
                      "title": {
                        "standoff": 15
                      },
                      "zerolinecolor": "white",
                      "zerolinewidth": 2
                    },
                    "yaxis": {
                      "automargin": true,
                      "gridcolor": "white",
                      "linecolor": "white",
                      "ticks": "",
                      "title": {
                        "standoff": 15
                      },
                      "zerolinecolor": "white",
                      "zerolinewidth": 2
                    }
                  }
                },
                "title": {
                  "text": "Systolic and Diastolic Blood Pressure Distribution by Sleep Disorder"
                },
                "xaxis": {
                  "anchor": "y",
                  "domain": [
                    0,
                    1
                  ],
                  "title": {
                    "text": "Systolic"
                  }
                },
                "yaxis": {
                  "anchor": "x",
                  "domain": [
                    0,
                    1
                  ],
                  "title": {
                    "text": "Diastolic"
                  }
                }
              }
            }
          },
          "metadata": {},
          "output_type": "display_data"
        }
      ],
      "source": [
        "# Membuat scatter plot antara 'Systolic' dan 'Diastolic' berdasarkan 'Sleep Disorder'\n",
        "fig = px.scatter(data, x='Systolic', y='Diastolic', color='Sleep Disorder',\n",
        "                 title='Systolic and Diastolic Blood Pressure Distribution by Sleep Disorder',\n",
        "                 labels={'SYSTOLIC': 'Systolic Blood Pressure', 'DIASTOLIC': 'Diastolic Blood Pressure'})\n",
        "fig.show()"
      ]
    },
    {
      "cell_type": "code",
      "execution_count": 25,
      "metadata": {
        "colab": {
          "base_uri": "https://localhost:8080/",
          "height": 542
        },
        "id": "dGZ6Ko4G0Ac-",
        "outputId": "f790db35-0f2a-46c2-ff22-2beaf37e146d"
      },
      "outputs": [
        {
          "data": {
            "application/vnd.plotly.v1+json": {
              "config": {
                "plotlyServerURL": "https://plot.ly"
              },
              "data": [
                {
                  "alignmentgroup": "True",
                  "bingroup": "x",
                  "hovertemplate": "Sleep Disorder=Healthy Sleep<br>BMI Category=%{x}<br>count=%{y}<extra></extra>",
                  "legendgroup": "Healthy Sleep",
                  "marker": {
                    "color": "#636efa",
                    "pattern": {
                      "shape": ""
                    }
                  },
                  "name": "Healthy Sleep",
                  "offsetgroup": "Healthy Sleep",
                  "orientation": "v",
                  "showlegend": true,
                  "type": "histogram",
                  "x": [
                    "Overweight",
                    "Normal",
                    "Normal",
                    "Normal",
                    "Normal",
                    "Normal",
                    "Normal",
                    "Normal",
                    "Normal",
                    "Normal",
                    "Normal",
                    "Normal",
                    "Normal",
                    "Normal",
                    "Normal",
                    "Normal",
                    "Normal",
                    "Normal",
                    "Normal",
                    "Normal",
                    "Normal",
                    "Normal",
                    "Normal",
                    "Normal Weight",
                    "Normal",
                    "Normal",
                    "Normal",
                    "Normal",
                    "Normal",
                    "Normal",
                    "Normal",
                    "Normal",
                    "Normal",
                    "Normal",
                    "Normal",
                    "Normal",
                    "Normal",
                    "Normal",
                    "Normal",
                    "Normal",
                    "Normal",
                    "Normal",
                    "Normal",
                    "Normal",
                    "Normal",
                    "Normal",
                    "Normal",
                    "Normal",
                    "Normal",
                    "Normal",
                    "Normal",
                    "Normal",
                    "Normal",
                    "Normal",
                    "Normal",
                    "Normal",
                    "Normal Weight",
                    "Overweight",
                    "Overweight",
                    "Normal",
                    "Normal",
                    "Normal",
                    "Normal",
                    "Normal",
                    "Normal",
                    "Normal",
                    "Normal",
                    "Normal",
                    "Normal",
                    "Overweight",
                    "Overweight",
                    "Normal Weight",
                    "Normal",
                    "Normal",
                    "Normal",
                    "Normal",
                    "Normal",
                    "Normal",
                    "Normal",
                    "Normal Weight",
                    "Normal",
                    "Normal",
                    "Normal",
                    "Normal",
                    "Normal",
                    "Normal",
                    "Normal",
                    "Normal",
                    "Overweight",
                    "Normal Weight",
                    "Normal Weight",
                    "Normal",
                    "Normal",
                    "Normal",
                    "Normal",
                    "Normal",
                    "Normal",
                    "Normal",
                    "Normal",
                    "Normal",
                    "Normal",
                    "Normal",
                    "Normal",
                    "Normal",
                    "Normal",
                    "Normal",
                    "Normal",
                    "Normal Weight",
                    "Normal",
                    "Normal",
                    "Normal",
                    "Normal",
                    "Normal",
                    "Normal",
                    "Normal",
                    "Normal",
                    "Normal",
                    "Normal",
                    "Normal",
                    "Normal",
                    "Normal",
                    "Normal",
                    "Normal",
                    "Normal",
                    "Normal",
                    "Normal",
                    "Normal Weight",
                    "Normal Weight",
                    "Normal Weight",
                    "Normal",
                    "Normal",
                    "Normal",
                    "Normal",
                    "Normal",
                    "Normal",
                    "Normal",
                    "Normal",
                    "Normal",
                    "Normal",
                    "Normal Weight",
                    "Normal Weight",
                    "Normal",
                    "Normal",
                    "Normal Weight",
                    "Overweight",
                    "Overweight",
                    "Normal",
                    "Normal",
                    "Normal",
                    "Normal",
                    "Normal",
                    "Normal",
                    "Normal",
                    "Normal",
                    "Normal",
                    "Normal",
                    "Normal",
                    "Normal",
                    "Normal",
                    "Normal",
                    "Normal Weight",
                    "Overweight",
                    "Normal",
                    "Normal",
                    "Normal",
                    "Normal",
                    "Normal",
                    "Normal",
                    "Normal",
                    "Normal",
                    "Normal",
                    "Normal",
                    "Normal",
                    "Normal",
                    "Normal",
                    "Overweight",
                    "Overweight",
                    "Overweight",
                    "Overweight",
                    "Overweight",
                    "Overweight",
                    "Normal",
                    "Overweight",
                    "Normal",
                    "Normal",
                    "Normal",
                    "Normal",
                    "Normal Weight",
                    "Normal",
                    "Normal",
                    "Normal",
                    "Normal",
                    "Normal",
                    "Normal",
                    "Normal",
                    "Normal",
                    "Normal",
                    "Normal",
                    "Normal",
                    "Normal",
                    "Normal",
                    "Normal",
                    "Normal",
                    "Normal",
                    "Normal",
                    "Normal",
                    "Normal",
                    "Normal",
                    "Normal",
                    "Normal",
                    "Normal",
                    "Normal",
                    "Normal",
                    "Normal",
                    "Normal Weight",
                    "Normal Weight",
                    "Overweight",
                    "Overweight",
                    "Overweight"
                  ],
                  "xaxis": "x",
                  "yaxis": "y"
                },
                {
                  "alignmentgroup": "True",
                  "bingroup": "x",
                  "hovertemplate": "Sleep Disorder=Sleep Apnea<br>BMI Category=%{x}<br>count=%{y}<extra></extra>",
                  "legendgroup": "Sleep Apnea",
                  "marker": {
                    "color": "#EF553B",
                    "pattern": {
                      "shape": ""
                    }
                  },
                  "name": "Sleep Apnea",
                  "offsetgroup": "Sleep Apnea",
                  "orientation": "v",
                  "showlegend": true,
                  "type": "histogram",
                  "x": [
                    "Obese",
                    "Obese",
                    "Normal Weight",
                    "Normal",
                    "Normal Weight",
                    "Normal",
                    "Overweight",
                    "Overweight",
                    "Obese",
                    "Overweight",
                    "Normal",
                    "Normal",
                    "Obese",
                    "Overweight",
                    "Overweight",
                    "Normal",
                    "Overweight",
                    "Overweight",
                    "Overweight",
                    "Overweight",
                    "Overweight",
                    "Overweight",
                    "Overweight",
                    "Overweight",
                    "Overweight",
                    "Overweight",
                    "Obese",
                    "Obese",
                    "Overweight",
                    "Overweight",
                    "Overweight",
                    "Overweight",
                    "Overweight",
                    "Overweight",
                    "Overweight",
                    "Overweight",
                    "Overweight",
                    "Overweight",
                    "Overweight",
                    "Overweight",
                    "Overweight",
                    "Overweight",
                    "Overweight",
                    "Overweight",
                    "Overweight",
                    "Overweight",
                    "Overweight",
                    "Overweight",
                    "Overweight",
                    "Overweight",
                    "Overweight",
                    "Overweight",
                    "Overweight",
                    "Overweight",
                    "Overweight",
                    "Overweight",
                    "Overweight",
                    "Overweight",
                    "Overweight",
                    "Overweight",
                    "Overweight",
                    "Overweight",
                    "Overweight",
                    "Overweight",
                    "Overweight",
                    "Overweight",
                    "Overweight",
                    "Overweight",
                    "Overweight",
                    "Overweight",
                    "Overweight",
                    "Overweight",
                    "Overweight",
                    "Overweight",
                    "Overweight",
                    "Overweight",
                    "Overweight",
                    "Overweight"
                  ],
                  "xaxis": "x",
                  "yaxis": "y"
                },
                {
                  "alignmentgroup": "True",
                  "bingroup": "x",
                  "hovertemplate": "Sleep Disorder=Insomnia<br>BMI Category=%{x}<br>count=%{y}<extra></extra>",
                  "legendgroup": "Insomnia",
                  "marker": {
                    "color": "#00cc96",
                    "pattern": {
                      "shape": ""
                    }
                  },
                  "name": "Insomnia",
                  "offsetgroup": "Insomnia",
                  "orientation": "v",
                  "showlegend": true,
                  "type": "histogram",
                  "x": [
                    "Obese",
                    "Obese",
                    "Normal Weight",
                    "Normal Weight",
                    "Normal",
                    "Normal",
                    "Overweight",
                    "Normal",
                    "Overweight",
                    "Normal",
                    "Overweight",
                    "Overweight",
                    "Overweight",
                    "Overweight",
                    "Overweight",
                    "Overweight",
                    "Overweight",
                    "Overweight",
                    "Overweight",
                    "Overweight",
                    "Overweight",
                    "Overweight",
                    "Overweight",
                    "Overweight",
                    "Overweight",
                    "Overweight",
                    "Normal",
                    "Normal",
                    "Overweight",
                    "Overweight",
                    "Overweight",
                    "Overweight",
                    "Overweight",
                    "Overweight",
                    "Overweight",
                    "Overweight",
                    "Overweight",
                    "Overweight",
                    "Overweight",
                    "Overweight",
                    "Overweight",
                    "Overweight",
                    "Overweight",
                    "Overweight",
                    "Overweight",
                    "Overweight",
                    "Overweight",
                    "Overweight",
                    "Overweight",
                    "Overweight",
                    "Overweight",
                    "Overweight",
                    "Overweight",
                    "Overweight",
                    "Overweight",
                    "Overweight",
                    "Overweight",
                    "Overweight",
                    "Overweight",
                    "Overweight",
                    "Overweight",
                    "Overweight",
                    "Overweight",
                    "Overweight",
                    "Overweight",
                    "Overweight",
                    "Overweight",
                    "Obese",
                    "Obese",
                    "Overweight",
                    "Overweight",
                    "Overweight",
                    "Overweight",
                    "Overweight",
                    "Overweight",
                    "Overweight",
                    "Normal"
                  ],
                  "xaxis": "x",
                  "yaxis": "y"
                }
              ],
              "layout": {
                "barmode": "relative",
                "legend": {
                  "title": {
                    "text": "Sleep Disorder"
                  },
                  "tracegroupgap": 0
                },
                "template": {
                  "data": {
                    "bar": [
                      {
                        "error_x": {
                          "color": "#2a3f5f"
                        },
                        "error_y": {
                          "color": "#2a3f5f"
                        },
                        "marker": {
                          "line": {
                            "color": "#E5ECF6",
                            "width": 0.5
                          },
                          "pattern": {
                            "fillmode": "overlay",
                            "size": 10,
                            "solidity": 0.2
                          }
                        },
                        "type": "bar"
                      }
                    ],
                    "barpolar": [
                      {
                        "marker": {
                          "line": {
                            "color": "#E5ECF6",
                            "width": 0.5
                          },
                          "pattern": {
                            "fillmode": "overlay",
                            "size": 10,
                            "solidity": 0.2
                          }
                        },
                        "type": "barpolar"
                      }
                    ],
                    "carpet": [
                      {
                        "aaxis": {
                          "endlinecolor": "#2a3f5f",
                          "gridcolor": "white",
                          "linecolor": "white",
                          "minorgridcolor": "white",
                          "startlinecolor": "#2a3f5f"
                        },
                        "baxis": {
                          "endlinecolor": "#2a3f5f",
                          "gridcolor": "white",
                          "linecolor": "white",
                          "minorgridcolor": "white",
                          "startlinecolor": "#2a3f5f"
                        },
                        "type": "carpet"
                      }
                    ],
                    "choropleth": [
                      {
                        "colorbar": {
                          "outlinewidth": 0,
                          "ticks": ""
                        },
                        "type": "choropleth"
                      }
                    ],
                    "contour": [
                      {
                        "colorbar": {
                          "outlinewidth": 0,
                          "ticks": ""
                        },
                        "colorscale": [
                          [
                            0,
                            "#0d0887"
                          ],
                          [
                            0.1111111111111111,
                            "#46039f"
                          ],
                          [
                            0.2222222222222222,
                            "#7201a8"
                          ],
                          [
                            0.3333333333333333,
                            "#9c179e"
                          ],
                          [
                            0.4444444444444444,
                            "#bd3786"
                          ],
                          [
                            0.5555555555555556,
                            "#d8576b"
                          ],
                          [
                            0.6666666666666666,
                            "#ed7953"
                          ],
                          [
                            0.7777777777777778,
                            "#fb9f3a"
                          ],
                          [
                            0.8888888888888888,
                            "#fdca26"
                          ],
                          [
                            1,
                            "#f0f921"
                          ]
                        ],
                        "type": "contour"
                      }
                    ],
                    "contourcarpet": [
                      {
                        "colorbar": {
                          "outlinewidth": 0,
                          "ticks": ""
                        },
                        "type": "contourcarpet"
                      }
                    ],
                    "heatmap": [
                      {
                        "colorbar": {
                          "outlinewidth": 0,
                          "ticks": ""
                        },
                        "colorscale": [
                          [
                            0,
                            "#0d0887"
                          ],
                          [
                            0.1111111111111111,
                            "#46039f"
                          ],
                          [
                            0.2222222222222222,
                            "#7201a8"
                          ],
                          [
                            0.3333333333333333,
                            "#9c179e"
                          ],
                          [
                            0.4444444444444444,
                            "#bd3786"
                          ],
                          [
                            0.5555555555555556,
                            "#d8576b"
                          ],
                          [
                            0.6666666666666666,
                            "#ed7953"
                          ],
                          [
                            0.7777777777777778,
                            "#fb9f3a"
                          ],
                          [
                            0.8888888888888888,
                            "#fdca26"
                          ],
                          [
                            1,
                            "#f0f921"
                          ]
                        ],
                        "type": "heatmap"
                      }
                    ],
                    "heatmapgl": [
                      {
                        "colorbar": {
                          "outlinewidth": 0,
                          "ticks": ""
                        },
                        "colorscale": [
                          [
                            0,
                            "#0d0887"
                          ],
                          [
                            0.1111111111111111,
                            "#46039f"
                          ],
                          [
                            0.2222222222222222,
                            "#7201a8"
                          ],
                          [
                            0.3333333333333333,
                            "#9c179e"
                          ],
                          [
                            0.4444444444444444,
                            "#bd3786"
                          ],
                          [
                            0.5555555555555556,
                            "#d8576b"
                          ],
                          [
                            0.6666666666666666,
                            "#ed7953"
                          ],
                          [
                            0.7777777777777778,
                            "#fb9f3a"
                          ],
                          [
                            0.8888888888888888,
                            "#fdca26"
                          ],
                          [
                            1,
                            "#f0f921"
                          ]
                        ],
                        "type": "heatmapgl"
                      }
                    ],
                    "histogram": [
                      {
                        "marker": {
                          "pattern": {
                            "fillmode": "overlay",
                            "size": 10,
                            "solidity": 0.2
                          }
                        },
                        "type": "histogram"
                      }
                    ],
                    "histogram2d": [
                      {
                        "colorbar": {
                          "outlinewidth": 0,
                          "ticks": ""
                        },
                        "colorscale": [
                          [
                            0,
                            "#0d0887"
                          ],
                          [
                            0.1111111111111111,
                            "#46039f"
                          ],
                          [
                            0.2222222222222222,
                            "#7201a8"
                          ],
                          [
                            0.3333333333333333,
                            "#9c179e"
                          ],
                          [
                            0.4444444444444444,
                            "#bd3786"
                          ],
                          [
                            0.5555555555555556,
                            "#d8576b"
                          ],
                          [
                            0.6666666666666666,
                            "#ed7953"
                          ],
                          [
                            0.7777777777777778,
                            "#fb9f3a"
                          ],
                          [
                            0.8888888888888888,
                            "#fdca26"
                          ],
                          [
                            1,
                            "#f0f921"
                          ]
                        ],
                        "type": "histogram2d"
                      }
                    ],
                    "histogram2dcontour": [
                      {
                        "colorbar": {
                          "outlinewidth": 0,
                          "ticks": ""
                        },
                        "colorscale": [
                          [
                            0,
                            "#0d0887"
                          ],
                          [
                            0.1111111111111111,
                            "#46039f"
                          ],
                          [
                            0.2222222222222222,
                            "#7201a8"
                          ],
                          [
                            0.3333333333333333,
                            "#9c179e"
                          ],
                          [
                            0.4444444444444444,
                            "#bd3786"
                          ],
                          [
                            0.5555555555555556,
                            "#d8576b"
                          ],
                          [
                            0.6666666666666666,
                            "#ed7953"
                          ],
                          [
                            0.7777777777777778,
                            "#fb9f3a"
                          ],
                          [
                            0.8888888888888888,
                            "#fdca26"
                          ],
                          [
                            1,
                            "#f0f921"
                          ]
                        ],
                        "type": "histogram2dcontour"
                      }
                    ],
                    "mesh3d": [
                      {
                        "colorbar": {
                          "outlinewidth": 0,
                          "ticks": ""
                        },
                        "type": "mesh3d"
                      }
                    ],
                    "parcoords": [
                      {
                        "line": {
                          "colorbar": {
                            "outlinewidth": 0,
                            "ticks": ""
                          }
                        },
                        "type": "parcoords"
                      }
                    ],
                    "pie": [
                      {
                        "automargin": true,
                        "type": "pie"
                      }
                    ],
                    "scatter": [
                      {
                        "fillpattern": {
                          "fillmode": "overlay",
                          "size": 10,
                          "solidity": 0.2
                        },
                        "type": "scatter"
                      }
                    ],
                    "scatter3d": [
                      {
                        "line": {
                          "colorbar": {
                            "outlinewidth": 0,
                            "ticks": ""
                          }
                        },
                        "marker": {
                          "colorbar": {
                            "outlinewidth": 0,
                            "ticks": ""
                          }
                        },
                        "type": "scatter3d"
                      }
                    ],
                    "scattercarpet": [
                      {
                        "marker": {
                          "colorbar": {
                            "outlinewidth": 0,
                            "ticks": ""
                          }
                        },
                        "type": "scattercarpet"
                      }
                    ],
                    "scattergeo": [
                      {
                        "marker": {
                          "colorbar": {
                            "outlinewidth": 0,
                            "ticks": ""
                          }
                        },
                        "type": "scattergeo"
                      }
                    ],
                    "scattergl": [
                      {
                        "marker": {
                          "colorbar": {
                            "outlinewidth": 0,
                            "ticks": ""
                          }
                        },
                        "type": "scattergl"
                      }
                    ],
                    "scattermapbox": [
                      {
                        "marker": {
                          "colorbar": {
                            "outlinewidth": 0,
                            "ticks": ""
                          }
                        },
                        "type": "scattermapbox"
                      }
                    ],
                    "scatterpolar": [
                      {
                        "marker": {
                          "colorbar": {
                            "outlinewidth": 0,
                            "ticks": ""
                          }
                        },
                        "type": "scatterpolar"
                      }
                    ],
                    "scatterpolargl": [
                      {
                        "marker": {
                          "colorbar": {
                            "outlinewidth": 0,
                            "ticks": ""
                          }
                        },
                        "type": "scatterpolargl"
                      }
                    ],
                    "scatterternary": [
                      {
                        "marker": {
                          "colorbar": {
                            "outlinewidth": 0,
                            "ticks": ""
                          }
                        },
                        "type": "scatterternary"
                      }
                    ],
                    "surface": [
                      {
                        "colorbar": {
                          "outlinewidth": 0,
                          "ticks": ""
                        },
                        "colorscale": [
                          [
                            0,
                            "#0d0887"
                          ],
                          [
                            0.1111111111111111,
                            "#46039f"
                          ],
                          [
                            0.2222222222222222,
                            "#7201a8"
                          ],
                          [
                            0.3333333333333333,
                            "#9c179e"
                          ],
                          [
                            0.4444444444444444,
                            "#bd3786"
                          ],
                          [
                            0.5555555555555556,
                            "#d8576b"
                          ],
                          [
                            0.6666666666666666,
                            "#ed7953"
                          ],
                          [
                            0.7777777777777778,
                            "#fb9f3a"
                          ],
                          [
                            0.8888888888888888,
                            "#fdca26"
                          ],
                          [
                            1,
                            "#f0f921"
                          ]
                        ],
                        "type": "surface"
                      }
                    ],
                    "table": [
                      {
                        "cells": {
                          "fill": {
                            "color": "#EBF0F8"
                          },
                          "line": {
                            "color": "white"
                          }
                        },
                        "header": {
                          "fill": {
                            "color": "#C8D4E3"
                          },
                          "line": {
                            "color": "white"
                          }
                        },
                        "type": "table"
                      }
                    ]
                  },
                  "layout": {
                    "annotationdefaults": {
                      "arrowcolor": "#2a3f5f",
                      "arrowhead": 0,
                      "arrowwidth": 1
                    },
                    "autotypenumbers": "strict",
                    "coloraxis": {
                      "colorbar": {
                        "outlinewidth": 0,
                        "ticks": ""
                      }
                    },
                    "colorscale": {
                      "diverging": [
                        [
                          0,
                          "#8e0152"
                        ],
                        [
                          0.1,
                          "#c51b7d"
                        ],
                        [
                          0.2,
                          "#de77ae"
                        ],
                        [
                          0.3,
                          "#f1b6da"
                        ],
                        [
                          0.4,
                          "#fde0ef"
                        ],
                        [
                          0.5,
                          "#f7f7f7"
                        ],
                        [
                          0.6,
                          "#e6f5d0"
                        ],
                        [
                          0.7,
                          "#b8e186"
                        ],
                        [
                          0.8,
                          "#7fbc41"
                        ],
                        [
                          0.9,
                          "#4d9221"
                        ],
                        [
                          1,
                          "#276419"
                        ]
                      ],
                      "sequential": [
                        [
                          0,
                          "#0d0887"
                        ],
                        [
                          0.1111111111111111,
                          "#46039f"
                        ],
                        [
                          0.2222222222222222,
                          "#7201a8"
                        ],
                        [
                          0.3333333333333333,
                          "#9c179e"
                        ],
                        [
                          0.4444444444444444,
                          "#bd3786"
                        ],
                        [
                          0.5555555555555556,
                          "#d8576b"
                        ],
                        [
                          0.6666666666666666,
                          "#ed7953"
                        ],
                        [
                          0.7777777777777778,
                          "#fb9f3a"
                        ],
                        [
                          0.8888888888888888,
                          "#fdca26"
                        ],
                        [
                          1,
                          "#f0f921"
                        ]
                      ],
                      "sequentialminus": [
                        [
                          0,
                          "#0d0887"
                        ],
                        [
                          0.1111111111111111,
                          "#46039f"
                        ],
                        [
                          0.2222222222222222,
                          "#7201a8"
                        ],
                        [
                          0.3333333333333333,
                          "#9c179e"
                        ],
                        [
                          0.4444444444444444,
                          "#bd3786"
                        ],
                        [
                          0.5555555555555556,
                          "#d8576b"
                        ],
                        [
                          0.6666666666666666,
                          "#ed7953"
                        ],
                        [
                          0.7777777777777778,
                          "#fb9f3a"
                        ],
                        [
                          0.8888888888888888,
                          "#fdca26"
                        ],
                        [
                          1,
                          "#f0f921"
                        ]
                      ]
                    },
                    "colorway": [
                      "#636efa",
                      "#EF553B",
                      "#00cc96",
                      "#ab63fa",
                      "#FFA15A",
                      "#19d3f3",
                      "#FF6692",
                      "#B6E880",
                      "#FF97FF",
                      "#FECB52"
                    ],
                    "font": {
                      "color": "#2a3f5f"
                    },
                    "geo": {
                      "bgcolor": "white",
                      "lakecolor": "white",
                      "landcolor": "#E5ECF6",
                      "showlakes": true,
                      "showland": true,
                      "subunitcolor": "white"
                    },
                    "hoverlabel": {
                      "align": "left"
                    },
                    "hovermode": "closest",
                    "mapbox": {
                      "style": "light"
                    },
                    "paper_bgcolor": "white",
                    "plot_bgcolor": "#E5ECF6",
                    "polar": {
                      "angularaxis": {
                        "gridcolor": "white",
                        "linecolor": "white",
                        "ticks": ""
                      },
                      "bgcolor": "#E5ECF6",
                      "radialaxis": {
                        "gridcolor": "white",
                        "linecolor": "white",
                        "ticks": ""
                      }
                    },
                    "scene": {
                      "xaxis": {
                        "backgroundcolor": "#E5ECF6",
                        "gridcolor": "white",
                        "gridwidth": 2,
                        "linecolor": "white",
                        "showbackground": true,
                        "ticks": "",
                        "zerolinecolor": "white"
                      },
                      "yaxis": {
                        "backgroundcolor": "#E5ECF6",
                        "gridcolor": "white",
                        "gridwidth": 2,
                        "linecolor": "white",
                        "showbackground": true,
                        "ticks": "",
                        "zerolinecolor": "white"
                      },
                      "zaxis": {
                        "backgroundcolor": "#E5ECF6",
                        "gridcolor": "white",
                        "gridwidth": 2,
                        "linecolor": "white",
                        "showbackground": true,
                        "ticks": "",
                        "zerolinecolor": "white"
                      }
                    },
                    "shapedefaults": {
                      "line": {
                        "color": "#2a3f5f"
                      }
                    },
                    "ternary": {
                      "aaxis": {
                        "gridcolor": "white",
                        "linecolor": "white",
                        "ticks": ""
                      },
                      "baxis": {
                        "gridcolor": "white",
                        "linecolor": "white",
                        "ticks": ""
                      },
                      "bgcolor": "#E5ECF6",
                      "caxis": {
                        "gridcolor": "white",
                        "linecolor": "white",
                        "ticks": ""
                      }
                    },
                    "title": {
                      "x": 0.05
                    },
                    "xaxis": {
                      "automargin": true,
                      "gridcolor": "white",
                      "linecolor": "white",
                      "ticks": "",
                      "title": {
                        "standoff": 15
                      },
                      "zerolinecolor": "white",
                      "zerolinewidth": 2
                    },
                    "yaxis": {
                      "automargin": true,
                      "gridcolor": "white",
                      "linecolor": "white",
                      "ticks": "",
                      "title": {
                        "standoff": 15
                      },
                      "zerolinecolor": "white",
                      "zerolinewidth": 2
                    }
                  }
                },
                "title": {
                  "text": "BMI Category Distribution by Sleep Disorder"
                },
                "xaxis": {
                  "anchor": "y",
                  "domain": [
                    0,
                    1
                  ],
                  "title": {
                    "text": "BMI Category"
                  }
                },
                "yaxis": {
                  "anchor": "x",
                  "domain": [
                    0,
                    1
                  ],
                  "title": {
                    "text": "count"
                  }
                }
              }
            }
          },
          "metadata": {},
          "output_type": "display_data"
        }
      ],
      "source": [
        "# Membuat histogram distribusi 'BMI Category' berdasarkan 'Sleep Disorder'\n",
        "fig = px.histogram(data, x='BMI Category', color='Sleep Disorder',\n",
        "                   title='BMI Category Distribution by Sleep Disorder',\n",
        "                   labels={'BMI Category': 'BMI Category', 'count': 'Count'})\n",
        "fig.show()"
      ]
    },
    {
      "cell_type": "markdown",
      "metadata": {
        "id": "6rNLu_uW2z0o"
      },
      "source": [
        "# data preprocessing (label encoding, rename, dan handling imbalanced data)"
      ]
    },
    {
      "cell_type": "code",
      "execution_count": 26,
      "metadata": {
        "id": "3wCT6t-_2818"
      },
      "outputs": [],
      "source": [
        "from sklearn.preprocessing import LabelEncoder\n",
        "import joblib\n",
        "from imblearn.over_sampling import SMOTE"
      ]
    },
    {
      "cell_type": "markdown",
      "metadata": {
        "id": "Ldul5i3H5g4k"
      },
      "source": [
        "model yang akan digunakan hanya dapat mengolah data numerik"
      ]
    },
    {
      "cell_type": "code",
      "execution_count": 27,
      "metadata": {
        "colab": {
          "base_uri": "https://localhost:8080/",
          "height": 223
        },
        "id": "ObEp-tiJ3EYK",
        "outputId": "24602f28-0f98-4f7f-d47d-d7a6b924db00"
      },
      "outputs": [
        {
          "data": {
            "text/html": [
              "<div>\n",
              "<style scoped>\n",
              "    .dataframe tbody tr th:only-of-type {\n",
              "        vertical-align: middle;\n",
              "    }\n",
              "\n",
              "    .dataframe tbody tr th {\n",
              "        vertical-align: top;\n",
              "    }\n",
              "\n",
              "    .dataframe thead th {\n",
              "        text-align: right;\n",
              "    }\n",
              "</style>\n",
              "<table border=\"1\" class=\"dataframe\">\n",
              "  <thead>\n",
              "    <tr style=\"text-align: right;\">\n",
              "      <th></th>\n",
              "      <th>Gender</th>\n",
              "      <th>Age</th>\n",
              "      <th>Sleep Duration</th>\n",
              "      <th>Quality of Sleep</th>\n",
              "      <th>Physical Activity Level</th>\n",
              "      <th>Stress Level</th>\n",
              "      <th>BMI Category</th>\n",
              "      <th>Heart Rate</th>\n",
              "      <th>Daily Steps</th>\n",
              "      <th>Sleep Disorder</th>\n",
              "      <th>Systolic</th>\n",
              "      <th>Diastolic</th>\n",
              "    </tr>\n",
              "  </thead>\n",
              "  <tbody>\n",
              "    <tr>\n",
              "      <th>0</th>\n",
              "      <td>1</td>\n",
              "      <td>27</td>\n",
              "      <td>6.1</td>\n",
              "      <td>6</td>\n",
              "      <td>42</td>\n",
              "      <td>6</td>\n",
              "      <td>3</td>\n",
              "      <td>77</td>\n",
              "      <td>4200</td>\n",
              "      <td>0</td>\n",
              "      <td>126.0</td>\n",
              "      <td>83.0</td>\n",
              "    </tr>\n",
              "    <tr>\n",
              "      <th>1</th>\n",
              "      <td>1</td>\n",
              "      <td>28</td>\n",
              "      <td>6.2</td>\n",
              "      <td>6</td>\n",
              "      <td>60</td>\n",
              "      <td>8</td>\n",
              "      <td>0</td>\n",
              "      <td>75</td>\n",
              "      <td>10000</td>\n",
              "      <td>0</td>\n",
              "      <td>125.0</td>\n",
              "      <td>80.0</td>\n",
              "    </tr>\n",
              "    <tr>\n",
              "      <th>2</th>\n",
              "      <td>1</td>\n",
              "      <td>28</td>\n",
              "      <td>6.2</td>\n",
              "      <td>6</td>\n",
              "      <td>60</td>\n",
              "      <td>8</td>\n",
              "      <td>0</td>\n",
              "      <td>75</td>\n",
              "      <td>10000</td>\n",
              "      <td>0</td>\n",
              "      <td>125.0</td>\n",
              "      <td>80.0</td>\n",
              "    </tr>\n",
              "    <tr>\n",
              "      <th>3</th>\n",
              "      <td>1</td>\n",
              "      <td>28</td>\n",
              "      <td>5.9</td>\n",
              "      <td>4</td>\n",
              "      <td>30</td>\n",
              "      <td>8</td>\n",
              "      <td>2</td>\n",
              "      <td>85</td>\n",
              "      <td>3000</td>\n",
              "      <td>2</td>\n",
              "      <td>140.0</td>\n",
              "      <td>90.0</td>\n",
              "    </tr>\n",
              "    <tr>\n",
              "      <th>4</th>\n",
              "      <td>1</td>\n",
              "      <td>28</td>\n",
              "      <td>5.9</td>\n",
              "      <td>4</td>\n",
              "      <td>30</td>\n",
              "      <td>8</td>\n",
              "      <td>2</td>\n",
              "      <td>85</td>\n",
              "      <td>3000</td>\n",
              "      <td>2</td>\n",
              "      <td>140.0</td>\n",
              "      <td>90.0</td>\n",
              "    </tr>\n",
              "  </tbody>\n",
              "</table>\n",
              "</div>"
            ],
            "text/plain": [
              "   Gender  Age  Sleep Duration  Quality of Sleep  Physical Activity Level  \\\n",
              "0       1   27             6.1                 6                       42   \n",
              "1       1   28             6.2                 6                       60   \n",
              "2       1   28             6.2                 6                       60   \n",
              "3       1   28             5.9                 4                       30   \n",
              "4       1   28             5.9                 4                       30   \n",
              "\n",
              "   Stress Level  BMI Category  Heart Rate  Daily Steps  Sleep Disorder  \\\n",
              "0             6             3          77         4200               0   \n",
              "1             8             0          75        10000               0   \n",
              "2             8             0          75        10000               0   \n",
              "3             8             2          85         3000               2   \n",
              "4             8             2          85         3000               2   \n",
              "\n",
              "   Systolic  Diastolic  \n",
              "0     126.0       83.0  \n",
              "1     125.0       80.0  \n",
              "2     125.0       80.0  \n",
              "3     140.0       90.0  \n",
              "4     140.0       90.0  "
            ]
          },
          "execution_count": 27,
          "metadata": {},
          "output_type": "execute_result"
        }
      ],
      "source": [
        "# Inisialisasi label encoder untuk kolom kategorikal\n",
        "label_encoders = {}\n",
        "cat_columns = ['BMI Category', 'Sleep Disorder', 'Gender']\n",
        "for col in cat_columns:\n",
        "    le = LabelEncoder()\n",
        "    data[col] = le.fit_transform(data[col])\n",
        "    label_encoders[col] = le\n",
        "\n",
        "data.head()"
      ]
    },
    {
      "cell_type": "code",
      "execution_count": 28,
      "metadata": {
        "colab": {
          "base_uri": "https://localhost:8080/"
        },
        "id": "oMMbxaYx3gW2",
        "outputId": "86722aad-1ec0-473a-eff1-cd9a3b16a35f"
      },
      "outputs": [
        {
          "data": {
            "text/plain": [
              "['sleep_disorder_label_encoder.pkl']"
            ]
          },
          "execution_count": 28,
          "metadata": {},
          "output_type": "execute_result"
        }
      ],
      "source": [
        "# Simpan label encoder untuk 'Sleep Disorder'\n",
        "joblib.dump(label_encoders['Sleep Disorder'], 'sleep_disorder_label_encoder.pkl')"
      ]
    },
    {
      "cell_type": "markdown",
      "metadata": {
        "id": "a1CeX8Hx5jO1"
      },
      "source": [
        "pada dasarnya normal weight sama normal sama saja berdasarkan data visualization"
      ]
    },
    {
      "cell_type": "code",
      "execution_count": 29,
      "metadata": {
        "colab": {
          "base_uri": "https://localhost:8080/"
        },
        "id": "50zbzXQt3lo9",
        "outputId": "2dc79ecf-90b3-40a1-b6c0-7ca5201e45a6"
      },
      "outputs": [
        {
          "data": {
            "text/plain": [
              "BMI Category\n",
              "0    195\n",
              "3    148\n",
              "1     21\n",
              "2     10\n",
              "Name: count, dtype: int64"
            ]
          },
          "execution_count": 29,
          "metadata": {},
          "output_type": "execute_result"
        }
      ],
      "source": [
        "# Mengganti nilai 'Normal Weight' menjadi 'Normal' pada kolom 'BMI Category'\n",
        "data['BMI Category'] = data['BMI Category'].replace(\"Normal Weight\", \"Normal\")\n",
        "data['BMI Category'].value_counts()"
      ]
    },
    {
      "cell_type": "code",
      "execution_count": 30,
      "metadata": {
        "id": "hh0LBcbR3oYf"
      },
      "outputs": [],
      "source": [
        "# Memisahkan fitur dan label\n",
        "X = data.drop('Sleep Disorder', axis=1)\n",
        "y = data['Sleep Disorder']"
      ]
    },
    {
      "cell_type": "markdown",
      "metadata": {
        "id": "uZQ4wfzO5bAm"
      },
      "source": [
        "mengatasi masalah ketidakseimbangan kelas di dataset"
      ]
    },
    {
      "cell_type": "code",
      "execution_count": 31,
      "metadata": {
        "id": "O2IzdzlD3sE4"
      },
      "outputs": [],
      "source": [
        "# Terapkan SMOTE untuk menangani ketidakseimbangan kelas\n",
        "smote = SMOTE(random_state=1)\n",
        "X_resampled, y_resampled = smote.fit_resample(X, y)"
      ]
    },
    {
      "cell_type": "markdown",
      "metadata": {
        "id": "yZ1DNaXQ3yLm"
      },
      "source": [
        "# modeling"
      ]
    },
    {
      "cell_type": "code",
      "execution_count": 32,
      "metadata": {
        "id": "Yuizxp4p3vfA"
      },
      "outputs": [],
      "source": [
        "from sklearn.model_selection import train_test_split\n",
        "from sklearn.ensemble import RandomForestClassifier\n",
        "from sklearn.metrics import accuracy_score, precision_score, recall_score, f1_score"
      ]
    },
    {
      "cell_type": "markdown",
      "metadata": {
        "id": "TgqAkmCJ50vu"
      },
      "source": [
        "untuk melatih model (train) dan mengevaluasi kinerja model (test)"
      ]
    },
    {
      "cell_type": "code",
      "execution_count": 33,
      "metadata": {
        "id": "oCkAtyd4382D"
      },
      "outputs": [],
      "source": [
        "# Bagi data menjadi training dan testing set\n",
        "X_train, X_test, y_train, y_test = train_test_split(X_resampled, y_resampled, test_size=0.2, random_state=42)"
      ]
    },
    {
      "cell_type": "code",
      "execution_count": 34,
      "metadata": {},
      "outputs": [
        {
          "name": "stdout",
          "output_type": "stream",
          "text": [
            "Accuracy: 0.9015151515151515\n",
            "Precision: 0.9005706761209904\n",
            "Recall: 0.9015151515151515\n",
            "F1-score: 0.9007458426147746\n"
          ]
        }
      ],
      "source": [
        "# memeriksa akurasi jika menggunakan DecisionTreeClassifier\n",
        "from sklearn.tree import DecisionTreeClassifier\n",
        "\n",
        "model_dtc = DecisionTreeClassifier(class_weight='balanced')\n",
        "model_dtc.fit(X_train, y_train)\n",
        "\n",
        "y_pred = model_dtc.predict(X_test)\n",
        "\n",
        "accuracy = accuracy_score(y_test, y_pred)\n",
        "precision = precision_score(y_test, y_pred, average='weighted')\n",
        "recall = recall_score(y_test, y_pred, average='weighted')\n",
        "f1 = f1_score(y_test, y_pred, average='weighted')\n",
        "\n",
        "print(\"Accuracy:\", accuracy)\n",
        "print(\"Precision:\", precision)\n",
        "print(\"Recall:\", recall)\n",
        "print(\"F1-score:\", f1)"
      ]
    },
    {
      "cell_type": "code",
      "execution_count": 35,
      "metadata": {},
      "outputs": [
        {
          "name": "stdout",
          "output_type": "stream",
          "text": [
            "Accuracy: 0.9242424242424242\n",
            "Precision: 0.9266738956294082\n",
            "Recall: 0.9242424242424242\n",
            "F1-score: 0.9245076052683937\n"
          ]
        }
      ],
      "source": [
        "# Memeriksa akurasi RandomForestClassifier\n",
        "from sklearn.ensemble import RandomForestClassifier\n",
        "model = RandomForestClassifier(n_estimators=100, random_state=42)\n",
        "model.fit(X_train, y_train)\n",
        "\n",
        "y_pred = model.predict(X_test)\n",
        "\n",
        "accuracy = accuracy_score(y_test, y_pred)\n",
        "precision = precision_score(y_test, y_pred, average='weighted')\n",
        "recall = recall_score(y_test, y_pred, average='weighted')\n",
        "f1 = f1_score(y_test, y_pred, average='weighted')\n",
        "\n",
        "print(\"Accuracy:\", accuracy)\n",
        "print(\"Precision:\", precision)\n",
        "print(\"Recall:\", recall)\n",
        "print(\"F1-score:\", f1)\n"
      ]
    },
    {
      "cell_type": "code",
      "execution_count": 36,
      "metadata": {},
      "outputs": [
        {
          "name": "stdout",
          "output_type": "stream",
          "text": [
            "                    Feature  Importance\n",
            "9                  Systolic    0.219984\n",
            "10                Diastolic    0.200509\n",
            "6              BMI Category    0.122094\n",
            "4   Physical Activity Level    0.103911\n",
            "8               Daily Steps    0.098108\n",
            "2            Sleep Duration    0.080168\n",
            "1                       Age    0.069867\n",
            "7                Heart Rate    0.041973\n",
            "3          Quality of Sleep    0.032866\n",
            "5              Stress Level    0.017914\n",
            "0                    Gender    0.012605\n"
          ]
        }
      ],
      "source": [
        "# Evaluasi pentingnya fitur\n",
        "importances = model.feature_importances_\n",
        "feature_names = X.columns\n",
        "importance_df = pd.DataFrame({'Feature': feature_names, 'Importance': importances})\n",
        "importance_df = importance_df.sort_values(by='Importance', ascending=False)\n",
        "\n",
        "# Menampilkan tabel pentingnya fitur\n",
        "print(importance_df)"
      ]
    },
    {
      "cell_type": "markdown",
      "metadata": {},
      "source": [
        "memahami seberapa baik model dapat mengklasifikasikan atau memprediksi data dengan benar."
      ]
    },
    {
      "cell_type": "code",
      "execution_count": 37,
      "metadata": {
        "colab": {
          "base_uri": "https://localhost:8080/"
        },
        "id": "UsTPCKBL4NI8",
        "outputId": "cce9b092-db8a-498c-b3a3-74bb2073b0eb"
      },
      "outputs": [
        {
          "data": {
            "text/plain": [
              "['sleep_disorder_model.pkl']"
            ]
          },
          "execution_count": 37,
          "metadata": {},
          "output_type": "execute_result"
        }
      ],
      "source": [
        "# Simpan model ke file\n",
        "joblib.dump(model, 'sleep_disorder_model.pkl')"
      ]
    },
    {
      "cell_type": "markdown",
      "metadata": {
        "id": "OjvR4Ff34XI_"
      },
      "source": [
        "# prediction on new data"
      ]
    },
    {
      "cell_type": "code",
      "execution_count": 38,
      "metadata": {
        "id": "Qyrh9MKU4UkT"
      },
      "outputs": [],
      "source": [
        "# Load model dan label encoder\n",
        "model = joblib.load('sleep_disorder_model.pkl')\n",
        "sleep_disorder_label_encoder = joblib.load('sleep_disorder_label_encoder.pkl')"
      ]
    },
    {
      "cell_type": "code",
      "execution_count": 39,
      "metadata": {
        "id": "g83RxGoi4Zsa"
      },
      "outputs": [],
      "source": [
        "# Contoh data baru untuk prediksi\n",
        "new_data = pd.DataFrame({\n",
        "    'Gender': [1],\n",
        "    'Age': [25],\n",
        "    'Sleep Duration': [0],\n",
        "    'Quality of Sleep': [0],\n",
        "    'Physical Activity Level': [0],\n",
        "    'Stress Level': [4],\n",
        "    'BMI Category': [0],\n",
        "    'Heart Rate': [50],\n",
        "    'Daily Steps': [10],\n",
        "    'Systolic': [50],\n",
        "    'Diastolic': [30]\n",
        "})"
      ]
    },
    {
      "cell_type": "code",
      "execution_count": 40,
      "metadata": {
        "colab": {
          "base_uri": "https://localhost:8080/"
        },
        "id": "sj7aG0_G4ctX",
        "outputId": "1dbff783-79cc-4528-c05e-c4260852f993"
      },
      "outputs": [
        {
          "name": "stdout",
          "output_type": "stream",
          "text": [
            "Predicted Sleep Disorder: Healthy Sleep\n"
          ]
        }
      ],
      "source": [
        "# Prediksi gangguan tidur\n",
        "prediction = model.predict(new_data)\n",
        "predicted_label = sleep_disorder_label_encoder.inverse_transform(prediction)\n",
        "print(\"Predicted Sleep Disorder:\", predicted_label[0])"
      ]
    },
    {
      "cell_type": "code",
      "execution_count": 41,
      "metadata": {},
      "outputs": [
        {
          "name": "stdout",
          "output_type": "stream",
          "text": [
            "['Gender' 'Age' 'Sleep Duration' 'Quality of Sleep'\n",
            " 'Physical Activity Level' 'Stress Level' 'BMI Category' 'Heart Rate'\n",
            " 'Daily Steps' 'Systolic' 'Diastolic']\n"
          ]
        }
      ],
      "source": [
        "# Load the trained model\n",
        "model = joblib.load('sleep_disorder_model.pkl')\n",
        "\n",
        "# Print feature names\n",
        "print(model.feature_names_in_)\n"
      ]
    }
  ],
  "metadata": {
    "colab": {
      "provenance": []
    },
    "kernelspec": {
      "display_name": "Python 3",
      "name": "python3"
    },
    "language_info": {
      "codemirror_mode": {
        "name": "ipython",
        "version": 3
      },
      "file_extension": ".py",
      "mimetype": "text/x-python",
      "name": "python",
      "nbconvert_exporter": "python",
      "pygments_lexer": "ipython3",
      "version": "3.11.5"
    }
  },
  "nbformat": 4,
  "nbformat_minor": 0
}
